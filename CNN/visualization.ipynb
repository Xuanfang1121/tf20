{
 "cells": [
  {
   "cell_type": "markdown",
   "metadata": {},
   "source": [
    "# 1. 模型可视化\n",
    "利用tensorboard可视化模型的loss，accuracy以及变量"
   ]
  },
  {
   "cell_type": "markdown",
   "metadata": {},
   "source": [
    "# 2. CNN模型"
   ]
  },
  {
   "cell_type": "markdown",
   "metadata": {},
   "source": [
    "- 加载数据集"
   ]
  },
  {
   "cell_type": "code",
   "execution_count": 1,
   "metadata": {},
   "outputs": [],
   "source": [
    "import tensorflow as tf"
   ]
  },
  {
   "cell_type": "code",
   "execution_count": 3,
   "metadata": {},
   "outputs": [
    {
     "name": "stdout",
     "output_type": "stream",
     "text": [
      "training data shape (60000, 28, 28)\n",
      "training label shape (60000,)\n",
      "test data shape (10000, 28, 28)\n",
      "test label shape (10000,)\n"
     ]
    }
   ],
   "source": [
    "(x_train, y_train), (x_test, y_test) = tf.keras.datasets.mnist.load_data()\n",
    "print(\"training data shape\", x_train.shape)\n",
    "print(\"training label shape\", y_train.shape)\n",
    "print(\"test data shape\", x_test.shape)\n",
    "print(\"test label shape\", y_test.shape)"
   ]
  },
  {
   "cell_type": "markdown",
   "metadata": {},
   "source": [
    "- 数据集预处理"
   ]
  },
  {
   "cell_type": "code",
   "execution_count": 4,
   "metadata": {},
   "outputs": [
    {
     "name": "stdout",
     "output_type": "stream",
     "text": [
      "x_train shape (60000, 28, 28, 1)\n"
     ]
    }
   ],
   "source": [
    "x_train = x_train.astype(\"float32\")/255.0\n",
    "x_test = x_test.astype(\"float32\") / 255\n",
    "x_train = tf.expand_dims(x_train, -1)\n",
    "x_test = tf.expand_dims(x_test, -1)\n",
    "print(\"x_train shape\", x_train.shape)"
   ]
  },
  {
   "cell_type": "code",
   "execution_count": 5,
   "metadata": {},
   "outputs": [
    {
     "name": "stdout",
     "output_type": "stream",
     "text": [
      "y train label:  tf.Tensor(\n",
      "[[0. 0. 0. 0. 0. 1. 0. 0. 0. 0.]\n",
      " [1. 0. 0. 0. 0. 0. 0. 0. 0. 0.]\n",
      " [0. 0. 0. 0. 1. 0. 0. 0. 0. 0.]\n",
      " [0. 1. 0. 0. 0. 0. 0. 0. 0. 0.]], shape=(4, 10), dtype=float32)\n"
     ]
    }
   ],
   "source": [
    "## 对label进行one-hot编码\n",
    "y_train = tf.one_hot(y_train, 10)\n",
    "y_test = tf.one_hot(y_test, 10)\n",
    "print(\"y train label: \",y_train[:4])"
   ]
  },
  {
   "cell_type": "markdown",
   "metadata": {},
   "source": [
    "- 搭建CNN模型"
   ]
  },
  {
   "cell_type": "code",
   "execution_count": 7,
   "metadata": {},
   "outputs": [
    {
     "name": "stdout",
     "output_type": "stream",
     "text": [
      "Model: \"sequential_1\"\n",
      "_________________________________________________________________\n",
      "Layer (type)                 Output Shape              Param #   \n",
      "=================================================================\n",
      "conv1 (Conv2D)               (None, 28, 28, 32)        320       \n",
      "_________________________________________________________________\n",
      "conv2 (Conv2D)               (None, 28, 28, 32)        9248      \n",
      "_________________________________________________________________\n",
      "pool1 (MaxPooling2D)         (None, 14, 14, 32)        0         \n",
      "_________________________________________________________________\n",
      "conv3 (Conv2D)               (None, 14, 14, 32)        9248      \n",
      "_________________________________________________________________\n",
      "conv4 (Conv2D)               (None, 14, 14, 32)        9248      \n",
      "_________________________________________________________________\n",
      "pool2 (MaxPooling2D)         (None, 7, 7, 32)          0         \n",
      "_________________________________________________________________\n",
      "flatten (Flatten)            (None, 1568)              0         \n",
      "_________________________________________________________________\n",
      "fc1 (Dense)                  (None, 32)                50208     \n",
      "_________________________________________________________________\n",
      "fc2 (Dense)                  (None, 10)                330       \n",
      "=================================================================\n",
      "Total params: 78,602\n",
      "Trainable params: 78,602\n",
      "Non-trainable params: 0\n",
      "_________________________________________________________________\n"
     ]
    }
   ],
   "source": [
    "model = tf.keras.Sequential()\n",
    "model.add(tf.keras.layers.Conv2D(input_shape=(x_train.shape[1], x_train.shape[2], x_train.shape[3]), \n",
    "                                 filters=32, kernel_size=(3, 3),\n",
    "                                 strides=(1, 1), padding=\"same\", activation=\"relu\", name=\"conv1\"))\n",
    "model.add(tf.keras.layers.Conv2D(filters=32, kernel_size=(3, 3), strides=(1, 1), padding=\"same\", \n",
    "                                 activation=\"relu\", name=\"conv2\"))\n",
    "model.add(tf.keras.layers.MaxPool2D(pool_size=(2, 2), strides=(2, 2), padding=\"valid\", name=\"pool1\"))\n",
    "model.add(tf.keras.layers.Conv2D(filters=32, kernel_size=(3, 3), strides=(1, 1), padding=\"same\",\n",
    "                                activation=\"relu\", name=\"conv3\"))\n",
    "model.add(tf.keras.layers.Conv2D(filters=32, kernel_size=(3, 3), strides=(1, 1), padding=\"same\",\n",
    "                                activation=\"relu\", name=\"conv4\"))\n",
    "model.add(tf.keras.layers.MaxPool2D(pool_size=(2, 2), strides=(2, 2), padding=\"valid\", name=\"pool2\"))\n",
    "model.add(tf.keras.layers.Flatten())\n",
    "model.add(tf.keras.layers.Dense(32, activation=\"relu\", kernel_initializer=\"he_normal\", name=\"fc1\"))\n",
    "model.add(tf.keras.layers.Dense(10, activation=\"softmax\", kernel_initializer=\"he_normal\", name=\"fc2\"))\n",
    "model.compile(optimizer=tf.keras.optimizers.SGD(0.01),\n",
    "             loss=tf.keras.losses.CategoricalCrossentropy(),\n",
    "             metrics=[\"accuracy\"])\n",
    "model.summary()"
   ]
  },
  {
   "cell_type": "code",
   "execution_count": 10,
   "metadata": {},
   "outputs": [
    {
     "name": "stdout",
     "output_type": "stream",
     "text": [
      "Train on 54000 samples, validate on 6000 samples\n",
      "Epoch 1/10\n",
      "54000/54000 [==============================] - 37s 689us/sample - loss: 0.0389 - accuracy: 0.9876 - val_loss: 0.0465 - val_accuracy: 0.9870\n",
      "Epoch 2/10\n",
      "54000/54000 [==============================] - 38s 709us/sample - loss: 0.0358 - accuracy: 0.9884 - val_loss: 0.0528 - val_accuracy: 0.9863\n",
      "Epoch 3/10\n",
      "54000/54000 [==============================] - 38s 700us/sample - loss: 0.0343 - accuracy: 0.9889 - val_loss: 0.0490 - val_accuracy: 0.9865\n",
      "Epoch 4/10\n",
      "54000/54000 [==============================] - 38s 698us/sample - loss: 0.0324 - accuracy: 0.9901 - val_loss: 0.0469 - val_accuracy: 0.9870\n",
      "Epoch 5/10\n",
      "54000/54000 [==============================] - 38s 702us/sample - loss: 0.0299 - accuracy: 0.9906 - val_loss: 0.0486 - val_accuracy: 0.9862\n",
      "Epoch 6/10\n",
      "54000/54000 [==============================] - 38s 706us/sample - loss: 0.0283 - accuracy: 0.9909 - val_loss: 0.0426 - val_accuracy: 0.9887\n",
      "Epoch 7/10\n",
      "54000/54000 [==============================] - 38s 713us/sample - loss: 0.0269 - accuracy: 0.9914 - val_loss: 0.0443 - val_accuracy: 0.9890\n",
      "Epoch 8/10\n",
      "54000/54000 [==============================] - 38s 709us/sample - loss: 0.0248 - accuracy: 0.9923 - val_loss: 0.0480 - val_accuracy: 0.9872\n",
      "Epoch 9/10\n",
      "54000/54000 [==============================] - 37s 691us/sample - loss: 0.0245 - accuracy: 0.9919 - val_loss: 0.0460 - val_accuracy: 0.9880\n",
      "Epoch 10/10\n",
      "54000/54000 [==============================] - 39s 714us/sample - loss: 0.0219 - accuracy: 0.9930 - val_loss: 0.0446 - val_accuracy: 0.9875\n"
     ]
    },
    {
     "data": {
      "text/plain": [
       "<tensorflow.python.keras.callbacks.History at 0x7f9ba81db828>"
      ]
     },
     "execution_count": 10,
     "metadata": {},
     "output_type": "execute_result"
    }
   ],
   "source": [
    "import time\n",
    "model_path = \"/home/xiaofang/notebook/company_tf/CNN/logs/cnn_event-{}\".format(int(time.time()))\n",
    "my_callbacks = [tf.keras.callbacks.ModelCheckpoint(\"./models/cnn/mnist_cnn.h5\"),\n",
    "               tf.keras.callbacks.TensorBoard(log_dir=model_path, histogram_freq=1)]\n",
    "model.fit(x_train, y_train, batch_size=64, epochs=10, callbacks=my_callbacks, validation_split=0.1)"
   ]
  },
  {
   "cell_type": "code",
   "execution_count": null,
   "metadata": {},
   "outputs": [],
   "source": []
  }
 ],
 "metadata": {
  "kernelspec": {
   "display_name": "tensorflowgpu20",
   "language": "python",
   "name": "tensorflowgpu20"
  },
  "language_info": {
   "codemirror_mode": {
    "name": "ipython",
    "version": 3
   },
   "file_extension": ".py",
   "mimetype": "text/x-python",
   "name": "python",
   "nbconvert_exporter": "python",
   "pygments_lexer": "ipython3",
   "version": "3.6.5"
  }
 },
 "nbformat": 4,
 "nbformat_minor": 2
}
