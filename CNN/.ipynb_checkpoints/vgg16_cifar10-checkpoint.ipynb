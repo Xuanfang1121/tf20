{
 "cells": [
  {
   "cell_type": "markdown",
   "metadata": {},
   "source": [
    "# 1. VGG网络\n",
    "vgg网络介绍，常用的网络主要是vgg16和vgg19。如下图所示。\n",
    "<img src=\"./images/vgg.png\" style=\"height: 60%;width: 60%; position: relative;right:10%\">\n",
    "下图展示vgg16网络的大小变化\n",
    "<img src=\"./images/vgg16_2.png\" style=\"height: 60%;width: 60%; position: relative;right:10%\">"
   ]
  },
  {
   "cell_type": "markdown",
   "metadata": {},
   "source": [
    "# 2. cifar10数据集介绍\n",
    "CIFAR-10数据集由10个类的60000个32x32彩色图像组成，每个类有6000个图像。有50000个训练图像和10000个测试图像。\n",
    "数据集分为五个训练批次和一个测试批次，每个批次有10000个图像。测试批次包含来自每个类别的恰好1000个随机选择的图像。训练批次以随机顺序包含剩余图像，但一些训练批次可能包含来自一个类别的图像比另一个更多。总体来说，五个训练集之和包含来自每个类的正好5000张图像。\n",
    "以下是数据集中的类，以及来自每个类的10个随机图像：\n",
    "<img src=\"./images/cifar10.webp\" style=\"height: 60%;width: 60%; position: relative;right:10%\">\n",
    "这些类完全相互排斥。汽车和卡车之间没有重叠。“汽车”包括轿车，SUV，这类东西。“卡车”只包括大卡车。都不包括皮卡车。\n",
    "airplane/automobile/bird/cat/deer/dog/frog/horse/ship/truck\n",
    "- 数据集下载链接\n",
    "http://www.cs.toronto.edu/~kriz/cifar.html"
   ]
  },
  {
   "cell_type": "markdown",
   "metadata": {},
   "source": [
    "# 3. 搭建模型"
   ]
  },
  {
   "cell_type": "code",
   "execution_count": 1,
   "metadata": {},
   "outputs": [],
   "source": [
    "import tensorflow as tf"
   ]
  },
  {
   "cell_type": "markdown",
   "metadata": {},
   "source": [
    "- 加载cifar10数据集"
   ]
  },
  {
   "cell_type": "code",
   "execution_count": 2,
   "metadata": {},
   "outputs": [
    {
     "name": "stdout",
     "output_type": "stream",
     "text": [
      "x_train shape:  (50000, 32, 32, 3)\n",
      "y_train shape:  (50000, 1)\n",
      "x_test shape:  (10000, 32, 32, 3)\n",
      "y_test shape:  (50000, 1)\n"
     ]
    }
   ],
   "source": [
    "(x_train, y_train), (x_test, y_test) = tf.keras.datasets.cifar10.load_data()\n",
    "print(\"x_train shape: \", x_train.shape)\n",
    "print(\"y_train shape: \", y_train.shape)\n",
    "print(\"x_test shape: \", x_test.shape)\n",
    "print(\"y_test shape: \", y_train.shape)"
   ]
  },
  {
   "cell_type": "markdown",
   "metadata": {},
   "source": [
    "- 可视化一张图像"
   ]
  },
  {
   "cell_type": "code",
   "execution_count": 3,
   "metadata": {},
   "outputs": [
    {
     "name": "stdout",
     "output_type": "stream",
     "text": [
      "[8]\n"
     ]
    },
    {
     "data": {
      "image/png": "[encoded data removed]",
      "text/plain": [
       "<Figure size 432x288 with 1 Axes>"
      ]
     },
     "metadata": {
      "needs_background": "light"
     },
     "output_type": "display_data"
    }
   ],
   "source": [
    "import matplotlib.pyplot as plt\n",
    "plt.imshow(x_train[135])\n",
    "print(y_train[135])"
   ]
  },
  {
   "cell_type": "markdown",
   "metadata": {},
   "source": [
    "- 数据预处理"
   ]
  },
  {
   "cell_type": "code",
   "execution_count": 4,
   "metadata": {},
   "outputs": [],
   "source": [
    "import numpy as np\n",
    "x_train = x_train.astype(\"float32\")\n",
    "x_test = x_test.astype(\"float32\")\n",
    "means = np.mean(x_train, axis=(0, 1, 2, 3))\n",
    "stds = np.std(x_train, axis=(0, 1, 2, 3))\n",
    "x_train = (x_train - means) / (stds + 1e-5)\n",
    "x_test = (x_test - means) / (stds + 1e-5)"
   ]
  },
  {
   "cell_type": "code",
   "execution_count": 14,
   "metadata": {},
   "outputs": [
    {
     "name": "stdout",
     "output_type": "stream",
     "text": [
      "120.70748 64.150024\n"
     ]
    }
   ],
   "source": [
    "print(means, stds)"
   ]
  },
  {
   "cell_type": "code",
   "execution_count": 5,
   "metadata": {},
   "outputs": [],
   "source": [
    "y_train = tf.keras.utils.to_categorical(y_train, 10)\n",
    "y_train = tf.convert_to_tensor(y_train)\n",
    "y_test = tf.keras.utils.to_categorical(y_test, 10)\n",
    "y_test = tf.convert_to_tensor(y_test)\n",
    "## method 2\n",
    "# y_train = tf.one_hot(y_train, 10)\n",
    "# y_test = tf.one_hot(y_test, 10)"
   ]
  },
  {
   "cell_type": "markdown",
   "metadata": {},
   "source": [
    "- 搭建vgg网络\n",
    "  - 卷积层\n",
    "  - 池化\n",
    "  - 全连接层"
   ]
  },
  {
   "cell_type": "code",
   "execution_count": 9,
   "metadata": {},
   "outputs": [],
   "source": [
    "class VGGModel(object):\n",
    "    def __init__(self, drop_rate):\n",
    "        self.drop_rate = drop_rate\n",
    "    \n",
    "    def build_model(self):\n",
    "        \n",
    "        model = tf.keras.Sequential()\n",
    "        model.add(tf.keras.layers.Conv2D(input_shape=(32, 32, 3), filters=64, kernel_size=(3, 3), \n",
    "                                         strides=(1, 1), padding=\"same\",\n",
    "                                        activation=\"relu\", name=\"conv1\"))\n",
    "        model.add(tf.keras.layers.Conv2D(filters=64, kernel_size=(3, 3), strides=(1, 1), padding=\"same\",\n",
    "                                        activation=\"relu\", name=\"conv2\"))\n",
    "        model.add(tf.keras.layers.BatchNormalization())\n",
    "        model.add(tf.keras.layers.Dropout(0.3))\n",
    "        model.add(tf.keras.layers.MaxPool2D(pool_size=(2, 2), strides=(2, 2), padding=\"valid\", name=\"pool1\"))\n",
    "\n",
    "        model.add(tf.keras.layers.Conv2D(filters=128, kernel_size=(3, 3), strides=(1, 1), padding=\"same\",\n",
    "                                        activation=\"relu\", name=\"conv3\"))\n",
    "        model.add(tf.keras.layers.BatchNormalization())\n",
    "        model.add(tf.keras.layers.Dropout(0.3))\n",
    "        model.add(tf.keras.layers.Conv2D(filters=128, kernel_size=(3, 3), strides=(1, 1), padding=\"same\",\n",
    "                                        activation=\"relu\", name=\"conv4\"))\n",
    "        model.add(tf.keras.layers.BatchNormalization())\n",
    "        model.add(tf.keras.layers.Dropout(0.3))\n",
    "        model.add(tf.keras.layers.MaxPool2D(pool_size=(2, 2), strides=(2, 2), padding=\"valid\", name=\"pool2\"))\n",
    "\n",
    "        model.add(tf.keras.layers.Conv2D(filters=256, kernel_size=(2, 2), strides=(1, 1), padding=\"same\",\n",
    "                                        activation=\"relu\", name=\"conv5\"))\n",
    "        model.add(tf.keras.layers.BatchNormalization())\n",
    "        model.add(tf.keras.layers.Dropout(0.3))\n",
    "        model.add(tf.keras.layers.Conv2D(filters=256, kernel_size=(2, 2), strides=(1, 1), padding=\"same\",\n",
    "                                        activation=\"relu\", name=\"conv6\"))\n",
    "        model.add(tf.keras.layers.BatchNormalization())\n",
    "        model.add(tf.keras.layers.Dropout(0.3))\n",
    "        model.add(tf.keras.layers.Conv2D(filters=256, kernel_size=(2, 2), strides=(1, 1), padding=\"same\",\n",
    "                                        activation=\"relu\", name=\"conv7\"))\n",
    "        model.add(tf.keras.layers.BatchNormalization())\n",
    "        model.add(tf.keras.layers.Dropout(0.3))\n",
    "        model.add(tf.keras.layers.MaxPool2D(pool_size=(2, 2), strides=(2, 2), padding=\"valid\"))\n",
    "\n",
    "\n",
    "        model.add(tf.keras.layers.Conv2D(filters=512, kernel_size=(2, 2), strides=(1, 1), padding=\"same\",\n",
    "                                        activation=\"relu\", name=\"conv8\"))\n",
    "        model.add(tf.keras.layers.BatchNormalization())\n",
    "        model.add(tf.keras.layers.Dropout(0.4))\n",
    "        model.add(tf.keras.layers.Conv2D(filters=512, kernel_size=(2, 2), strides=(1, 1), padding=\"same\",\n",
    "                                        activation=\"relu\", name=\"conv9\"))\n",
    "        model.add(tf.keras.layers.BatchNormalization())\n",
    "        model.add(tf.keras.layers.Dropout(0.4))\n",
    "        model.add(tf.keras.layers.Conv2D(filters=512, kernel_size=(2, 2), strides=(1, 1), padding=\"same\",\n",
    "                                        activation=\"relu\", name=\"conv10\"))\n",
    "        model.add(tf.keras.layers.BatchNormalization())\n",
    "        model.add(tf.keras.layers.Dropout(0.4))\n",
    "        model.add(tf.keras.layers.MaxPool2D(pool_size=(2, 2), strides=(2, 2), padding=\"valid\"))\n",
    "\n",
    "\n",
    "        model.add(tf.keras.layers.Conv2D(filters=512, kernel_size=(2, 2), strides=(1, 1), padding=\"same\",\n",
    "                                        activation=\"relu\", name=\"conv11\"))\n",
    "        model.add(tf.keras.layers.BatchNormalization())\n",
    "        model.add(tf.keras.layers.Dropout(0.4))\n",
    "        model.add(tf.keras.layers.Conv2D(filters=512, kernel_size=(2, 2), strides=(1, 1), padding=\"same\",\n",
    "                                        activation=\"relu\", name=\"conv12\"))\n",
    "        model.add(tf.keras.layers.BatchNormalization())\n",
    "        model.add(tf.keras.layers.Dropout(0.4))\n",
    "        model.add(tf.keras.layers.Conv2D(filters=512, kernel_size=(2, 2), strides=(1, 1), padding=\"same\",\n",
    "                                        activation=\"relu\", name=\"conv13\"))\n",
    "        model.add(tf.keras.layers.BatchNormalization())\n",
    "        model.add(tf.keras.layers.Dropout(0.4))\n",
    "        model.add(tf.keras.layers.MaxPool2D(pool_size=(2, 2), strides=(2, 2), padding=\"valid\"))\n",
    "\n",
    "        model.add(tf.keras.layers.Flatten())\n",
    "        model.add(tf.keras.layers.Dense(512, activation=\"relu\", name=\"fc1\"))\n",
    "        model.add(tf.keras.layers.Dropout(self.drop_rate))\n",
    "        model.add(tf.keras.layers.Dense(256, activation=\"relu\", name=\"fc2\"))\n",
    "        model.add(tf.keras.layers.Dropout(self.drop_rate))\n",
    "        model.add(tf.keras.layers.Dense(10, activation=\"softmax\"))\n",
    "        model.compile(optimizer=tf.keras.optimizers.SGD(0.01),\n",
    "                     loss=tf.keras.losses.CategoricalCrossentropy(),\n",
    "                     metrics=['accuracy'])\n",
    "        return model"
   ]
  },
  {
   "cell_type": "markdown",
   "metadata": {},
   "source": [
    "- 训练\n",
    "   - 采用ImageDataGenerator对数据集做处理旋转，shift处理"
   ]
  },
  {
   "cell_type": "code",
   "execution_count": 12,
   "metadata": {},
   "outputs": [
    {
     "name": "stdout",
     "output_type": "stream",
     "text": [
      "Reading model parameters from ./models/vgg/vgg_cifar10.h5\n",
      "Model: \"sequential_1\"\n",
      "_________________________________________________________________\n",
      "Layer (type)                 Output Shape              Param #   \n",
      "=================================================================\n",
      "conv1 (Conv2D)               (None, 32, 32, 64)        1792      \n",
      "_________________________________________________________________\n",
      "conv2 (Conv2D)               (None, 32, 32, 64)        36928     \n",
      "_________________________________________________________________\n",
      "batch_normalization_12 (Batc (None, 32, 32, 64)        256       \n",
      "_________________________________________________________________\n",
      "dropout_14 (Dropout)         (None, 32, 32, 64)        0         \n",
      "_________________________________________________________________\n",
      "pool1 (MaxPooling2D)         (None, 16, 16, 64)        0         \n",
      "_________________________________________________________________\n",
      "conv3 (Conv2D)               (None, 16, 16, 128)       73856     \n",
      "_________________________________________________________________\n",
      "batch_normalization_13 (Batc (None, 16, 16, 128)       512       \n",
      "_________________________________________________________________\n",
      "dropout_15 (Dropout)         (None, 16, 16, 128)       0         \n",
      "_________________________________________________________________\n",
      "conv4 (Conv2D)               (None, 16, 16, 128)       147584    \n",
      "_________________________________________________________________\n",
      "batch_normalization_14 (Batc (None, 16, 16, 128)       512       \n",
      "_________________________________________________________________\n",
      "dropout_16 (Dropout)         (None, 16, 16, 128)       0         \n",
      "_________________________________________________________________\n",
      "pool2 (MaxPooling2D)         (None, 8, 8, 128)         0         \n",
      "_________________________________________________________________\n",
      "conv5 (Conv2D)               (None, 8, 8, 256)         131328    \n",
      "_________________________________________________________________\n",
      "batch_normalization_15 (Batc (None, 8, 8, 256)         1024      \n",
      "_________________________________________________________________\n",
      "dropout_17 (Dropout)         (None, 8, 8, 256)         0         \n",
      "_________________________________________________________________\n",
      "conv6 (Conv2D)               (None, 8, 8, 256)         262400    \n",
      "_________________________________________________________________\n",
      "batch_normalization_16 (Batc (None, 8, 8, 256)         1024      \n",
      "_________________________________________________________________\n",
      "dropout_18 (Dropout)         (None, 8, 8, 256)         0         \n",
      "_________________________________________________________________\n",
      "conv7 (Conv2D)               (None, 8, 8, 256)         262400    \n",
      "_________________________________________________________________\n",
      "batch_normalization_17 (Batc (None, 8, 8, 256)         1024      \n",
      "_________________________________________________________________\n",
      "dropout_19 (Dropout)         (None, 8, 8, 256)         0         \n",
      "_________________________________________________________________\n",
      "max_pooling2d_3 (MaxPooling2 (None, 4, 4, 256)         0         \n",
      "_________________________________________________________________\n",
      "conv8 (Conv2D)               (None, 4, 4, 512)         524800    \n",
      "_________________________________________________________________\n",
      "batch_normalization_18 (Batc (None, 4, 4, 512)         2048      \n",
      "_________________________________________________________________\n",
      "dropout_20 (Dropout)         (None, 4, 4, 512)         0         \n",
      "_________________________________________________________________\n",
      "conv9 (Conv2D)               (None, 4, 4, 512)         1049088   \n",
      "_________________________________________________________________\n",
      "batch_normalization_19 (Batc (None, 4, 4, 512)         2048      \n",
      "_________________________________________________________________\n",
      "dropout_21 (Dropout)         (None, 4, 4, 512)         0         \n",
      "_________________________________________________________________\n",
      "conv10 (Conv2D)              (None, 4, 4, 512)         1049088   \n",
      "_________________________________________________________________\n",
      "batch_normalization_20 (Batc (None, 4, 4, 512)         2048      \n",
      "_________________________________________________________________\n",
      "dropout_22 (Dropout)         (None, 4, 4, 512)         0         \n",
      "_________________________________________________________________\n",
      "max_pooling2d_4 (MaxPooling2 (None, 2, 2, 512)         0         \n",
      "_________________________________________________________________\n",
      "conv11 (Conv2D)              (None, 2, 2, 512)         1049088   \n",
      "_________________________________________________________________\n",
      "batch_normalization_21 (Batc (None, 2, 2, 512)         2048      \n",
      "_________________________________________________________________\n",
      "dropout_23 (Dropout)         (None, 2, 2, 512)         0         \n",
      "_________________________________________________________________\n",
      "conv12 (Conv2D)              (None, 2, 2, 512)         1049088   \n",
      "_________________________________________________________________\n",
      "batch_normalization_22 (Batc (None, 2, 2, 512)         2048      \n",
      "_________________________________________________________________\n",
      "dropout_24 (Dropout)         (None, 2, 2, 512)         0         \n",
      "_________________________________________________________________\n",
      "conv13 (Conv2D)              (None, 2, 2, 512)         1049088   \n",
      "_________________________________________________________________\n",
      "batch_normalization_23 (Batc (None, 2, 2, 512)         2048      \n",
      "_________________________________________________________________\n",
      "dropout_25 (Dropout)         (None, 2, 2, 512)         0         \n",
      "_________________________________________________________________\n",
      "max_pooling2d_5 (MaxPooling2 (None, 1, 1, 512)         0         \n",
      "_________________________________________________________________\n",
      "flatten_1 (Flatten)          (None, 512)               0         \n",
      "_________________________________________________________________\n",
      "fc1 (Dense)                  (None, 512)               262656    \n",
      "_________________________________________________________________\n",
      "dropout_26 (Dropout)         (None, 512)               0         \n",
      "_________________________________________________________________\n",
      "fc2 (Dense)                  (None, 256)               131328    \n",
      "_________________________________________________________________\n",
      "dropout_27 (Dropout)         (None, 256)               0         \n",
      "_________________________________________________________________\n",
      "dense_1 (Dense)              (None, 10)                2570      \n",
      "=================================================================\n",
      "Total params: 7,099,722\n",
      "Trainable params: 7,091,402\n",
      "Non-trainable params: 8,320\n",
      "_________________________________________________________________\n",
      "WARNING:tensorflow:sample_weight modes were coerced from\n",
      "  ...\n",
      "    to  \n",
      "  ['...']\n",
      "Train for 781 steps, validate on 10000 samples\n",
      "Epoch 1/3\n",
      "781/781 [==============================] - 525s 672ms/step - loss: 1.4688 - accuracy: 0.4375 - val_loss: 1.6759 - val_accuracy: 0.3751\n",
      "Epoch 2/3\n",
      "781/781 [==============================] - 516s 661ms/step - loss: 1.4279 - accuracy: 0.4623 - val_loss: 1.4860 - val_accuracy: 0.4358\n",
      "Epoch 3/3\n",
      "781/781 [==============================] - 518s 663ms/step - loss: 1.3815 - accuracy: 0.4799 - val_loss: 1.5397 - val_accuracy: 0.4146\n"
     ]
    }
   ],
   "source": [
    "import time\n",
    "import os\n",
    "import sys\n",
    "datagen = tf.keras.preprocessing.image.ImageDataGenerator(featurewise_center=False,  # set input mean to 0 over the dataset\n",
    "            samplewise_center=False,  # set each sample mean to 0\n",
    "            featurewise_std_normalization=False,  # divide inputs by std of the dataset\n",
    "            samplewise_std_normalization=False,  # divide each input by its std\n",
    "            zca_whitening=False,  # apply ZCA whitening\n",
    "            rotation_range=15,  # randomly rotate images in the range (degrees, 0 to 180)\n",
    "            width_shift_range=0.1,  # randomly shift images horizontally (fraction of total width)\n",
    "            height_shift_range=0.1,  # randomly shift images vertically (fraction of total height)\n",
    "            horizontal_flip=True,  # randomly flip images\n",
    "            vertical_flip=False) #\n",
    "datagen.fit(x_train)\n",
    "## 训练模型\n",
    "ckpt = tf.io.gfile.listdir(\"./models/vgg/\")\n",
    "if ckpt:\n",
    "    model_file = os.path.join(\"./models/vgg/\", ckpt[-1])\n",
    "    print(\"Reading model parameters from %s\" % model_file)\n",
    "    ## 加载模型\n",
    "    model = tf.keras.models.load_model(model_file)\n",
    "    model.summary()\n",
    "else:\n",
    "    vgg = VGGModel(0.3)\n",
    "    model = vgg.build_model()\n",
    "    model.summary()\n",
    "\n",
    "if not os.path.exists(\"./logs_vgg/\"):\n",
    "    os.mkdir(\"./logs_vgg/\")\n",
    "log_dir = \"./logs_vgg/vgg_cifar10_event-{}\".format(int(time.time()))\n",
    "my_callbacks = [tf.keras.callbacks.TensorBoard(log_dir=log_dir, histogram_freq=1)]\n",
    "model.fit_generator(datagen.flow(x_train, y_train, batch_size=64), \n",
    "                    steps_per_epoch=x_train.shape[0] // 64, epochs=3, validation_data=(x_test, y_test),\n",
    "                    callbacks=my_callbacks)\n",
    "checkpoint_file = os.path.join(\"./models/vgg/vgg_cifar10.h5\")\n",
    "model.save(checkpoint_file)\n",
    "sys.stdout.flush() ## ubuntu 显示地让缓冲区的内容输出。"
   ]
  },
  {
   "cell_type": "markdown",
   "metadata": {},
   "source": [
    "- 测试模型"
   ]
  },
  {
   "cell_type": "code",
   "execution_count": 11,
   "metadata": {},
   "outputs": [
    {
     "name": "stdout",
     "output_type": "stream",
     "text": [
      "测试准确率为：  0.3971\n"
     ]
    }
   ],
   "source": [
    "result = model.predict(x_test)\n",
    "pred_ = tf.equal(tf.argmax(result, 1), tf.argmax(y_test, 1))\n",
    "pred_ = tf.cast(pred_, dtype=tf.float32)\n",
    "accuracy = tf.reduce_mean(pred_)\n",
    "print(\"测试准确率为： \", accuracy.numpy())"
   ]
  },
  {
   "cell_type": "markdown",
   "metadata": {},
   "source": [
    "- 显示模型结构"
   ]
  },
  {
   "cell_type": "code",
   "execution_count": null,
   "metadata": {},
   "outputs": [],
   "source": [
    "from tensorflow.keras.utils import plot_model\n",
    "plot_model(model, show_shapes=True, show_layer_names=True)"
   ]
  },
  {
   "cell_type": "markdown",
   "metadata": {},
   "source": [
    "- 加载训练模型,对输入的图像做预测"
   ]
  },
  {
   "cell_type": "code",
   "execution_count": 22,
   "metadata": {},
   "outputs": [
    {
     "name": "stdout",
     "output_type": "stream",
     "text": [
      "model load success\n",
      "[0]\n",
      "airplane\n"
     ]
    }
   ],
   "source": [
    "from PIL import Image\n",
    "def read_image(data_path):\n",
    "    img = Image.open(data_path)\n",
    "    img = img.convert(\"RGB\")\n",
    "    r, g, b = img.split()\n",
    "    r_arr = np.array(r)\n",
    "    g_arr = np.array(g)\n",
    "    b_arr = np.array(b)\n",
    "    img = np.concatenate((r_arr, g_arr, b_arr))\n",
    "    img = img.reshape([1, 32, 32, 3])\n",
    "    means = 120.70748 \n",
    "    stds = 64.150024\n",
    "    img = img.astype(\"float32\")\n",
    "    img = (img - means) / (stds + 1e-5)\n",
    "    return img\n",
    "model_file = os.path.join(\"./models/vgg/vgg_cifar10.h5\")\n",
    "model = tf.keras.models.load_model(model_file)\n",
    "print(\"model load success\")\n",
    "image = read_image(\"./deer.png\")\n",
    "result = model.predict(image)\n",
    "predict_label = tf.argmax(result, axis=1)\n",
    "predict_label = predict_label.numpy()\n",
    "label_dict = {\"0\" : \"airplane\", \"1\": \"automobile\", \"2\": \"bird\", \"3\": \"cat\", \"4\": \"deer\",\n",
    "             \"5\": \"dog\", \"6\": \"frog\", \"7\": \"horse\", \"8\": \"ship\", \"9\": \"truck\"}\n",
    "for i in predict_label:\n",
    "    label = label_dict[str(i)]\n",
    "print(predict_label)\n",
    "print(label)"
   ]
  },
  {
   "cell_type": "markdown",
   "metadata": {},
   "source": [
    "- 调参优化模型，采用学习率衰减，检测学习率衰减"
   ]
  },
  {
   "cell_type": "code",
   "execution_count": null,
   "metadata": {},
   "outputs": [],
   "source": [
    "import time\n",
    "import os\n",
    "import sys\n",
    "datagen = tf.keras.preprocessing.image.ImageDataGenerator(featurewise_center=False,  # set input mean to 0 over the dataset\n",
    "            samplewise_center=False,  # set each sample mean to 0\n",
    "            featurewise_std_normalization=False,  # divide inputs by std of the dataset\n",
    "            samplewise_std_normalization=False,  # divide each input by its std\n",
    "            zca_whitening=False,  # apply ZCA whitening\n",
    "            rotation_range=15,  # randomly rotate images in the range (degrees, 0 to 180)\n",
    "            width_shift_range=0.1,  # randomly shift images horizontally (fraction of total width)\n",
    "            height_shift_range=0.1,  # randomly shift images vertically (fraction of total height)\n",
    "            horizontal_flip=True,  # randomly flip images\n",
    "            vertical_flip=False) #\n",
    "datagen.fit(x_train)\n",
    "## 训练模型\n",
    "if not os.path.exists(\"./models/vgg_lr/\"):\n",
    "    os.mkdir(\"./models/vgg_lr/\")\n",
    "ckpt = tf.io.gfile.listdir(\"./models/vgg_lr/\")\n",
    "if ckpt:\n",
    "    ## 加载训练好的模型\n",
    "    model_file = os.path.join(\"./models/vgg_lr/\", ckpt[-1]) ## 加载最新的模型文件\n",
    "    model = tf.keras.models.load_model(model_file)\n",
    "else:\n",
    "    model = VGGModel(0.3)\n",
    "    model = model.build_model()\n",
    "    model.summary()\n",
    "\n",
    "\n",
    "def lr_decay(epoch):\n",
    "    initial_lr = 0.01\n",
    "    drop = 0.5\n",
    "    epochs_drop = 20\n",
    "    lr = initial_lr * math.pow(drop, math.floor((1 + epoch)/epochs_drop))\n",
    "    return lr\n",
    "\n",
    "\n",
    "if not os.path.exists(\"/home/xiaofang/notebook/company_tf/CNN/logs_vgg/\"):\n",
    "    os.mkdir(\"/home/xiaofang/notebook/company_tf/CNN/logs_vgg/\")\n",
    "log_dir = \"/home/xiaofang/notebook/company_tf/CNN/logs_vgg/vgg_cifar10_event-{}\".format(int(time.time()))\n",
    "my_callbacks = [tf.keras.callbacks.TensorBoard(log_dir=log_dir, histogram_freq=1),\n",
    "               tf.keras.callbacks.LearningRateScheduler(lr_decay)]\n",
    "\n",
    "model.fit_generator(datagen.flow(x_train, y_train, batch_size=64), \n",
    "                    steps_per_epoch=x_train.shape[0] // 64, epochs=200, validation_data=(x_test, y_test),\n",
    "                    callbacks=my_callbacks)\n",
    "checkpoint_path = os.path.join(\"./models/vgg_lr/\", \"vgg_cifar10.h5\")\n",
    "model.save(checkpoint_path)\n",
    "sys.stdout.flush()"
   ]
  },
  {
   "cell_type": "code",
   "execution_count": null,
   "metadata": {},
   "outputs": [],
   "source": [
    "result = model.predict(x_test)\n",
    "pred_ = tf.equal(tf.argmax(result, 1), tf.argmax(y_test, 1))\n",
    "pred_ = tf.cast(pred_, dtype=tf.float32)\n",
    "accuracy = tf.reduce_mean(pred_)\n",
    "print(\"测试准确率为： \", accuracy.numpy())"
   ]
  },
  {
   "cell_type": "markdown",
   "metadata": {},
   "source": [
    "- 卷积核kernel参数初始化\n",
    "   - glorot_normal\n",
    "   - glorot_uniform 是默认的方式\n",
    "   - he_normal\n",
    "   - he_uniform等"
   ]
  },
  {
   "cell_type": "code",
   "execution_count": null,
   "metadata": {},
   "outputs": [],
   "source": [
    "class VGGModel(object):\n",
    "    def __init__(self, drop_rate):\n",
    "        self.drop_rate = drop_rate\n",
    "    \n",
    "    def build_model(self):\n",
    "        \n",
    "        model = tf.keras.Sequential()\n",
    "        model.add(tf.keras.layers.Conv2D(input_shape=(32, 32, 3), filters=64, kernel_size=(3, 3), \n",
    "                                         strides=(1, 1), padding=\"same\", activation=\"relu\", \n",
    "                                         kernel_initializer=\"glorot_normal\", name=\"conv1\"))\n",
    "        model.add(tf.keras.layers.Conv2D(filters=64, kernel_size=(3, 3), strides=(1, 1), padding=\"same\",\n",
    "                                        activation=\"relu\", kernel_initializer=\"glorot_normal\", name=\"conv2\"))\n",
    "        model.add(tf.keras.layers.BatchNormalization())\n",
    "        model.add(tf.keras.layers.Dropout(0.3))\n",
    "        model.add(tf.keras.layers.MaxPool2D(pool_size=(2, 2), strides=(2, 2), padding=\"valid\", name=\"pool1\"))\n",
    "\n",
    "        model.add(tf.keras.layers.Conv2D(filters=128, kernel_size=(3, 3), strides=(1, 1), padding=\"same\",\n",
    "                                        activation=\"relu\", kernel_initializer=\"glorot_normal\", name=\"conv3\"))\n",
    "        model.add(tf.keras.layers.BatchNormalization())\n",
    "        model.add(tf.keras.layers.Dropout(0.3))\n",
    "        model.add(tf.keras.layers.Conv2D(filters=128, kernel_size=(3, 3), strides=(1, 1), padding=\"same\",\n",
    "                                        activation=\"relu\", kernel_initializer=\"glorot_normal\", name=\"conv4\"))\n",
    "        model.add(tf.keras.layers.BatchNormalization())\n",
    "        model.add(tf.keras.layers.Dropout(0.3))\n",
    "        model.add(tf.keras.layers.MaxPool2D(pool_size=(2, 2), strides=(2, 2), padding=\"valid\", name=\"pool2\"))\n",
    "\n",
    "        model.add(tf.keras.layers.Conv2D(filters=256, kernel_size=(2, 2), strides=(1, 1), padding=\"same\",\n",
    "                                        activation=\"relu\", kernel_initializer=\"glorot_normal\", name=\"conv5\"))\n",
    "        model.add(tf.keras.layers.BatchNormalization())\n",
    "        model.add(tf.keras.layers.Dropout(0.3))\n",
    "        model.add(tf.keras.layers.Conv2D(filters=256, kernel_size=(2, 2), strides=(1, 1), padding=\"same\",\n",
    "                                        activation=\"relu\", kernel_initializer=\"glorot_normal\", name=\"conv6\"))\n",
    "        model.add(tf.keras.layers.BatchNormalization())\n",
    "        model.add(tf.keras.layers.Dropout(0.3))\n",
    "        model.add(tf.keras.layers.Conv2D(filters=256, kernel_size=(2, 2), strides=(1, 1), padding=\"same\",\n",
    "                                        activation=\"relu\", kernel_initializer=\"glorot_normal\", name=\"conv7\"))\n",
    "        model.add(tf.keras.layers.BatchNormalization())\n",
    "        model.add(tf.keras.layers.Dropout(0.3))\n",
    "        model.add(tf.keras.layers.MaxPool2D(pool_size=(2, 2), strides=(2, 2), padding=\"valid\"))\n",
    "\n",
    "\n",
    "        model.add(tf.keras.layers.Conv2D(filters=512, kernel_size=(2, 2), strides=(1, 1), padding=\"same\",\n",
    "                                        activation=\"relu\", kernel_initializer=\"glorot_normal\", name=\"conv8\"))\n",
    "        model.add(tf.keras.layers.BatchNormalization())\n",
    "        model.add(tf.keras.layers.Dropout(0.4))\n",
    "        model.add(tf.keras.layers.Conv2D(filters=512, kernel_size=(2, 2), strides=(1, 1), padding=\"same\",\n",
    "                                        activation=\"relu\", kernel_initializer=\"glorot_normal\", name=\"conv9\"))\n",
    "        model.add(tf.keras.layers.BatchNormalization())\n",
    "        model.add(tf.keras.layers.Dropout(0.4))\n",
    "        model.add(tf.keras.layers.Conv2D(filters=512, kernel_size=(2, 2), strides=(1, 1), padding=\"same\",\n",
    "                                        activation=\"relu\", kernel_initializer=\"glorot_normal\", name=\"conv10\"))\n",
    "        model.add(tf.keras.layers.BatchNormalization())\n",
    "        model.add(tf.keras.layers.Dropout(0.4))\n",
    "        model.add(tf.keras.layers.MaxPool2D(pool_size=(2, 2), strides=(2, 2), padding=\"valid\"))\n",
    "\n",
    "\n",
    "        model.add(tf.keras.layers.Conv2D(filters=512, kernel_size=(2, 2), strides=(1, 1), padding=\"same\",\n",
    "                                        activation=\"relu\", kernel_initializer=\"glorot_normal\",name=\"conv11\"))\n",
    "        model.add(tf.keras.layers.BatchNormalization())\n",
    "        model.add(tf.keras.layers.Dropout(0.4))\n",
    "        model.add(tf.keras.layers.Conv2D(filters=512, kernel_size=(2, 2), strides=(1, 1), padding=\"same\",\n",
    "                                        activation=\"relu\", kernel_initializer=\"glorot_normal\", name=\"conv12\"))\n",
    "        model.add(tf.keras.layers.BatchNormalization())\n",
    "        model.add(tf.keras.layers.Dropout(0.4))\n",
    "        model.add(tf.keras.layers.Conv2D(filters=512, kernel_size=(2, 2), strides=(1, 1), padding=\"same\",\n",
    "                                        activation=\"relu\", kernel_initializer=\"glorot_normal\", name=\"conv13\"))\n",
    "        model.add(tf.keras.layers.BatchNormalization())\n",
    "        model.add(tf.keras.layers.Dropout(0.4))\n",
    "        model.add(tf.keras.layers.MaxPool2D(pool_size=(2, 2), strides=(2, 2), padding=\"valid\"))\n",
    "\n",
    "        model.add(tf.keras.layers.Flatten())\n",
    "        model.add(tf.keras.layers.Dense(512, activation=\"relu\", name=\"fc1\"))\n",
    "        model.add(tf.keras.layers.Dropout(self.drop_rate))\n",
    "        model.add(tf.keras.layers.Dense(256, activation=\"relu\", name=\"fc2\"))\n",
    "        model.add(tf.keras.layers.Dropout(self.drop_rate))\n",
    "        model.add(tf.keras.layers.Dense(10, activation=\"softmax\"))\n",
    "        model.compile(optimizer=tf.keras.optimizers.SGD(0.01),\n",
    "                     loss=tf.keras.losses.CategoricalCrossentropy(),\n",
    "                     metrics=['accuracy'])\n",
    "        return model"
   ]
  },
  {
   "cell_type": "code",
   "execution_count": null,
   "metadata": {},
   "outputs": [],
   "source": [
    "import time\n",
    "import os\n",
    "import sys\n",
    "datagen = tf.keras.preprocessing.image.ImageDataGenerator(featurewise_center=False,  # set input mean to 0 over the dataset\n",
    "            samplewise_center=False,  # set each sample mean to 0\n",
    "            featurewise_std_normalization=False,  # divide inputs by std of the dataset\n",
    "            samplewise_std_normalization=False,  # divide each input by its std\n",
    "            zca_whitening=False,  # apply ZCA whitening\n",
    "            rotation_range=15,  # randomly rotate images in the range (degrees, 0 to 180)\n",
    "            width_shift_range=0.1,  # randomly shift images horizontally (fraction of total width)\n",
    "            height_shift_range=0.1,  # randomly shift images vertically (fraction of total height)\n",
    "            horizontal_flip=True,  # randomly flip images\n",
    "            vertical_flip=False) #\n",
    "datagen.fit(x_train)\n",
    "## 训练模型\n",
    "ckpt = tf.io.gfile.listdir(\"./models/vgg/\")\n",
    "if ckpt:\n",
    "    model_file = os.path.join(\"./models/vgg/\", ckpt[-1])\n",
    "    print(\"Reading model parameters from %s\" % model_file)\n",
    "    ## 加载模型\n",
    "    model = tf.keras.models.load_model(model_file)\n",
    "    model.summary()\n",
    "else:\n",
    "    vgg = VGGModel(0.3)\n",
    "    model = vgg.build_model()\n",
    "    model.summary()\n",
    "\n",
    "if not os.path.exists(\"./logs_vgg/\"):\n",
    "    os.mkdir(\"./logs_vgg/\")\n",
    "log_dir = \"./logs_vgg/vgg_cifar10_event-{}\".format(int(time.time()))\n",
    "my_callbacks = [tf.keras.callbacks.TensorBoard(log_dir=log_dir, histogram_freq=1)]\n",
    "model.fit_generator(datagen.flow(x_train, y_train, batch_size=64), \n",
    "                    steps_per_epoch=x_train.shape[0] // 64, epochs=3, validation_data=(x_test, y_test),\n",
    "                    callbacks=my_callbacks)\n",
    "checkpoint_file = os.path.join(\"./models/vgg/vgg_cifar10.h5\")\n",
    "model.save(checkpoint_file)\n",
    "sys.stdout.flush()"
   ]
  },
  {
   "cell_type": "code",
   "execution_count": null,
   "metadata": {},
   "outputs": [],
   "source": [
    "result = model.predict(x_test)\n",
    "pred_ = tf.equal(tf.argmax(result, 1), tf.argmax(y_test, 1))\n",
    "pred_ = tf.cast(pred_, dtype=tf.float32)\n",
    "accuracy = tf.reduce_mean(pred_)\n",
    "print(\"测试准确率为： \", accuracy.numpy())"
   ]
  }
 ],
 "metadata": {
  "kernelspec": {
   "display_name": "tensorflowgpu20",
   "language": "python",
   "name": "tensorflowgpu20"
  },
  "language_info": {
   "codemirror_mode": {
    "name": "ipython",
    "version": 3
   },
   "file_extension": ".py",
   "mimetype": "text/x-python",
   "name": "python",
   "nbconvert_exporter": "python",
   "pygments_lexer": "ipython3",
   "version": "3.6.5"
  }
 },
 "nbformat": 4,
 "nbformat_minor": 2
}
