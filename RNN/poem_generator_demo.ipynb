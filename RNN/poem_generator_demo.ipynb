{
 "cells": [
  {
   "cell_type": "markdown",
   "metadata": {},
   "source": [
    "# 文本生成--古诗生成器\n",
    "解决文本生成这个问题的深度学习模型，最常见的是借助于语言模型，或者seq2seq这种encoder-decoder模型。我们这里使用最经典的语言模型，借助LSTM构建一个AI文本生成器。这个demo是使用rnn生成古诗，进行文本创作。\n",
    "- ## 模型展示<br />\n",
    "  输入：乱军交白刃，<br />\n",
    "  输出：一骑出黄尘。汉节同归阙，江帆共逐臣。<br />\n",
    "- ## 数据展示\n",
    "<img src=\"./images/wordcloud_poem.png\" width=800px>\n",
    "- ## 代码结构说明\n",
    "  - 选取选练数据集\n",
    "  - 编码数据集\n",
    "  - 模型训练数据集准备\n",
    "  - 搭建模型\n",
    "  - 训练模型\n",
    "  - 预测"
   ]
  },
  {
   "cell_type": "code",
   "execution_count": 1,
   "metadata": {},
   "outputs": [],
   "source": [
    "import tensorflow as tf\n",
    "import math\n",
    "import re\n",
    "import numpy as np\n",
    "from collections import Counter\n",
    "import random\n",
    "import time\n",
    "import os"
   ]
  },
  {
   "cell_type": "markdown",
   "metadata": {},
   "source": [
    "## 数据集准备\n",
    "- 选取诗句"
   ]
  },
  {
   "cell_type": "code",
   "execution_count": 2,
   "metadata": {},
   "outputs": [],
   "source": [
    "data_path = \"./data/poetry/poetry.txt\"\n",
    "max_len = 56\n",
    "disallowed_words = [\"（\", \"）\", \"(\", \")\", \"__\", \"《\", \"》\", \"【\", \"】\", \"[\", \"]\"]\n",
    "poetry = []\n",
    "with open(data_path, \"r\", encoding=\"utf-8\") as f:\n",
    "    lines = f.readlines()\n",
    "## 提取诗句数据集\n",
    "poetry = []\n",
    "for line in lines:\n",
    "    context = re.split(r\"[：:]\", line)\n",
    "    ## 过滤掉长度不为2的诗句\n",
    "    if len(context) != 2:\n",
    "        continue\n",
    "    ## 取诗句\n",
    "    poem = context[1]\n",
    "    if len(poem) > max_len:\n",
    "        continue\n",
    "    if any(word in poem for word in disallowed_words):\n",
    "        continue\n",
    "    poetry.append(poem.replace(\"\\n\", \"\"))\n",
    "## 删除空诗句\n",
    "poetry = [poem for poem in poetry if len(poem) >=6]"
   ]
  },
  {
   "cell_type": "code",
   "execution_count": 3,
   "metadata": {},
   "outputs": [
    {
     "name": "stdout",
     "output_type": "stream",
     "text": [
      "training data length:  23880\n",
      "寒随穷律变，春逐鸟声开。初风飘带柳，晚雪间花梅。碧林青旧竹，绿沼翠新苔。芝田初雁去，绮树巧莺来。\n",
      "晚霞聊自怡，初晴弥可喜。日晃百花色，风动千林翠。池鱼跃不同，园鸟声还异。寄言博通者，知予物外志。\n",
      "夏律昨留灰，秋箭今移晷。峨嵋岫初出，洞庭波渐起。桂白发幽岩，菊黄开灞涘。运流方可叹，含毫属微理。\n",
      "寒惊蓟门叶，秋发小山枝。松阴背日转，竹影避风移。提壶菊花岸，高兴芙蓉池。欲知凉气早，巢空燕不窥。\n",
      "山亭秋色满，岩牖凉风度。疏兰尚染烟，残菊犹承露。古石衣新苔，新巢封古树。历览情无极，咫尺轮光暮。\n",
      "翠野驻戎轩，卢龙转征旆。遥山丽如绮，长流萦似带。海气百重楼，岩松千丈盖。兹焉可游赏，何必襄城外。\n",
      "春蒐驰骏骨，总辔俯长河。霞处流萦锦，风前漾卷罗。水花翻照树，堤兰倒插波。岂必汾阴曲，秋云发棹歌。\n"
     ]
    }
   ],
   "source": [
    "print(\"training data length: \", len(poetry))\n",
    "for i in range(7):\n",
    "    print(poetry[i])"
   ]
  },
  {
   "cell_type": "code",
   "execution_count": 4,
   "metadata": {},
   "outputs": [
    {
     "name": "stdout",
     "output_type": "stream",
     "text": [
      "6 55\n",
      "[48, 48, 48, 48, 48, 48, 48, 48, 48, 48]\n"
     ]
    }
   ],
   "source": [
    "## 诗句长度统计\n",
    "lengths = [len(poem) for poem in poetry]\n",
    "print(min(lengths), max(lengths))\n",
    "print(lengths[:10])"
   ]
  },
  {
   "cell_type": "code",
   "execution_count": 5,
   "metadata": {},
   "outputs": [],
   "source": [
    "with open(\"./data/training_data.txt\", \"w\", encoding=\"utf-8\") as f:\n",
    "    for iterm in poetry:\n",
    "        f.write(iterm + \"\\n\")\n",
    "    f.close()"
   ]
  },
  {
   "cell_type": "markdown",
   "metadata": {},
   "source": [
    "## 编码数据集"
   ]
  },
  {
   "cell_type": "markdown",
   "metadata": {},
   "source": [
    "- ### 构建字典"
   ]
  },
  {
   "cell_type": "code",
   "execution_count": 6,
   "metadata": {},
   "outputs": [
    {
     "name": "stdout",
     "output_type": "stream",
     "text": [
      "create dictionary\n",
      "dictionary word numbers:  5555\n"
     ]
    }
   ],
   "source": [
    "dicts = dict()\n",
    "for poem in poetry:\n",
    "    for word in poem:\n",
    "        if word in dicts:\n",
    "            dicts[word] += 1\n",
    "        else:\n",
    "            dicts[word] = 1\n",
    "print(\"create dictionary\")\n",
    "pad = \"__PAD__\"\n",
    "unk = \"__UNK__\"\n",
    "start = \"__START__\"\n",
    "end = \"__END__\"\n",
    "start_list = [pad, unk, start, end]\n",
    "dictionary = start_list + sorted(dicts, key=dicts.get, reverse=True)\n",
    "print(\"dictionary word numbers: \", len(dictionary))"
   ]
  },
  {
   "cell_type": "code",
   "execution_count": 7,
   "metadata": {},
   "outputs": [],
   "source": [
    "## save dictionary\n",
    "with open('./data/vocab.txt', 'w', encoding='utf-8') as f:\n",
    "    for word in dictionary:\n",
    "        f.write(word + '\\n')\n",
    "    f.close()"
   ]
  },
  {
   "cell_type": "markdown",
   "metadata": {},
   "source": [
    "- ### 对数据进行编码"
   ]
  },
  {
   "cell_type": "code",
   "execution_count": 8,
   "metadata": {},
   "outputs": [],
   "source": [
    "word2index = []\n",
    "word2index = dict((value, key) for key, value in enumerate(dictionary))\n",
    "index2word = dict((key, value) for key, value in enumerate(dictionary))\n",
    "data_encoder = []\n",
    "## 这里每一个诗句加入了开始符号与结束符号\n",
    "for poem in poetry:\n",
    "    poem_encoder = [2,]\n",
    "    for word in poem:\n",
    "        poem_encoder.append(word2index.get(word, 0))\n",
    "    poem_encoder.append(3)\n",
    "    data_encoder.append(poem_encoder)"
   ]
  },
  {
   "cell_type": "code",
   "execution_count": 9,
   "metadata": {},
   "outputs": [
    {
     "name": "stdout",
     "output_type": "stream",
     "text": [
      "逗号的encoder:  4\n",
      "句号的encoder:  5\n",
      "[[2, 48, 185, 404, 1144, 677, 4, 14, 335, 135, 63, 88, 5, 182, 9, 531, 302, 165, 4, 157, 87, 161, 15, 478, 5, 245, 111, 64, 130, 152, 4, 218, 1861, 274, 81, 371, 5, 1232, 353, 182, 250, 33, 4, 828, 68, 1530, 535, 16, 5, 3], [2, 157, 362, 876, 40, 2490, 4, 182, 318, 1610, 151, 490, 5, 10, 3663, 253, 15, 89, 4, 9, 286, 80, 111, 274, 5, 212, 328, 1724, 6, 119, 4, 296, 135, 63, 75, 512, 5, 292, 217, 2053, 298, 394, 4, 30, 1575, 355, 156, 877, 5, 3], [2, 599, 1144, 670, 202, 1193, 4, 24, 1279, 71, 341, 4339, 5, 1343, 2565, 1364, 182, 85, 4, 358, 208, 243, 485, 164, 5, 399, 36, 168, 226, 458, 4, 602, 183, 88, 1319, 3855, 5, 1561, 82, 174, 151, 693, 4, 390, 1399, 938, 213, 893, 5, 3]]\n"
     ]
    }
   ],
   "source": [
    "print(\"逗号的encoder: \", word2index.get(\"，\", 0))\n",
    "print(\"句号的encoder: \", word2index.get(\"。\", 0))\n",
    "print(data_encoder[:3])"
   ]
  },
  {
   "cell_type": "markdown",
   "metadata": {},
   "source": [
    "- ### 对数据进行解码"
   ]
  },
  {
   "cell_type": "code",
   "execution_count": 10,
   "metadata": {},
   "outputs": [],
   "source": [
    "datas = []\n",
    "for poem in data_encoder:\n",
    "    data = []\n",
    "    for i in range(1, len(poem)-1):\n",
    "        data.append(index2word.get(poem[i]))\n",
    "    datas.append(\"\".join(word for word in data))"
   ]
  },
  {
   "cell_type": "code",
   "execution_count": 11,
   "metadata": {},
   "outputs": [
    {
     "name": "stdout",
     "output_type": "stream",
     "text": [
      "['寒随穷律变，春逐鸟声开。初风飘带柳，晚雪间花梅。碧林青旧竹，绿沼翠新苔。芝田初雁去，绮树巧莺来。', '晚霞聊自怡，初晴弥可喜。日晃百花色，风动千林翠。池鱼跃不同，园鸟声还异。寄言博通者，知予物外志。', '夏律昨留灰，秋箭今移晷。峨嵋岫初出，洞庭波渐起。桂白发幽岩，菊黄开灞涘。运流方可叹，含毫属微理。']\n"
     ]
    }
   ],
   "source": [
    "print(datas[:3])"
   ]
  },
  {
   "cell_type": "markdown",
   "metadata": {},
   "source": [
    "- ### 对句子进行padding处理"
   ]
  },
  {
   "cell_type": "code",
   "execution_count": 12,
   "metadata": {},
   "outputs": [],
   "source": [
    "data_encoder = tf.keras.preprocessing.sequence.pad_sequences(data_encoder, maxlen=50, padding=\"post\", \n",
    "                                                             truncating=\"post\")"
   ]
  },
  {
   "cell_type": "code",
   "execution_count": 13,
   "metadata": {},
   "outputs": [
    {
     "name": "stdout",
     "output_type": "stream",
     "text": [
      "data_encoder shape (23880, 50)\n"
     ]
    }
   ],
   "source": [
    "print(\"data_encoder shape\", data_encoder.shape)"
   ]
  },
  {
   "cell_type": "markdown",
   "metadata": {},
   "source": [
    "## 构建训练数据集"
   ]
  },
  {
   "cell_type": "markdown",
   "metadata": {},
   "source": [
    "- ### 数据打乱顺序"
   ]
  },
  {
   "cell_type": "code",
   "execution_count": 14,
   "metadata": {},
   "outputs": [],
   "source": [
    "index = [i for i in range(len(data_encoder))]\n",
    "random.shuffle(index)\n",
    "data_encoder = data_encoder[index]"
   ]
  },
  {
   "cell_type": "markdown",
   "metadata": {},
   "source": [
    "- ### 生成data与label"
   ]
  },
  {
   "cell_type": "code",
   "execution_count": 15,
   "metadata": {},
   "outputs": [
    {
     "name": "stdout",
     "output_type": "stream",
     "text": [
      "train data shape:  (23880, 49)\n",
      "train label shape:  (23880, 49)\n"
     ]
    }
   ],
   "source": [
    "## data and label\n",
    "train_data = []\n",
    "train_label = []\n",
    "for i in range(data_encoder.shape[0]):\n",
    "    train_data.append(data_encoder[i][:-1])\n",
    "    train_label.append(data_encoder[i][1:])\n",
    "\n",
    "train_data = np.array(train_data)\n",
    "train_label = np.array(train_label)\n",
    "print(\"train data shape: \", train_data.shape)\n",
    "print(\"train label shape: \", train_label.shape)"
   ]
  },
  {
   "cell_type": "markdown",
   "metadata": {},
   "source": [
    "## 搭建模型"
   ]
  },
  {
   "cell_type": "code",
   "execution_count": 16,
   "metadata": {},
   "outputs": [],
   "source": [
    "class TextGeneratorModel(object):\n",
    "    def __init__(self, vocabulary_size, embedding_size, drop_rate, max_len, hidden_units):\n",
    "        self.vocabulary_size = vocabulary_size\n",
    "        self.embedding_size = embedding_size\n",
    "        # self.drop_rate  = drop_rate\n",
    "        self.max_len = max_len\n",
    "        self.hidden_units = hidden_units\n",
    "    def build_model(self):\n",
    "        model = tf.keras.Sequential()\n",
    "        model.add(tf.keras.layers.Embedding(input_dim=self.vocabulary_size, output_dim=embedding_size, \n",
    "                                            input_length=self.max_len))# \n",
    "        model.add(tf.keras.layers.LSTM(self.hidden_units, return_sequences=True)) # dropout=self.drop_rate,\n",
    "        model.add(tf.keras.layers.LSTM(self.hidden_units, return_sequences=True)) # dropout=self.drop_rate, \n",
    "        ## 这里使用了TimeDistributed对每一个时间步做dense\n",
    "        model.add(tf.keras.layers.TimeDistributed(tf.keras.layers.Dense(self.vocabulary_size,\n",
    "                                                                        activation=\"softmax\")))\n",
    "        return model"
   ]
  },
  {
   "cell_type": "markdown",
   "metadata": {},
   "source": [
    "## 训练模型"
   ]
  },
  {
   "cell_type": "markdown",
   "metadata": {},
   "source": [
    "- ### 模型参数"
   ]
  },
  {
   "cell_type": "code",
   "execution_count": 17,
   "metadata": {},
   "outputs": [],
   "source": [
    "## 参数\n",
    "vocabulary_size = len(dictionary)\n",
    "embedding_size = 150\n",
    "drop_rate = 0.35\n",
    "max_len = 49\n",
    "hidden_units = 128\n",
    "epoches = 3\n",
    "batch_size = 128\n",
    "learning_rate = 0.001"
   ]
  },
  {
   "cell_type": "code",
   "execution_count": 18,
   "metadata": {},
   "outputs": [],
   "source": [
    "### 检查文件路径\n",
    "if not os.path.exists(\"./models/textgene/\"):\n",
    "    os.makedirs(\"./models/textgene/\")\n",
    "if not os.path.exists(\"./logs/\"):\n",
    "    os.makedirs(\"./logs/\")\n",
    "log_dir = \"./logs/rnn_event-{}\".format(int(time.time()))"
   ]
  },
  {
   "cell_type": "markdown",
   "metadata": {},
   "source": [
    "- ### 加载模型并训练"
   ]
  },
  {
   "cell_type": "code",
   "execution_count": 19,
   "metadata": {},
   "outputs": [
    {
     "name": "stdout",
     "output_type": "stream",
     "text": [
      "Model: \"sequential\"\n",
      "_________________________________________________________________\n",
      "Layer (type)                 Output Shape              Param #   \n",
      "=================================================================\n",
      "embedding (Embedding)        (None, 49, 150)           833250    \n",
      "_________________________________________________________________\n",
      "lstm (LSTM)                  (None, 49, 128)           142848    \n",
      "_________________________________________________________________\n",
      "lstm_1 (LSTM)                (None, 49, 128)           131584    \n",
      "_________________________________________________________________\n",
      "time_distributed (TimeDistri (None, 49, 5555)          716595    \n",
      "=================================================================\n",
      "Total params: 1,824,277\n",
      "Trainable params: 1,824,277\n",
      "Non-trainable params: 0\n",
      "_________________________________________________________________\n",
      "Train on 23880 samples\n",
      "Epoch 1/3\n",
      "23880/23880 [==============================] - 134s 6ms/sample - loss: 6.0724 - accuracy: 0.1700\n",
      "Epoch 2/3\n",
      "23880/23880 [==============================] - 133s 6ms/sample - loss: 5.6273 - accuracy: 0.1852\n",
      "Epoch 3/3\n",
      "23880/23880 [==============================] - 134s 6ms/sample - loss: 5.3149 - accuracy: 0.2485\n"
     ]
    }
   ],
   "source": [
    "model = TextGeneratorModel(vocabulary_size, embedding_size, drop_rate, max_len, hidden_units).build_model()\n",
    "model.compile(optimizer=tf.keras.optimizers.Adam(),\n",
    "             loss=tf.keras.losses.sparse_categorical_crossentropy,\n",
    "             metrics=[\"accuracy\"])\n",
    "model.summary()\n",
    "my_callbacks = [tf.keras.callbacks.ModelCheckpoint(\"./models/textgene/rnnmodel.h5\"),\n",
    "               tf.keras.callbacks.TensorBoard(log_dir=log_dir, histogram_freq=1)]\n",
    "history = model.fit(train_data, train_label, batch_size=batch_size, epochs=epoches, callbacks=my_callbacks)"
   ]
  },
  {
   "cell_type": "markdown",
   "metadata": {},
   "source": [
    "## 预测"
   ]
  },
  {
   "cell_type": "markdown",
   "metadata": {},
   "source": [
    "- ### 对预测的诗句进行处理"
   ]
  },
  {
   "cell_type": "code",
   "execution_count": 20,
   "metadata": {},
   "outputs": [],
   "source": [
    "def predict_sent_encoder(poems, word2index):\n",
    "    poem_encoder = []\n",
    "    for poem in poems:\n",
    "        encoder_list = [2,]\n",
    "        for word in poem:\n",
    "            encoder_list.append(word2index.get(word, 0))\n",
    "           # encoder_list.append(0)\n",
    "        poem_encoder.append(encoder_list)\n",
    "    print(\"predict data encoder finish\")\n",
    "    return poem_encoder\n",
    "\n",
    "def poem_padding(poem_encoder):\n",
    "    poem_encoder = tf.keras.preprocessing.sequence.pad_sequences(poem_encoder, maxlen=49, padding=\"post\", \n",
    "                                                                 truncating=\"post\")\n",
    "    return poem_encoder"
   ]
  },
  {
   "cell_type": "code",
   "execution_count": 21,
   "metadata": {},
   "outputs": [],
   "source": [
    "def predict(model, token_ids):\n",
    "    \"\"\"\n",
    "    在概率值为前100的词中选取一个词(按概率分布的方式)\n",
    "    :return: 一个词的编号(不包含__PAD__,__UNK__,__START__)\n",
    "    \"\"\"\n",
    "    # 预测各个词的概率分布\n",
    "    # -1 表示只要对最新的词的预测\n",
    "    # 3: 表示不要前面几个标记符\n",
    "    _probas = model.predict(token_ids)[0, -1, 3:]\n",
    "    # 按概率降序，取前100的index\n",
    "    p_args = _probas.argsort()[-100:][::-1] \n",
    "    p = _probas[p_args] \n",
    "    p = p / sum(p) # 归一\n",
    "    # 按概率抽取一个\n",
    "    target_index = np.random.choice(len(p), p=p)\n",
    "    # 前面预测时删除了前几个标记符，因此编号要补上3位，才是实际word2index词典中的编号\n",
    "    return p_args[target_index] + 3"
   ]
  },
  {
   "cell_type": "code",
   "execution_count": 22,
   "metadata": {},
   "outputs": [],
   "source": [
    "def predict_poem(predict_data, model, word2index, index2word):\n",
    "    predict_data_encoder = predict_sent_encoder(predict_data, word2index)\n",
    "    \"\"\"，-> 4, 。-> 5, end -> 3\"\"\"\n",
    "    predict_length = len(predict_data[0])\n",
    "    for j in range(1, 4):\n",
    "        while len(predict_data_encoder[0]) < (j+1)*predict_length:\n",
    "            predict_data_encoder_padding = poem_padding(predict_data_encoder)\n",
    "            target = predict(model, predict_data_encoder_padding)\n",
    "            if target > 5:\n",
    "                predict_data_encoder[0].append(target)\n",
    "        if j % 2 == 0:\n",
    "            predict_data_encoder[0].append(5)\n",
    "        else:\n",
    "            predict_data_encoder[0].append(4)\n",
    "    print(\"predict finish\")\n",
    "    print(\"predict length: \", len(predict_data_encoder[0]))\n",
    "    result = [] ### 包含了start符号\n",
    "    for i in predict_data_encoder[0]:\n",
    "        result.append(index2word.get(i))\n",
    "    result = \"\".join([word for word in result])\n",
    "    return result[9:]"
   ]
  },
  {
   "cell_type": "code",
   "execution_count": 23,
   "metadata": {},
   "outputs": [
    {
     "name": "stdout",
     "output_type": "stream",
     "text": [
      "predict data encoder finish\n",
      "predict finish\n",
      "predict length:  33\n",
      "秦时明月汉时关，日日春云相客更，欲期知来风有欲。行一江回前吟未，\n"
     ]
    }
   ],
   "source": [
    "predict_data = [\"秦时明月汉时关，\"]\n",
    "result = predict_poem(predict_data, model, word2index, index2word)\n",
    "print(result)"
   ]
  },
  {
   "cell_type": "code",
   "execution_count": 24,
   "metadata": {},
   "outputs": [
    {
     "name": "stdout",
     "output_type": "stream",
     "text": [
      "predict data encoder finish\n",
      "predict finish\n",
      "predict length:  25\n",
      "采菊东篱下，将空谁何君，家君上归别。秋闻风水欲，\n"
     ]
    }
   ],
   "source": [
    "predict_data = [\"采菊东篱下，\"]\n",
    "result = predict_poem(predict_data, model, word2index, index2word)\n",
    "print(result)"
   ]
  },
  {
   "cell_type": "code",
   "execution_count": 25,
   "metadata": {},
   "outputs": [],
   "source": [
    "def predicts(predict_data_encoder, predict_length, model, predict_data_pad, index2word):\n",
    "    while len(predict_data_encoder[0]) <= predict_length:\n",
    "        # 预测词的编号\n",
    "        target = predict(model, predict_data_pad)\n",
    "        # print(target)\n",
    "        # 保存结果\n",
    "        predict_data_encoder[0].append(target)\n",
    "        predict_data_pad = poem_padding(predict_data_encoder)\n",
    "        # 到达END\n",
    "        if target == 3: \n",
    "            break\n",
    "    print(\"predcit encoder: \", predict_data_encoder)\n",
    "\n",
    "    result = []\n",
    "    for i in predict_data_encoder[0]:\n",
    "        result.append(index2word.get(i))\n",
    "    result = \"\".join([word for word in result])\n",
    "    return result[9:]"
   ]
  },
  {
   "cell_type": "code",
   "execution_count": 26,
   "metadata": {},
   "outputs": [
    {
     "name": "stdout",
     "output_type": "stream",
     "text": [
      "predict data encoder finish\n",
      "[[2, 14, 410, 6, 329, 229, 4]]\n",
      "padding  (1, 49)\n",
      "predcit encoder:  [[2, 14, 410, 6, 329, 229, 4, 5, 4, 4, 4, 3]]\n",
      "春眠不觉晓，。，，，__END__\n"
     ]
    }
   ],
   "source": [
    "predict_data = [\"春眠不觉晓，\"]\n",
    "predict_data_encoder = predict_sent_encoder(predict_data, word2index)\n",
    "print(predict_data_encoder)\n",
    "predict_data_encoder_padding = poem_padding(predict_data_encoder)\n",
    "print(\"padding \", predict_data_encoder_padding.shape)\n",
    "predict_length = 24\n",
    "result = predicts(predict_data_encoder, predict_length, model, predict_data_encoder_padding, index2word)\n",
    "print(result)"
   ]
  },
  {
   "cell_type": "code",
   "execution_count": 27,
   "metadata": {},
   "outputs": [
    {
     "data": {
      "image/png": "[encoded data removed]",
      "text/plain": [
       "<IPython.core.display.Image object>"
      ]
     },
     "execution_count": 27,
     "metadata": {},
     "output_type": "execute_result"
    }
   ],
   "source": [
    "from tensorflow.keras.utils import plot_model\n",
    "plot_model(model, show_shapes=True, show_layer_names=True)"
   ]
  },
  {
   "cell_type": "markdown",
   "metadata": {},
   "source": [
    "## 加载训练模型预测"
   ]
  },
  {
   "cell_type": "code",
   "execution_count": 28,
   "metadata": {},
   "outputs": [],
   "source": [
    "## 读取字典\n",
    "def read_vocab(vocab_path):\n",
    "    vocab = []\n",
    "    with open(vocab_path, 'r', encoding='utf-8') as f:\n",
    "        for line in f:\n",
    "            vocab.append(line.strip('\\n'))\n",
    "    f.close()\n",
    "    return vocab\n",
    "\n",
    "def get_word2idx_idx2word():\n",
    "    dictionary = read_vocab('./data/vocab.txt')\n",
    "    word2index = dict((value, key) for key, value in enumerate(dictionary))\n",
    "    index2word = dict((key, value) for key, value in enumerate(dictionary))\n",
    "    print('vocab size: ', len(word2index))\n",
    "    return word2index, index2word"
   ]
  },
  {
   "cell_type": "code",
   "execution_count": 29,
   "metadata": {},
   "outputs": [
    {
     "name": "stdout",
     "output_type": "stream",
     "text": [
      "vocab size:  5555\n"
     ]
    }
   ],
   "source": [
    "word2index, index2word = get_word2idx_idx2word()"
   ]
  },
  {
   "cell_type": "code",
   "execution_count": 30,
   "metadata": {},
   "outputs": [
    {
     "name": "stdout",
     "output_type": "stream",
     "text": [
      "predict data encoder finish\n",
      "predict finish\n",
      "predict length:  33\n",
      "秦时明月汉时关，乡空风归思谁是，闲今将空衣江风。应花有是应不人，\n"
     ]
    }
   ],
   "source": [
    "model = tf.keras.models.load_model(\"./models/textgene/rnnmodel.h5\")\n",
    "predict_data = [\"秦时明月汉时关，\"]\n",
    "result = predict_poem(predict_data, model, word2index, index2word)\n",
    "print(result)"
   ]
  },
  {
   "cell_type": "code",
   "execution_count": 31,
   "metadata": {},
   "outputs": [
    {
     "name": "stdout",
     "output_type": "stream",
     "text": [
      "predict data encoder finish\n",
      "padding  (1, 49)\n",
      "(1, 49, 5555)\n"
     ]
    }
   ],
   "source": [
    "## 加载模型训练\n",
    "models = tf.keras.models.load_model(\"./models/textgene/rnnmodel.h5\")\n",
    "predict_data = [\"秦时明月汉时关，\"]\n",
    "predict_data_encoder = predict_sent_encoder(predict_data, word2index)\n",
    "predict_data_encoder_padding = poem_padding(predict_data_encoder)\n",
    "print(\"padding \", predict_data_encoder_padding.shape)\n",
    "result = models.predict(predict_data_encoder_padding)\n",
    "print(result.shape)"
   ]
  },
  {
   "cell_type": "code",
   "execution_count": null,
   "metadata": {},
   "outputs": [],
   "source": []
  }
 ],
 "metadata": {
  "kernelspec": {
   "display_name": "tf20",
   "language": "python",
   "name": "tf20"
  },
  "language_info": {
   "codemirror_mode": {
    "name": "ipython",
    "version": 3
   },
   "file_extension": ".py",
   "mimetype": "text/x-python",
   "name": "python",
   "nbconvert_exporter": "python",
   "pygments_lexer": "ipython3",
   "version": "3.6.6"
  }
 },
 "nbformat": 4,
 "nbformat_minor": 2
}
