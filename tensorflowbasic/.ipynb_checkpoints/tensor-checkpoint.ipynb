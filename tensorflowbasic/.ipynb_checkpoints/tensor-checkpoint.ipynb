{
 "cells": [
  {
   "cell_type": "markdown",
   "metadata": {},
   "source": [
    "# 张量----Tensor"
   ]
  },
  {
   "cell_type": "markdown",
   "metadata": {},
   "source": [
    "## 1. Tensor的属性\n",
    "1. 数据类型：float16，float32，float64, int32, int64, string, bool, unit8, unit16等\n",
    "2. 形状shape 大小： 可以是1维，2维，3维等，如果是单个字符串，维度是0   \n",
    "定义一个tensor，每一个元素的类型是相同的。"
   ]
  },
  {
   "cell_type": "markdown",
   "metadata": {},
   "source": [
    "## 2. 常见的定义Tensor的方式\n",
    "1. 常量类型\n",
    "   tf.constant， \n",
    "   tf.ones，\n",
    "   tf.zeros\n",
    "2. tf.Variable"
   ]
  },
  {
   "cell_type": "markdown",
   "metadata": {},
   "source": [
    "### 2.1 创建常量类型的Tensor\n",
    "1. tf.constant(value, dtype=None, shape=None, name='Const')\n",
    "2. tf.ones(shape, dtype=tf.dtypes.float32, name=None)\n",
    "   默认的数据类型是float32\n",
    "3. tf.zeros(shape, dtype=tf.dtypes.float32, name=None)\n",
    "   默认的数据类型是float32"
   ]
  },
  {
   "cell_type": "markdown",
   "metadata": {},
   "source": [
    "### 加载tensorflow"
   ]
  },
  {
   "cell_type": "code",
   "execution_count": 1,
   "metadata": {
    "collapsed": true
   },
   "outputs": [],
   "source": [
    "import tensorflow as tf\n",
    "import numpy as np"
   ]
  },
  {
   "cell_type": "markdown",
   "metadata": {},
   "source": [
    "#### 2.1.1 tf.constant\n",
    "- 创建0维tensor"
   ]
  },
  {
   "cell_type": "code",
   "execution_count": 2,
   "metadata": {},
   "outputs": [
    {
     "name": "stdout",
     "output_type": "stream",
     "text": [
      "strs:  tf.Tensor(b'china', shape=(), dtype=string)\n",
      "ints:  tf.Tensor(123, shape=(), dtype=int32)\n",
      "floats tf.Tensor(234.12, shape=(), dtype=float32)\n"
     ]
    }
   ],
   "source": [
    "strs = tf.constant(\"china\")\n",
    "ints = tf.constant(123)\n",
    "floats = tf.constant(234.120) \n",
    "print(\"strs: \", strs)\n",
    "print(\"ints: \", ints)\n",
    "print(\"floats\", floats)"
   ]
  },
  {
   "cell_type": "markdown",
   "metadata": {},
   "source": [
    "#### 2.1.1 tf.constant  \n",
    "- 创建1维，2维tensor"
   ]
  },
  {
   "cell_type": "code",
   "execution_count": 3,
   "metadata": {},
   "outputs": [
    {
     "name": "stdout",
     "output_type": "stream",
     "text": [
      "tensor:  tf.Tensor([1. 5. 6. 7.], shape=(4,), dtype=float32)\n"
     ]
    }
   ],
   "source": [
    "x = tf.constant([1., 5, 6, 7])\n",
    "print(\"tensor: \", x)"
   ]
  },
  {
   "cell_type": "code",
   "execution_count": 4,
   "metadata": {},
   "outputs": [
    {
     "name": "stdout",
     "output_type": "stream",
     "text": [
      "tf.Tensor([1 5 6 7], shape=(4,), dtype=int32)\n"
     ]
    }
   ],
   "source": [
    "x = tf.constant([1, 5, 6, 7])\n",
    "print(x)"
   ]
  },
  {
   "cell_type": "code",
   "execution_count": 5,
   "metadata": {},
   "outputs": [
    {
     "name": "stdout",
     "output_type": "stream",
     "text": [
      "tf.Tensor([ True False], shape=(2,), dtype=bool)\n"
     ]
    }
   ],
   "source": [
    "# 定义bool型的tensor\n",
    "x = tf.constant([True, False])\n",
    "print(x)"
   ]
  },
  {
   "cell_type": "markdown",
   "metadata": {},
   "source": [
    "- 创建2维 tensor\n",
    "两种方式创建2D-tensor\n",
    "  - 输入数组\n",
    "  - 按照tf.constant的参数写，即输入value以及shape "
   ]
  },
  {
   "cell_type": "code",
   "execution_count": 6,
   "metadata": {},
   "outputs": [
    {
     "name": "stdout",
     "output_type": "stream",
     "text": [
      "tf.Tensor(\n",
      "[[ 1 32 14]\n",
      " [23 17 19]], shape=(2, 3), dtype=int64)\n"
     ]
    }
   ],
   "source": [
    "# 创建2D 张量\n",
    "x = tf.constant([[1, 32, 14], [23, 17, 19]], dtype=tf.int64)\n",
    "print(x)"
   ]
  },
  {
   "cell_type": "code",
   "execution_count": 7,
   "metadata": {},
   "outputs": [
    {
     "name": "stdout",
     "output_type": "stream",
     "text": [
      "tf.Tensor(\n",
      "[[ 1.   32.   14.  ]\n",
      " [23.05 17.   19.  ]], shape=(2, 3), dtype=float32)\n"
     ]
    }
   ],
   "source": [
    "x = tf.constant([[1.0, 32, 14], [23.05, 17, 19]], dtype=tf.float32)\n",
    "print(x)"
   ]
  },
  {
   "cell_type": "code",
   "execution_count": 8,
   "metadata": {},
   "outputs": [
    {
     "name": "stdout",
     "output_type": "stream",
     "text": [
      "tf.Tensor(\n",
      "[[16. 16. 16. 16.]\n",
      " [16. 16. 16. 16.]\n",
      " [16. 16. 16. 16.]\n",
      " [16. 16. 16. 16.]], shape=(4, 4), dtype=float32)\n",
      "result: [[16. 16. 16. 16.]\n",
      " [16. 16. 16. 16.]\n",
      " [16. 16. 16. 16.]\n",
      " [16. 16. 16. 16.]]\n"
     ]
    }
   ],
   "source": [
    "x = tf.constant(16, shape=(4, 4), dtype=tf.float32)\n",
    "print(x)\n",
    "print(\"result:\", x.numpy())"
   ]
  },
  {
   "cell_type": "markdown",
   "metadata": {},
   "source": [
    "#### 2.1.1 tf.constant \n",
    "- 创建高阶tensor\n",
    "  - 高阶tensor指：维度大于等于3的矩阵或者数组"
   ]
  },
  {
   "cell_type": "code",
   "execution_count": 9,
   "metadata": {},
   "outputs": [
    {
     "name": "stdout",
     "output_type": "stream",
     "text": [
      "tf.Tensor(\n",
      "[[[ 1  2  3]\n",
      "  [ 4 45 56]]\n",
      "\n",
      " [[32 45 78]\n",
      "  [98  1  9]]\n",
      "\n",
      " [[77 78 80]\n",
      "  [11  2  4]]], shape=(3, 2, 3), dtype=int32)\n"
     ]
    }
   ],
   "source": [
    "x = tf.constant([[[1, 2, 3], [4, 45, 56]], [[32, 45, 78], [98, 1, 9]], [[77, 78, 80], [11, 2, 4]]])\n",
    "print(x)"
   ]
  },
  {
   "cell_type": "code",
   "execution_count": 10,
   "metadata": {},
   "outputs": [
    {
     "name": "stdout",
     "output_type": "stream",
     "text": [
      "tf.Tensor(\n",
      "[[[1 1 1]\n",
      "  [1 1 1]\n",
      "  [1 1 1]]\n",
      "\n",
      " [[1 1 1]\n",
      "  [1 1 1]\n",
      "  [1 1 1]]\n",
      "\n",
      " [[1 1 1]\n",
      "  [1 1 1]\n",
      "  [1 1 1]]], shape=(3, 3, 3), dtype=int32)\n"
     ]
    }
   ],
   "source": [
    "x = tf.constant(1, shape=(3, 3, 3))\n",
    "print(x)"
   ]
  },
  {
   "cell_type": "code",
   "execution_count": 11,
   "metadata": {},
   "outputs": [
    {
     "name": "stdout",
     "output_type": "stream",
     "text": [
      "tf.Tensor(\n",
      "[[[[2 2 2]\n",
      "   [2 2 2]\n",
      "   [2 2 2]]\n",
      "\n",
      "  [[2 2 2]\n",
      "   [2 2 2]\n",
      "   [2 2 2]]\n",
      "\n",
      "  [[2 2 2]\n",
      "   [2 2 2]\n",
      "   [2 2 2]]]\n",
      "\n",
      "\n",
      " [[[2 2 2]\n",
      "   [2 2 2]\n",
      "   [2 2 2]]\n",
      "\n",
      "  [[2 2 2]\n",
      "   [2 2 2]\n",
      "   [2 2 2]]\n",
      "\n",
      "  [[2 2 2]\n",
      "   [2 2 2]\n",
      "   [2 2 2]]]\n",
      "\n",
      "\n",
      " [[[2 2 2]\n",
      "   [2 2 2]\n",
      "   [2 2 2]]\n",
      "\n",
      "  [[2 2 2]\n",
      "   [2 2 2]\n",
      "   [2 2 2]]\n",
      "\n",
      "  [[2 2 2]\n",
      "   [2 2 2]\n",
      "   [2 2 2]]]\n",
      "\n",
      "\n",
      " [[[2 2 2]\n",
      "   [2 2 2]\n",
      "   [2 2 2]]\n",
      "\n",
      "  [[2 2 2]\n",
      "   [2 2 2]\n",
      "   [2 2 2]]\n",
      "\n",
      "  [[2 2 2]\n",
      "   [2 2 2]\n",
      "   [2 2 2]]]], shape=(4, 3, 3, 3), dtype=int32)\n"
     ]
    }
   ],
   "source": [
    "x = tf.constant(2, shape=(4, 3, 3, 3))\n",
    "print(x)"
   ]
  },
  {
   "cell_type": "markdown",
   "metadata": {},
   "source": [
    "#### 2.1.2 tf.ones\n",
    "- 创建2D tensor以及高阶tensor\n",
    "  - shape=(m, n) 表示2D数组，m行，n列\n",
    "  - shape=(k, m, n), 表示3D数组， k表示slice， 每个slice有m行n列\n",
    "  - shape=(m,), 表示m行数组，列数未知"
   ]
  },
  {
   "cell_type": "code",
   "execution_count": 12,
   "metadata": {},
   "outputs": [
    {
     "name": "stdout",
     "output_type": "stream",
     "text": [
      "tf.Tensor(\n",
      "[[1. 1. 1.]\n",
      " [1. 1. 1.]\n",
      " [1. 1. 1.]], shape=(3, 3), dtype=float32)\n"
     ]
    }
   ],
   "source": [
    "x = tf.ones(shape=(3,3))\n",
    "print(x)"
   ]
  },
  {
   "cell_type": "code",
   "execution_count": 13,
   "metadata": {},
   "outputs": [
    {
     "name": "stdout",
     "output_type": "stream",
     "text": [
      "tf.Tensor(\n",
      "[[[1. 1. 1. 1.]\n",
      "  [1. 1. 1. 1.]\n",
      "  [1. 1. 1. 1.]\n",
      "  [1. 1. 1. 1.]]\n",
      "\n",
      " [[1. 1. 1. 1.]\n",
      "  [1. 1. 1. 1.]\n",
      "  [1. 1. 1. 1.]\n",
      "  [1. 1. 1. 1.]]], shape=(2, 4, 4), dtype=float32)\n"
     ]
    }
   ],
   "source": [
    "x = tf.ones(shape=(2, 4, 4))\n",
    "print(x)"
   ]
  },
  {
   "cell_type": "code",
   "execution_count": 14,
   "metadata": {},
   "outputs": [
    {
     "name": "stdout",
     "output_type": "stream",
     "text": [
      "tf.Tensor([1. 1. 1. 1.], shape=(4,), dtype=float32)\n"
     ]
    }
   ],
   "source": [
    "x = tf.ones(shape=(4,))\n",
    "print(x)"
   ]
  },
  {
   "cell_type": "markdown",
   "metadata": {},
   "source": [
    "#### 2.1.3 tf.zeros \n",
    "- 创建2D tensor以及高阶tensor\n",
    "  - shape=(m, n) 表示2D数组，m行，n列\n",
    "  - shape=(k, m, n), 表示3D数组， k表示slice， 每个slice有m行n列\n",
    "  - shape=(m,), 表示m行数组，列数未知"
   ]
  },
  {
   "cell_type": "code",
   "execution_count": 15,
   "metadata": {},
   "outputs": [
    {
     "name": "stdout",
     "output_type": "stream",
     "text": [
      "tf.Tensor(\n",
      "[[0. 0. 0.]\n",
      " [0. 0. 0.]\n",
      " [0. 0. 0.]], shape=(3, 3), dtype=float32)\n"
     ]
    }
   ],
   "source": [
    "x = tf.zeros(shape=(3, 3))\n",
    "print(x)"
   ]
  },
  {
   "cell_type": "code",
   "execution_count": 16,
   "metadata": {},
   "outputs": [
    {
     "name": "stdout",
     "output_type": "stream",
     "text": [
      "tf.Tensor(\n",
      "[[[0. 0. 0.]\n",
      "  [0. 0. 0.]\n",
      "  [0. 0. 0.]]\n",
      "\n",
      " [[0. 0. 0.]\n",
      "  [0. 0. 0.]\n",
      "  [0. 0. 0.]]\n",
      "\n",
      " [[0. 0. 0.]\n",
      "  [0. 0. 0.]\n",
      "  [0. 0. 0.]]], shape=(3, 3, 3), dtype=float32)\n"
     ]
    }
   ],
   "source": [
    "x = tf.zeros(shape=(3, 3, 3))\n",
    "print(x)"
   ]
  },
  {
   "cell_type": "code",
   "execution_count": 17,
   "metadata": {},
   "outputs": [
    {
     "name": "stdout",
     "output_type": "stream",
     "text": [
      "tf.Tensor([0. 0. 0.], shape=(3,), dtype=float32)\n"
     ]
    }
   ],
   "source": [
    "x = tf.zeros(shape=(3,))\n",
    "print(x)"
   ]
  },
  {
   "cell_type": "code",
   "execution_count": 18,
   "metadata": {},
   "outputs": [
    {
     "name": "stdout",
     "output_type": "stream",
     "text": [
      "tf.Tensor([0. 0. 0.], shape=(3,), dtype=float32)\n"
     ]
    }
   ],
   "source": [
    "x = tf.zeros(3)\n",
    "print(x)"
   ]
  },
  {
   "cell_type": "markdown",
   "metadata": {},
   "source": [
    "#### 2.1.4 判断数组类型"
   ]
  },
  {
   "cell_type": "code",
   "execution_count": 19,
   "metadata": {},
   "outputs": [
    {
     "name": "stdout",
     "output_type": "stream",
     "text": [
      "x_np type <class 'numpy.ndarray'>\n",
      "x type <class 'tensorflow.python.framework.ops.EagerTensor'>\n",
      "True\n"
     ]
    }
   ],
   "source": [
    "x_np = np.array([[1, 2, 3, 4], [5, 6, 7, 8]])\n",
    "print(\"x_np type\", type(x_np))\n",
    "x = tf.constant([[1, 2, 3, 4], [5, 6, 7, 8]])\n",
    "print(\"x type\", type(x))\n",
    "print(tf.is_tensor(x))"
   ]
  },
  {
   "cell_type": "code",
   "execution_count": null,
   "metadata": {
    "collapsed": true
   },
   "outputs": [],
   "source": []
  },
  {
   "cell_type": "markdown",
   "metadata": {},
   "source": [
    "### 2. 2. 创建变量类型的tensor\n",
    "使用tf.Variable()创建变量，包含的参数有\n",
    "(\n",
    "    initial_value=None,\n",
    "    trainable=None,\n",
    "    validate_shape=True,\n",
    "    caching_device=None,\n",
    "    name=None,\n",
    "    variable_def=None,\n",
    "    dtype=None,\n",
    "    import_scope=None,\n",
    "    constraint=None,\n",
    "    synchronization=tf.VariableSynchronization.AUTO,\n",
    "    aggregation=tf.compat.v1.VariableAggregation.NONE,\n",
    "    shape=None\n",
    ")\n",
    "- initial_value： 默认是None，可以是tensorflow创建的常量tensor，也可以由tensorflow其他api的给出\n",
    "- trainable: 默认True，允许梯度计算更新变量\n",
    "- validate_shape: 默认True，shape不允许改变\n",
    "- name： 默认None，给变量命名"
   ]
  },
  {
   "cell_type": "markdown",
   "metadata": {},
   "source": [
    "##### 2.2.1 使用常量tensor"
   ]
  },
  {
   "cell_type": "code",
   "execution_count": 20,
   "metadata": {},
   "outputs": [
    {
     "name": "stdout",
     "output_type": "stream",
     "text": [
      "<tf.Variable 'variable_x:0' shape=(2, 3) dtype=float32, numpy=\n",
      "array([[1., 1., 1.],\n",
      "       [1., 1., 1.]], dtype=float32)>\n"
     ]
    }
   ],
   "source": [
    "x = tf.Variable(tf.ones(shape=(2, 3)), name=\"variable_x\")\n",
    "print(x)"
   ]
  },
  {
   "cell_type": "markdown",
   "metadata": {},
   "source": [
    "- 使用GPU"
   ]
  },
  {
   "cell_type": "code",
   "execution_count": 21,
   "metadata": {},
   "outputs": [
    {
     "name": "stdout",
     "output_type": "stream",
     "text": [
      "<tf.Variable 'Variable:0' shape=(10, 10) dtype=float32, numpy=\n",
      "array([[0., 0., 0., 0., 0., 0., 0., 0., 0., 0.],\n",
      "       [0., 0., 0., 0., 0., 0., 0., 0., 0., 0.],\n",
      "       [0., 0., 0., 0., 0., 0., 0., 0., 0., 0.],\n",
      "       [0., 0., 0., 0., 0., 0., 0., 0., 0., 0.],\n",
      "       [0., 0., 0., 0., 0., 0., 0., 0., 0., 0.],\n",
      "       [0., 0., 0., 0., 0., 0., 0., 0., 0., 0.],\n",
      "       [0., 0., 0., 0., 0., 0., 0., 0., 0., 0.],\n",
      "       [0., 0., 0., 0., 0., 0., 0., 0., 0., 0.],\n",
      "       [0., 0., 0., 0., 0., 0., 0., 0., 0., 0.],\n",
      "       [0., 0., 0., 0., 0., 0., 0., 0., 0., 0.]], dtype=float32)>\n"
     ]
    }
   ],
   "source": [
    "try:\n",
    "    with tf.device(\"/device:GPU:0\"):\n",
    "        x = tf.Variable(tf.zeros([10, 10]))\n",
    "        print(x)\n",
    "except:\n",
    "    print('no gpu')"
   ]
  },
  {
   "cell_type": "markdown",
   "metadata": {},
   "source": [
    "###### 2.2.2 使用tensorflow  API 创建变量\n",
    "常用的API:\n",
    "- 随机标准正态分布：tf.random.normal(\n",
    "    shape,\n",
    "    mean=0.0,\n",
    "    stddev=1.0,\n",
    "    dtype=tf.dtypes.float32,\n",
    "    seed=None,\n",
    "    name=None\n",
    ")\n",
    "  - shape： 指tensor的大小\n",
    "  - mean： 正态分布的均值，默认为0\n",
    "  - stddev： 正态分布的标准差，默认为1\n",
    "  - seed: 随机数种子，是一个整数，当设置为整数后，每次生成的随机数都一样\n",
    "- 随机均匀分布：tf.random.uniform(\n",
    "    shape,\n",
    "    minval=0,\n",
    "    maxval=None,\n",
    "    dtype=tf.dtypes.float32,\n",
    "    seed=None,\n",
    "    name=None\n",
    ")\n",
    "   - shape： tansor的大小\n",
    "   - minval：均匀分布的下界\n",
    "   - maxval： 均匀分布的上界\n",
    "   - seed： 随机数种子，是一个整数，当设置为整数后，每次生成的随机数都一样\n",
    "- 随机截断正态分布：tf.random.truncated_normal(\n",
    "    shape,\n",
    "    mean=0.0,\n",
    "    stddev=1.0,\n",
    "    dtype=tf.dtypes.float32,\n",
    "    seed=None,\n",
    "    name=None\n",
    ")\n",
    "  - shape： tensor的大小\n",
    "  - mean： 正态分布均值，默认为0\n",
    "  - stddev： 截断前的正态分布的标准差，默认为1.0\n",
    "  - seed： 随机数种子，是一个整数，当设置为整数后，每次生成的随机数都一样"
   ]
  },
  {
   "cell_type": "markdown",
   "metadata": {},
   "source": [
    "- 创建已知分布的tensor"
   ]
  },
  {
   "cell_type": "code",
   "execution_count": 22,
   "metadata": {},
   "outputs": [
    {
     "name": "stdout",
     "output_type": "stream",
     "text": [
      "tf.Tensor(\n",
      "[[-0.14046457  0.16302633 -0.6198081 ]\n",
      " [ 2.2455409   0.5422766   0.93956214]\n",
      " [ 2.1359303   1.1351644   1.4979069 ]], shape=(3, 3), dtype=float32)\n"
     ]
    }
   ],
   "source": [
    "x = tf.random.normal(shape=(3, 3))\n",
    "print(x)"
   ]
  },
  {
   "cell_type": "code",
   "execution_count": 23,
   "metadata": {},
   "outputs": [
    {
     "name": "stdout",
     "output_type": "stream",
     "text": [
      "<tf.Variable 'Variable:0' shape=(3, 3) dtype=float32, numpy=\n",
      "array([[ 0.08766998, -0.26517144, -0.99532986],\n",
      "       [ 0.5877223 , -1.0208673 ,  0.4039655 ],\n",
      "       [ 0.4916224 , -0.64681983, -0.12439691]], dtype=float32)>\n"
     ]
    }
   ],
   "source": [
    "x = tf.Variable(tf.random.normal(shape=(3, 3), seed=100))\n",
    "print(x)"
   ]
  },
  {
   "cell_type": "code",
   "execution_count": 24,
   "metadata": {},
   "outputs": [
    {
     "name": "stdout",
     "output_type": "stream",
     "text": [
      "<tf.Variable 'Variable:0' shape=(10, 10) dtype=float32, numpy=\n",
      "array([[0.2675984 , 0.39469743, 0.75001085, 0.7470871 , 0.24332166,\n",
      "        0.0112133 , 0.788568  , 0.14374876, 0.01218879, 0.27898967],\n",
      "       [0.72379994, 0.04727197, 0.5006037 , 0.0525533 , 0.7745074 ,\n",
      "        0.72374976, 0.84495544, 0.10815465, 0.95490897, 0.93935084],\n",
      "       [0.60735667, 0.6512896 , 0.19392443, 0.33597815, 0.06738973,\n",
      "        0.7741728 , 0.31168664, 0.0362823 , 0.9817327 , 0.70079935],\n",
      "       [0.7053628 , 0.35378444, 0.4306327 , 0.84508514, 0.09750414,\n",
      "        0.25501382, 0.48538482, 0.65903974, 0.5661986 , 0.6946846 ],\n",
      "       [0.5436007 , 0.31967473, 0.28151393, 0.15709817, 0.5300597 ,\n",
      "        0.03374708, 0.7974453 , 0.8309665 , 0.35530448, 0.05159771],\n",
      "       [0.48817945, 0.7551789 , 0.85567164, 0.74189126, 0.29911315,\n",
      "        0.34029913, 0.17365801, 0.15240097, 0.2434851 , 0.34481955],\n",
      "       [0.3339399 , 0.02504981, 0.26447582, 0.42753637, 0.53074694,\n",
      "        0.24404263, 0.9892497 , 0.8553574 , 0.22726119, 0.15567052],\n",
      "       [0.3413663 , 0.38673127, 0.05690527, 0.86493707, 0.90683305,\n",
      "        0.92251205, 0.7643604 , 0.4398576 , 0.25908375, 0.04176998],\n",
      "       [0.7231318 , 0.89419174, 0.79681206, 0.5748762 , 0.54057777,\n",
      "        0.7534156 , 0.18252397, 0.13396585, 0.3631369 , 0.6334708 ],\n",
      "       [0.97470355, 0.57933164, 0.653381  , 0.40484703, 0.04649591,\n",
      "        0.86382914, 0.30892265, 0.2132715 , 0.45087087, 0.36818945]],\n",
      "      dtype=float32)>\n"
     ]
    }
   ],
   "source": [
    "x = tf.Variable(tf.random.uniform(shape=(10, 10)))\n",
    "print(x)"
   ]
  },
  {
   "cell_type": "code",
   "execution_count": 25,
   "metadata": {},
   "outputs": [
    {
     "name": "stdout",
     "output_type": "stream",
     "text": [
      "<tf.Variable 'Variable:0' shape=(3, 3) dtype=float32, numpy=\n",
      "array([[-1.2714747 ,  0.6929434 ,  0.44870472],\n",
      "       [ 0.03084919, -1.184155  ,  0.09429338],\n",
      "       [ 0.8576479 , -0.22977075,  0.7605201 ]], dtype=float32)>\n"
     ]
    }
   ],
   "source": [
    "x = tf.Variable(tf.random.truncated_normal(shape=(3, 3)))\n",
    "print(x)"
   ]
  },
  {
   "cell_type": "markdown",
   "metadata": {},
   "source": [
    "## Tensor的简单计算例子-1"
   ]
  },
  {
   "cell_type": "code",
   "execution_count": 26,
   "metadata": {},
   "outputs": [
    {
     "name": "stdout",
     "output_type": "stream",
     "text": [
      "<tf.Variable 'Variable:0' shape=(3, 3) dtype=float32, numpy=\n",
      "array([[ 0.82182527, -0.9343891 , -2.1890092 ],\n",
      "       [ 1.243741  , -1.030946  ,  0.9832517 ],\n",
      "       [ 0.28340036, -0.41129664, -0.6786935 ]], dtype=float32)>\n",
      "tf.Tensor(\n",
      "[[1.]\n",
      " [1.]\n",
      " [1.]], shape=(3, 1), dtype=float32)\n"
     ]
    }
   ],
   "source": [
    "# 定义变量 x\n",
    "w = tf.Variable(tf.random.normal(shape=(3, 3)), dtype=tf.float32)\n",
    "print(w)\n",
    "x = tf.constant([[1, 2, 3], [7, 9, 10], [34, 65, 100]], dtype=tf.float32)\n",
    "out = tf.matmul(w, x)\n",
    "w = tf.Variable(tf.random.normal(shape=(3, 1)), dtype=tf.float32)\n",
    "out = tf.matmul(out, w)\n",
    "out = tf.nn.softmax(out)\n",
    "print(out)"
   ]
  },
  {
   "cell_type": "markdown",
   "metadata": {},
   "source": [
    "## Tensor的简单计算例子-2"
   ]
  },
  {
   "cell_type": "code",
   "execution_count": 27,
   "metadata": {},
   "outputs": [
    {
     "name": "stdout",
     "output_type": "stream",
     "text": [
      "<tf.Variable 'Variable:0' shape=(3, 3) dtype=float32, numpy=\n",
      "array([[-1.0876629 ,  0.60254484, -0.88161224],\n",
      "       [-1.015913  , -2.2719185 , -0.5232898 ],\n",
      "       [ 0.65110624, -1.564398  ,  2.0412805 ]], dtype=float32)>\n"
     ]
    }
   ],
   "source": [
    "x = tf.Variable(tf.random.normal(shape=(3, 3)), dtype=tf.float32)\n",
    "print(x)\n"
   ]
  },
  {
   "cell_type": "code",
   "execution_count": 28,
   "metadata": {},
   "outputs": [
    {
     "name": "stdout",
     "output_type": "stream",
     "text": [
      "tf.Tensor(\n",
      "[[-0.08766294  1.6025448   0.11838776]\n",
      " [-0.01591301 -1.2719185   0.4767102 ]\n",
      " [ 1.6511062  -0.56439805  3.0412805 ]], shape=(3, 3), dtype=float32)\n"
     ]
    }
   ],
   "source": [
    "x1 = x + 1.0\n",
    "print(x1)"
   ]
  },
  {
   "cell_type": "code",
   "execution_count": 29,
   "metadata": {},
   "outputs": [
    {
     "name": "stdout",
     "output_type": "stream",
     "text": [
      "tf.Tensor(\n",
      "[[-0.08766294  1.6025448   0.11838776]\n",
      " [-0.01591301 -1.2719185   0.4767102 ]\n",
      " [ 1.6511062  -0.56439805  3.0412805 ]], shape=(3, 3), dtype=float32)\n"
     ]
    }
   ],
   "source": [
    "x1 = tf.add(x, [1.0])\n",
    "print(x1)"
   ]
  },
  {
   "cell_type": "code",
   "execution_count": 30,
   "metadata": {},
   "outputs": [
    {
     "name": "stdout",
     "output_type": "stream",
     "text": [
      "tf.Tensor(\n",
      "[[-0.08766294  1.6025448   0.11838776]\n",
      " [-0.01591301 -1.2719185   0.4767102 ]\n",
      " [ 1.6511062  -0.56439805  3.0412805 ]], shape=(3, 3), dtype=float32)\n"
     ]
    }
   ],
   "source": [
    "x1 = tf.add(x, 1.0)\n",
    "print(x1)"
   ]
  },
  {
   "cell_type": "markdown",
   "metadata": {},
   "source": [
    "## Tensor的简单计算例子-3\n",
    "- 指数计算\n",
    "    - tf.pow(x, y, name=None)<br />\n",
    "        \\* x : 张量，类型包含float16，float32，float64，int32，int64， complex64，complex128 <br />\n",
    "        \\* y : 张量，类型包含float16，float32，float64，int32，int64， complex64，complex128 <br />\n",
    "        \\* tf.pow() 表示的x的y次幂<br />\n",
    "- 平方计算\n",
    "    - tf.square(x, name=None)<br />\n",
    "      \\* x: 张量<br />\n",
    "      \\* 计算x中的各个元素的平方<br />\n",
    "- 对数计算\n",
    "    - tf.math.log(x, name=None)<br />\n",
    "      \\* x: 张量，类型包含float32，float64，complex64，complex128\n",
    "      \\* 这里是以e为底的对数"
   ]
  },
  {
   "cell_type": "markdown",
   "metadata": {},
   "source": [
    "- 指数计算"
   ]
  },
  {
   "cell_type": "code",
   "execution_count": 31,
   "metadata": {},
   "outputs": [
    {
     "name": "stdout",
     "output_type": "stream",
     "text": [
      "tf.Tensor(16.0, shape=(), dtype=float32)\n"
     ]
    }
   ],
   "source": [
    "x = tf.constant(2, dtype=tf.float32)\n",
    "y = tf.constant(4, dtype=tf.float32)\n",
    "z = tf.pow(x, y)\n",
    "print(z)"
   ]
  },
  {
   "cell_type": "code",
   "execution_count": 32,
   "metadata": {},
   "outputs": [
    {
     "name": "stdout",
     "output_type": "stream",
     "text": [
      "tf.Tensor(\n",
      "[[  8.        27.        64.       125.      ]\n",
      " [ 36.        48.999996  64.        81.      ]], shape=(2, 4), dtype=float32)\n"
     ]
    }
   ],
   "source": [
    "x = tf.constant([[2, 3, 4, 5], [6, 7, 8, 9]], dtype=tf.float32)\n",
    "y = tf.constant([[3, 3, 3, 3], [2, 2, 2, 2]], dtype=tf.float32)\n",
    "z = tf.pow(x, y)\n",
    "print(z)"
   ]
  },
  {
   "cell_type": "markdown",
   "metadata": {},
   "source": [
    "- 平方计算"
   ]
  },
  {
   "cell_type": "code",
   "execution_count": 33,
   "metadata": {},
   "outputs": [
    {
     "name": "stdout",
     "output_type": "stream",
     "text": [
      "tf.Tensor(4.0, shape=(), dtype=float32)\n"
     ]
    }
   ],
   "source": [
    "x = tf.constant(2, dtype=tf.float32)\n",
    "z = tf.square(x)\n",
    "print(z)"
   ]
  },
  {
   "cell_type": "code",
   "execution_count": 34,
   "metadata": {},
   "outputs": [
    {
     "name": "stdout",
     "output_type": "stream",
     "text": [
      "tf.Tensor(\n",
      "[[ 4.  9. 16. 25.]\n",
      " [36. 49. 64. 81.]], shape=(2, 4), dtype=float32)\n"
     ]
    }
   ],
   "source": [
    "x = tf.constant([[2, 3, 4, 5], [6, 7, 8, 9]], dtype=tf.float32)\n",
    "z = tf.square(x)\n",
    "print(z)"
   ]
  },
  {
   "cell_type": "markdown",
   "metadata": {},
   "source": [
    "- 对数计算"
   ]
  },
  {
   "cell_type": "code",
   "execution_count": 35,
   "metadata": {},
   "outputs": [
    {
     "name": "stdout",
     "output_type": "stream",
     "text": [
      "tf.Tensor(0.6931472, shape=(), dtype=float32)\n"
     ]
    }
   ],
   "source": [
    "x = tf.constant(2, dtype=tf.float32)\n",
    "z = tf.math.log(x)\n",
    "print(z)"
   ]
  },
  {
   "cell_type": "code",
   "execution_count": 36,
   "metadata": {},
   "outputs": [
    {
     "name": "stdout",
     "output_type": "stream",
     "text": [
      "tf.Tensor(\n",
      "[[0.6931472 1.0986123 1.3862944 1.609438 ]\n",
      " [1.7917595 1.9459102 2.0794415 2.1972246]], shape=(2, 4), dtype=float32)\n"
     ]
    }
   ],
   "source": [
    "x = tf.constant([[2, 3, 4, 5], [6, 7, 8, 9]], dtype=tf.float32)\n",
    "z = tf.math.log(x)\n",
    "print(z)"
   ]
  },
  {
   "cell_type": "code",
   "execution_count": null,
   "metadata": {
    "collapsed": true
   },
   "outputs": [],
   "source": []
  },
  {
   "cell_type": "markdown",
   "metadata": {},
   "source": [
    "## 3. Tensor进阶\n",
    "- 改变shape\n",
    "- 转置\n",
    "- 增加维度\n",
    "- 删减维度\n",
    "- 切片\n",
    "- 拼接分割\n",
    "- 最值、求和、求平均"
   ]
  },
  {
   "cell_type": "markdown",
   "metadata": {
    "collapsed": true
   },
   "source": [
    "######  3.1 reshape\n",
    "- tf.reshape(\n",
    "    tensor,\n",
    "    shape,\n",
    "    name=None)\n",
    "    - tensor：输入要改变shape的tensor，\n",
    "    - shape：改变的形状"
   ]
  },
  {
   "cell_type": "code",
   "execution_count": 37,
   "metadata": {},
   "outputs": [
    {
     "name": "stdout",
     "output_type": "stream",
     "text": [
      "x shape:  (2, 4)\n",
      "改变形状之前的x tf.Tensor(\n",
      "[[ 1  2  3  4]\n",
      " [ 7  8  9 10]], shape=(2, 4), dtype=int32)\n",
      "x shape (4, 2)\n",
      "改变形变之后的x tf.Tensor(\n",
      "[[ 1  2]\n",
      " [ 3  4]\n",
      " [ 7  8]\n",
      " [ 9 10]], shape=(4, 2), dtype=int32)\n"
     ]
    }
   ],
   "source": [
    "x = tf.constant([[1, 2, 3, 4], [7, 8, 9, 10]]) ## shape(2, 4)\n",
    "print(\"x shape: \", x.shape)\n",
    "print(\"改变形状之前的x\", x)\n",
    "x = tf.reshape(x, shape=(4, 2))\n",
    "print(\"x shape\", x.shape)\n",
    "print(\"改变形变之后的x\", x)"
   ]
  },
  {
   "cell_type": "code",
   "execution_count": 38,
   "metadata": {},
   "outputs": [
    {
     "name": "stdout",
     "output_type": "stream",
     "text": [
      "改变形状之前的x:  tf.Tensor(\n",
      "[[[1. 1. 1. 1. 1.]\n",
      "  [1. 1. 1. 1. 1.]\n",
      "  [1. 1. 1. 1. 1.]]\n",
      "\n",
      " [[1. 1. 1. 1. 1.]\n",
      "  [1. 1. 1. 1. 1.]\n",
      "  [1. 1. 1. 1. 1.]]], shape=(2, 3, 5), dtype=float32)\n",
      "改变形变之后的x tf.Tensor(\n",
      "[[1. 1.]\n",
      " [1. 1.]\n",
      " [1. 1.]\n",
      " [1. 1.]\n",
      " [1. 1.]\n",
      " [1. 1.]\n",
      " [1. 1.]\n",
      " [1. 1.]\n",
      " [1. 1.]\n",
      " [1. 1.]\n",
      " [1. 1.]\n",
      " [1. 1.]\n",
      " [1. 1.]\n",
      " [1. 1.]\n",
      " [1. 1.]], shape=(15, 2), dtype=float32)\n"
     ]
    }
   ],
   "source": [
    "x = tf.ones((2, 3, 5))\n",
    "print(\"改变形状之前的x: \", x)\n",
    "x = tf.reshape(x, shape=(15, 2))\n",
    "print(\"改变形变之后的x\", x)"
   ]
  },
  {
   "cell_type": "code",
   "execution_count": 39,
   "metadata": {},
   "outputs": [
    {
     "name": "stdout",
     "output_type": "stream",
     "text": [
      "改变形状之前的x:  tf.Tensor(\n",
      "[[[ 1  3  4  5]\n",
      "  [ 6  7  8  9]\n",
      "  [10 11 12 13]]\n",
      "\n",
      " [[14 15 16 17]\n",
      "  [18 19 20 21]\n",
      "  [22 23 24 25]]], shape=(2, 3, 4), dtype=int32)\n",
      "改变形变之后的x tf.Tensor(\n",
      "[[[ 1  3  4  5]\n",
      "  [ 6  7  8  9]]\n",
      "\n",
      " [[10 11 12 13]\n",
      "  [14 15 16 17]]\n",
      "\n",
      " [[18 19 20 21]\n",
      "  [22 23 24 25]]], shape=(3, 2, 4), dtype=int32)\n"
     ]
    }
   ],
   "source": [
    "x = tf.constant([[[1, 3, 4, 5], [6, 7, 8, 9], [10, 11, 12, 13]],\n",
    "                [[14, 15, 16, 17], [18, 19, 20, 21], [22, 23, 24, 25]]])\n",
    "print(\"改变形状之前的x: \", x)\n",
    "x = tf.reshape(x, shape=(3, 2, 4))\n",
    "print(\"改变形变之后的x\", x)"
   ]
  },
  {
   "cell_type": "markdown",
   "metadata": {},
   "source": [
    "######  3.2 转置\n",
    "- tf.transpose(tf.transpose(\n",
    "    a,\n",
    "    perm=None,\n",
    "    conjugate=False,\n",
    "    name='transpose'), \n",
    "    - a:张量，\n",
    "    - perm： 对张量的a的维度的操作，\n",
    "    - conjugate：如果为True，表示矩阵共轭转置"
   ]
  },
  {
   "cell_type": "code",
   "execution_count": 40,
   "metadata": {},
   "outputs": [
    {
     "name": "stdout",
     "output_type": "stream",
     "text": [
      "转置前x的大小： (2, 4)\n",
      "转置前的x为：  tf.Tensor(\n",
      "[[ 1  2  3  4]\n",
      " [ 7  8  9 10]], shape=(2, 4), dtype=int32)\n",
      "转置后x的大小： (4, 2)\n",
      "转置后的x为:  tf.Tensor(\n",
      "[[ 1  7]\n",
      " [ 2  8]\n",
      " [ 3  9]\n",
      " [ 4 10]], shape=(4, 2), dtype=int32)\n"
     ]
    }
   ],
   "source": [
    "x = tf.constant([[1, 2, 3, 4], [7, 8, 9, 10]])\n",
    "print(\"转置前x的大小：\", x.shape)\n",
    "print(\"转置前的x为： \", x)\n",
    "x = tf.transpose(x)\n",
    "print(\"转置后x的大小：\", x.shape)\n",
    "print(\"转置后的x为: \", x)"
   ]
  },
  {
   "cell_type": "markdown",
   "metadata": {},
   "source": [
    "- 参数perm, conjugate的应用"
   ]
  },
  {
   "cell_type": "code",
   "execution_count": 41,
   "metadata": {},
   "outputs": [
    {
     "name": "stdout",
     "output_type": "stream",
     "text": [
      "转置前x的大小： (2, 4)\n",
      "转置前的x为：  tf.Tensor(\n",
      "[[ 1  2  3  4]\n",
      " [ 7  8  9 10]], shape=(2, 4), dtype=int32)\n",
      "转置后x1的大小： (2, 4)\n",
      "转置后的x1为:  tf.Tensor(\n",
      "[[ 1  2  3  4]\n",
      " [ 7  8  9 10]], shape=(2, 4), dtype=int32)\n",
      "转置后x2的大小： (4, 2)\n",
      "转置后的x2为:  tf.Tensor(\n",
      "[[ 1  7]\n",
      " [ 2  8]\n",
      " [ 3  9]\n",
      " [ 4 10]], shape=(4, 2), dtype=int32)\n"
     ]
    }
   ],
   "source": [
    "x = tf.constant([[1, 2, 3, 4], [7, 8, 9, 10]])\n",
    "print(\"转置前x的大小：\", x.shape)\n",
    "print(\"转置前的x为： \", x)\n",
    "x1 = tf.transpose(x, perm=[0, 1])  #### 注意这里指定了转置操作[0, 1]，并没有对tensor x进行转置操作\n",
    "print(\"转置后x1的大小：\", x1.shape)\n",
    "print(\"转置后的x1为: \", x1)\n",
    "x2 = tf.transpose(x, perm=[1, 0])\n",
    "print(\"转置后x2的大小：\", x2.shape)\n",
    "print(\"转置后的x2为: \", x2)"
   ]
  },
  {
   "cell_type": "markdown",
   "metadata": {},
   "source": [
    "- 高阶张量"
   ]
  },
  {
   "cell_type": "code",
   "execution_count": 42,
   "metadata": {},
   "outputs": [
    {
     "name": "stdout",
     "output_type": "stream",
     "text": [
      "转置前x的大小： (2, 3, 4)\n",
      "转置前的x为：  tf.Tensor(\n",
      "[[[ 1  3  4  5]\n",
      "  [ 6  7  8  9]\n",
      "  [10 11 12 13]]\n",
      "\n",
      " [[14 15 16 17]\n",
      "  [18 19 20 21]\n",
      "  [22 23 24 25]]], shape=(2, 3, 4), dtype=int32)\n"
     ]
    }
   ],
   "source": [
    "x = tf.constant([[[1, 3, 4, 5], [6, 7, 8, 9], [10, 11, 12, 13]],\n",
    "                [[14, 15, 16, 17], [18, 19, 20, 21], [22, 23, 24, 25]]])\n",
    "print(\"转置前x的大小：\", x.shape)\n",
    "print(\"转置前的x为： \", x)"
   ]
  },
  {
   "cell_type": "markdown",
   "metadata": {},
   "source": [
    "转置讲解举例，\n",
    "- perm设置为[1, 0, 2], 转置后的shape为(3, 2, 4)。原来的矩阵表示成2x3的形状：\n",
    "  [[A, B, C], [D, E, F]], 其中A为[1, 3, 4, 5], B为[6, 7, 8, 9]，其余的依次类推。接下来转置，矩阵的形状为(3, 2),表示为\n",
    "  [[A, D],[B, E], [C, F]]。即：<br />\n",
    "  [[[1, 3, 4, 5], [14, 15, 16, 17]],<br />\n",
    "  [[6, 7, 8, 9], [18, 19, 20, 21]],<br />\n",
    "  [[10, 11, 12, 13], [22, 23, 24, 25]]]<br />\n",
    " #### 这里要注意与tf.reshape的区别"
   ]
  },
  {
   "cell_type": "markdown",
   "metadata": {},
   "source": [
    "x1 = tf.transpose(x, perm=[1, 0, 2])\n",
    "print(\"转置后的x1的大小： \", x1.shape)\n",
    "print(\"转置前的x1为： \", x1)"
   ]
  },
  {
   "cell_type": "markdown",
   "metadata": {},
   "source": [
    "转置讲解举例，\n",
    "- perm设置为[0, 2, 1], 转置后的shape为(2, 4, 3)。"
   ]
  },
  {
   "cell_type": "code",
   "execution_count": 43,
   "metadata": {},
   "outputs": [
    {
     "name": "stdout",
     "output_type": "stream",
     "text": [
      "转置后的x1的大小：  (2, 4, 3)\n",
      "转置前的x1为：  tf.Tensor(\n",
      "[[[ 1  6 10]\n",
      "  [ 3  7 11]\n",
      "  [ 4  8 12]\n",
      "  [ 5  9 13]]\n",
      "\n",
      " [[14 18 22]\n",
      "  [15 19 23]\n",
      "  [16 20 24]\n",
      "  [17 21 25]]], shape=(2, 4, 3), dtype=int32)\n"
     ]
    }
   ],
   "source": [
    "x2 = tf.transpose(x, perm=[0, 2, 1])\n",
    "print(\"转置后的x1的大小： \", x2.shape)\n",
    "print(\"转置前的x1为： \", x2)"
   ]
  },
  {
   "cell_type": "markdown",
   "metadata": {},
   "source": [
    "- 共轭转置\n",
    "  - conjugate=True"
   ]
  },
  {
   "cell_type": "code",
   "execution_count": 44,
   "metadata": {},
   "outputs": [
    {
     "name": "stdout",
     "output_type": "stream",
     "text": [
      "转置前的x的大小：  (2, 3)\n",
      "转置前的x为：  tf.Tensor(\n",
      "[[ 1.-5.j  5.-3.j  4.-2.j]\n",
      " [ 3.+3.j  5.+8.j 10.-6.j]], shape=(2, 3), dtype=complex128)\n",
      "转置后的x的大小：  (3, 2)\n",
      "转置后的x为：  tf.Tensor(\n",
      "[[ 1.+5.j  3.-3.j]\n",
      " [ 5.+3.j  5.-8.j]\n",
      " [ 4.+2.j 10.+6.j]], shape=(3, 2), dtype=complex128)\n"
     ]
    }
   ],
   "source": [
    "x = tf.constant([[1-5j, 5-3j, 4-2j], [3+3j, 5+8j, 10-6j]])\n",
    "print(\"转置前的x的大小： \", x.shape)\n",
    "print(\"转置前的x为： \", x)\n",
    "x = tf.transpose(x, conjugate=True)\n",
    "print(\"转置后的x的大小： \", x.shape)\n",
    "print(\"转置后的x为： \", x)"
   ]
  },
  {
   "cell_type": "markdown",
   "metadata": {},
   "source": [
    "###### 3.3 增加维度\n",
    "  - tf.expand_dims(\n",
    "    input,\n",
    "    axis,\n",
    "    name=None)，\n",
    "    - input：D维的tensor \n",
    "    - axis：维度index，整数，取值范围是[-(D+1), D]"
   ]
  },
  {
   "cell_type": "code",
   "execution_count": 45,
   "metadata": {},
   "outputs": [
    {
     "name": "stdout",
     "output_type": "stream",
     "text": [
      "增维前x的大小： (2, 3, 4)\n",
      "增维前的x为：  tf.Tensor(\n",
      "[[[ 1  3  4  5]\n",
      "  [ 6  7  8  9]\n",
      "  [10 11 12 13]]\n",
      "\n",
      " [[14 15 16 17]\n",
      "  [18 19 20 21]\n",
      "  [22 23 24 25]]], shape=(2, 3, 4), dtype=int32)\n"
     ]
    }
   ],
   "source": [
    "x = tf.constant([[[1, 3, 4, 5], [6, 7, 8, 9], [10, 11, 12, 13]],\n",
    "                [[14, 15, 16, 17], [18, 19, 20, 21], [22, 23, 24, 25]]])\n",
    "print(\"增维前x的大小：\", x.shape)\n",
    "print(\"增维前的x为： \", x)"
   ]
  },
  {
   "cell_type": "code",
   "execution_count": 46,
   "metadata": {},
   "outputs": [
    {
     "name": "stdout",
     "output_type": "stream",
     "text": [
      "增维后的x的shape：  (1, 2, 3, 4)\n",
      "增维后的x为： tf.Tensor(\n",
      "[[[[ 1  3  4  5]\n",
      "   [ 6  7  8  9]\n",
      "   [10 11 12 13]]\n",
      "\n",
      "  [[14 15 16 17]\n",
      "   [18 19 20 21]\n",
      "   [22 23 24 25]]]], shape=(1, 2, 3, 4), dtype=int32)\n"
     ]
    }
   ],
   "source": [
    "x1 = tf.expand_dims(x, axis=0)\n",
    "print(\"增维后的x的shape： \", x1.shape)\n",
    "print(\"增维后的x为：\", x1)"
   ]
  },
  {
   "cell_type": "code",
   "execution_count": 47,
   "metadata": {},
   "outputs": [
    {
     "name": "stdout",
     "output_type": "stream",
     "text": [
      "增维后的x的shape：  (2, 1, 3, 4)\n",
      "增维后的x为： tf.Tensor(\n",
      "[[[[ 1  3  4  5]\n",
      "   [ 6  7  8  9]\n",
      "   [10 11 12 13]]]\n",
      "\n",
      "\n",
      " [[[14 15 16 17]\n",
      "   [18 19 20 21]\n",
      "   [22 23 24 25]]]], shape=(2, 1, 3, 4), dtype=int32)\n"
     ]
    }
   ],
   "source": [
    "x1 = tf.expand_dims(x, axis=1)\n",
    "print(\"增维后的x的shape： \", x1.shape)\n",
    "print(\"增维后的x为：\", x1)"
   ]
  },
  {
   "cell_type": "code",
   "execution_count": 48,
   "metadata": {},
   "outputs": [
    {
     "name": "stdout",
     "output_type": "stream",
     "text": [
      "增维后的x的shape：  (2, 3, 1, 4)\n",
      "增维后的x为： tf.Tensor(\n",
      "[[[[ 1  3  4  5]]\n",
      "\n",
      "  [[ 6  7  8  9]]\n",
      "\n",
      "  [[10 11 12 13]]]\n",
      "\n",
      "\n",
      " [[[14 15 16 17]]\n",
      "\n",
      "  [[18 19 20 21]]\n",
      "\n",
      "  [[22 23 24 25]]]], shape=(2, 3, 1, 4), dtype=int32)\n"
     ]
    }
   ],
   "source": [
    "x1 = tf.expand_dims(x, axis=2)\n",
    "print(\"增维后的x的shape： \", x1.shape)\n",
    "print(\"增维后的x为：\", x1)"
   ]
  },
  {
   "cell_type": "code",
   "execution_count": 49,
   "metadata": {},
   "outputs": [
    {
     "name": "stdout",
     "output_type": "stream",
     "text": [
      "增维后的x的shape：  (2, 3, 4, 1)\n",
      "增维后的x为： tf.Tensor(\n",
      "[[[[ 1]\n",
      "   [ 3]\n",
      "   [ 4]\n",
      "   [ 5]]\n",
      "\n",
      "  [[ 6]\n",
      "   [ 7]\n",
      "   [ 8]\n",
      "   [ 9]]\n",
      "\n",
      "  [[10]\n",
      "   [11]\n",
      "   [12]\n",
      "   [13]]]\n",
      "\n",
      "\n",
      " [[[14]\n",
      "   [15]\n",
      "   [16]\n",
      "   [17]]\n",
      "\n",
      "  [[18]\n",
      "   [19]\n",
      "   [20]\n",
      "   [21]]\n",
      "\n",
      "  [[22]\n",
      "   [23]\n",
      "   [24]\n",
      "   [25]]]], shape=(2, 3, 4, 1), dtype=int32)\n"
     ]
    }
   ],
   "source": [
    "x1 = tf.expand_dims(x, axis=3)\n",
    "print(\"增维后的x的shape： \", x1.shape)\n",
    "print(\"增维后的x为：\", x1)"
   ]
  },
  {
   "cell_type": "code",
   "execution_count": 50,
   "metadata": {},
   "outputs": [
    {
     "name": "stdout",
     "output_type": "stream",
     "text": [
      "增维后的x的shape：  (2, 3, 4, 1)\n",
      "增维后的x为： tf.Tensor(\n",
      "[[[[ 1]\n",
      "   [ 3]\n",
      "   [ 4]\n",
      "   [ 5]]\n",
      "\n",
      "  [[ 6]\n",
      "   [ 7]\n",
      "   [ 8]\n",
      "   [ 9]]\n",
      "\n",
      "  [[10]\n",
      "   [11]\n",
      "   [12]\n",
      "   [13]]]\n",
      "\n",
      "\n",
      " [[[14]\n",
      "   [15]\n",
      "   [16]\n",
      "   [17]]\n",
      "\n",
      "  [[18]\n",
      "   [19]\n",
      "   [20]\n",
      "   [21]]\n",
      "\n",
      "  [[22]\n",
      "   [23]\n",
      "   [24]\n",
      "   [25]]]], shape=(2, 3, 4, 1), dtype=int32)\n"
     ]
    }
   ],
   "source": [
    "x1 = tf.expand_dims(x, axis=-1)\n",
    "print(\"增维后的x的shape： \", x1.shape)\n",
    "print(\"增维后的x为：\", x1)"
   ]
  },
  {
   "cell_type": "code",
   "execution_count": 51,
   "metadata": {},
   "outputs": [
    {
     "name": "stdout",
     "output_type": "stream",
     "text": [
      "增维后的x的shape：  (2, 3, 1, 4)\n",
      "增维后的x为： tf.Tensor(\n",
      "[[[[ 1  3  4  5]]\n",
      "\n",
      "  [[ 6  7  8  9]]\n",
      "\n",
      "  [[10 11 12 13]]]\n",
      "\n",
      "\n",
      " [[[14 15 16 17]]\n",
      "\n",
      "  [[18 19 20 21]]\n",
      "\n",
      "  [[22 23 24 25]]]], shape=(2, 3, 1, 4), dtype=int32)\n"
     ]
    }
   ],
   "source": [
    "x1 = tf.expand_dims(x, axis=-2)\n",
    "print(\"增维后的x的shape： \", x1.shape)\n",
    "print(\"增维后的x为：\", x1)"
   ]
  },
  {
   "cell_type": "markdown",
   "metadata": {},
   "source": [
    "######  3.4 删减维度\n",
    "- tf.squeeze(input, axis=None, name=None, squeeze_dims=None)\n",
    "  - input: 输入删除的张量\n",
    "  - axis: 默认为[].如果指定,只能挤压列出的尺寸.维度索引从0开始.压缩非1的维度是错误的.必须在范围内[-rank(input), rank(input))]\n",
    "  - squeeze_dims: 现在是轴的已弃用的关键字参数"
   ]
  },
  {
   "cell_type": "code",
   "execution_count": 52,
   "metadata": {},
   "outputs": [
    {
     "name": "stdout",
     "output_type": "stream",
     "text": [
      "(2, 3, 5)\n"
     ]
    }
   ],
   "source": [
    "x = tf.random.normal(shape=(2, 3, 1, 5, 1))\n",
    "x = tf.squeeze(x)\n",
    "print(x.shape)"
   ]
  },
  {
   "cell_type": "code",
   "execution_count": 53,
   "metadata": {},
   "outputs": [
    {
     "name": "stdout",
     "output_type": "stream",
     "text": [
      "(2, 3, 5)\n"
     ]
    }
   ],
   "source": [
    "x = tf.random.normal(shape=(2, 3, 1, 5, 1))\n",
    "x = tf.squeeze(x, axis=[2, 4]) ### 注意这里的axis取值维度为1\n",
    "print(x.shape)"
   ]
  },
  {
   "cell_type": "code",
   "execution_count": null,
   "metadata": {
    "collapsed": true
   },
   "outputs": [],
   "source": []
  },
  {
   "cell_type": "code",
   "execution_count": null,
   "metadata": {
    "collapsed": true
   },
   "outputs": [],
   "source": []
  },
  {
   "cell_type": "markdown",
   "metadata": {},
   "source": [
    "######  3.5 切片\n",
    "说明：<br />\n",
    "    符号&emsp; &emsp; &emsp;&emsp;&emsp;解释 &emsp; <br />\n",
    "     : &emsp;  &emsp;&emsp;&emsp;&emsp;&emsp;读取所有的元素<br />\n",
    "     start:end&emsp;&emsp;&emsp;&emsp;从start开始选取数据到end，步长为1<br />\n",
    "     start:end:step&emsp;&emsp;从start开始选取直到end，步长为step<br />\n",
    "     start:&emsp;&emsp;&emsp;&emsp;&emsp;选取start后面所有的元素<br />\n",
    "     :end&emsp;&emsp;&emsp;&emsp;&emsp;从0开始选取元素知道end，步长为1"
   ]
  },
  {
   "cell_type": "code",
   "execution_count": 54,
   "metadata": {},
   "outputs": [
    {
     "name": "stdout",
     "output_type": "stream",
     "text": [
      "增维前x的大小： (2, 3, 5)\n",
      "增维前的x为：  tf.Tensor(\n",
      "[[[ 1  3  4  5 11]\n",
      "  [ 6  7  8  9 20]\n",
      "  [10 11 12 13 90]]\n",
      "\n",
      " [[14 15 16 17 24]\n",
      "  [18 19 20 21 91]\n",
      "  [22 23 24 25 26]]], shape=(2, 3, 5), dtype=int32)\n"
     ]
    }
   ],
   "source": [
    "x = tf.constant([[[1, 3, 4, 5, 11], [6, 7, 8, 9, 20], [10, 11, 12, 13, 90]],\n",
    "                [[14, 15, 16, 17, 24], [18, 19, 20, 21, 91], [22, 23, 24, 25, 26]]])\n",
    "print(\"增维前x的大小：\", x.shape)\n",
    "print(\"增维前的x为： \", x)"
   ]
  },
  {
   "cell_type": "markdown",
   "metadata": {},
   "source": [
    "- 选取某一维度下的数据"
   ]
  },
  {
   "cell_type": "code",
   "execution_count": 55,
   "metadata": {},
   "outputs": [
    {
     "name": "stdout",
     "output_type": "stream",
     "text": [
      "tf.Tensor(\n",
      "[[14 15 16 17 24]\n",
      " [18 19 20 21 91]\n",
      " [22 23 24 25 26]], shape=(3, 5), dtype=int32)\n"
     ]
    }
   ],
   "source": [
    "x1 = x[1, :, :]\n",
    "print(x1)"
   ]
  },
  {
   "cell_type": "code",
   "execution_count": 56,
   "metadata": {},
   "outputs": [
    {
     "name": "stdout",
     "output_type": "stream",
     "text": [
      "tf.Tensor(\n",
      "[[[ 1  3  4  5 11]\n",
      "  [ 6  7  8  9 20]]\n",
      "\n",
      " [[14 15 16 17 24]\n",
      "  [18 19 20 21 91]]], shape=(2, 2, 5), dtype=int32)\n"
     ]
    }
   ],
   "source": [
    "x2 = x[:, :2, :]\n",
    "print(x2)"
   ]
  },
  {
   "cell_type": "code",
   "execution_count": 57,
   "metadata": {},
   "outputs": [
    {
     "name": "stdout",
     "output_type": "stream",
     "text": [
      "tf.Tensor(\n",
      "[[[ 1  4]\n",
      "  [ 6  8]\n",
      "  [10 12]]\n",
      "\n",
      " [[14 16]\n",
      "  [18 20]\n",
      "  [22 24]]], shape=(2, 3, 2), dtype=int32)\n"
     ]
    }
   ],
   "source": [
    "x3 = x[:, :, 0:4:2]\n",
    "print(x3)"
   ]
  },
  {
   "cell_type": "code",
   "execution_count": 58,
   "metadata": {},
   "outputs": [
    {
     "name": "stdout",
     "output_type": "stream",
     "text": [
      "tf.Tensor(\n",
      "[[[ 4  5 11]\n",
      "  [ 8  9 20]\n",
      "  [12 13 90]]\n",
      "\n",
      " [[16 17 24]\n",
      "  [20 21 91]\n",
      "  [24 25 26]]], shape=(2, 3, 3), dtype=int32)\n"
     ]
    }
   ],
   "source": [
    "x4 = x[:, :, -3:]\n",
    "print(x4)"
   ]
  },
  {
   "cell_type": "markdown",
   "metadata": {
    "collapsed": true
   },
   "source": [
    "######  3.6 合并分割\n",
    "常用的API：<br />\n",
    "- tf.concat(values, axis, name='concat')\n",
    "  - values: 张量，至少两个张量\n",
    "  - axis： 指定合并的维度\n",
    "  - 注意：在合并拼接的时候，非合并的维度要相同\n",
    "-  tf.stack(values, axis=0, name='stack')\n",
    "  - valus: 张量\n",
    "  - axis：默认为0\n",
    "  - 注意：拼接张量的shape要相同\n",
    "- tf.split(value, num_or_size_splits, axis=0, num=None, name='split')\n",
    "  - value: 张量\n",
    "  - axis： 默认为0，指定分割的维度索引\n",
    "  - num_or_size_splits： 分割的方式，整数或者list"
   ]
  },
  {
   "cell_type": "code",
   "execution_count": 59,
   "metadata": {},
   "outputs": [
    {
     "name": "stdout",
     "output_type": "stream",
     "text": [
      "tf.Tensor(\n",
      "[[-0.93029803  0.27778095  0.6449627 ]\n",
      " [-0.5116909   0.4986836  -0.8018432 ]\n",
      " [ 1.9743593   0.06674408 -0.92186004]\n",
      " [ 0.91558284  1.210929   -0.5874006 ]\n",
      " [-1.3078653  -1.7332596   0.18170097]], shape=(5, 3), dtype=float32)\n",
      "(5, 3)\n"
     ]
    }
   ],
   "source": [
    "x = tf.random.normal(shape=(2, 3))\n",
    "y = tf.random.normal(shape=(3, 3))\n",
    "z = tf.concat([x, y], axis=0)\n",
    "print(z)\n",
    "print(z.shape)"
   ]
  },
  {
   "cell_type": "code",
   "execution_count": 60,
   "metadata": {},
   "outputs": [
    {
     "name": "stdout",
     "output_type": "stream",
     "text": [
      "tf.Tensor(\n",
      "[[-1.315665   -2.1792698  -0.37691742 -0.24764797  1.8378568  -0.93749684\n",
      "   1.0427437 ]\n",
      " [-0.0700962   1.499265    0.16606186  0.5113722   0.96340144 -0.31679788\n",
      "  -0.23713078]\n",
      " [ 0.41360396  0.5864333  -0.8304593  -0.2795766   0.35045964  0.5973646\n",
      "  -0.35830992]], shape=(3, 7), dtype=float32)\n",
      "(3, 7)\n"
     ]
    }
   ],
   "source": [
    "x = tf.random.normal(shape=(3, 3))\n",
    "y = tf.random.normal(shape=(3, 4))\n",
    "z = tf.concat([x, y], axis=1)\n",
    "print(z)\n",
    "print(z.shape)"
   ]
  },
  {
   "cell_type": "code",
   "execution_count": 61,
   "metadata": {},
   "outputs": [
    {
     "name": "stdout",
     "output_type": "stream",
     "text": [
      "(2, 3, 3)\n"
     ]
    }
   ],
   "source": [
    "x = tf.random.normal(shape=(3, 3))\n",
    "y = tf.random.normal(shape=(3, 3))\n",
    "z = tf.stack([x, y], axis=0)\n",
    "print(z.shape)"
   ]
  },
  {
   "cell_type": "code",
   "execution_count": 62,
   "metadata": {},
   "outputs": [
    {
     "name": "stdout",
     "output_type": "stream",
     "text": [
      "(3, 2, 3)\n"
     ]
    }
   ],
   "source": [
    "x = tf.random.normal(shape=(3, 3))\n",
    "y = tf.random.normal(shape=(3, 3))\n",
    "z = tf.stack([x, y], axis=1)\n",
    "print(z.shape)"
   ]
  },
  {
   "cell_type": "code",
   "execution_count": 63,
   "metadata": {},
   "outputs": [
    {
     "name": "stdout",
     "output_type": "stream",
     "text": [
      "(3, 3, 2)\n",
      "tf.Tensor(\n",
      "[[[-0.97388303 -0.44279194]\n",
      "  [-0.2313578   0.63508314]\n",
      "  [-0.2792     -0.61361456]]\n",
      "\n",
      " [[-2.5795019  -0.6108466 ]\n",
      "  [-1.4779611   1.8390737 ]\n",
      "  [ 0.12480089  0.30202314]]\n",
      "\n",
      " [[-0.6290217   2.04285   ]\n",
      "  [ 1.4663074   0.5290818 ]\n",
      "  [ 0.46374196  1.3765042 ]]], shape=(3, 3, 2), dtype=float32)\n"
     ]
    }
   ],
   "source": [
    "x = tf.random.normal(shape=(3, 3))\n",
    "y = tf.random.normal(shape=(3, 3))\n",
    "z = tf.stack([x, y], axis=-1)\n",
    "print(z.shape)\n",
    "print(z)"
   ]
  },
  {
   "cell_type": "markdown",
   "metadata": {},
   "source": [
    "- 分割 tf.split()"
   ]
  },
  {
   "cell_type": "code",
   "execution_count": 64,
   "metadata": {},
   "outputs": [
    {
     "name": "stdout",
     "output_type": "stream",
     "text": [
      "[<tf.Tensor: id=324, shape=(2, 36, 8), dtype=float32, numpy=\n",
      "array([[[ 1.013633  ,  0.463873  ,  0.9678133 ,  0.00441829,\n",
      "         -0.26366878, -0.9044769 ,  0.28471196,  0.02302913],\n",
      "        [ 0.56820333,  0.35891286,  0.23323181,  1.2158802 ,\n",
      "          0.61127275, -0.09202087, -1.3902041 , -0.4138528 ],\n",
      "        [-2.1048121 ,  0.13920434,  0.8723731 , -0.15637098,\n",
      "         -0.98006445,  1.2513566 , -0.74643743, -0.34835067],\n",
      "        [ 0.5660868 ,  2.0370898 , -1.8101919 , -0.39914367,\n",
      "         -1.8364533 , -0.74636763,  0.36354342,  1.4216106 ],\n",
      "        [-0.19920763,  1.0540507 , -1.4831898 ,  1.6823387 ,\n",
      "          0.22904135, -1.9228628 ,  1.006968  , -0.18982637],\n",
      "        [-1.3867202 ,  0.5650872 ,  0.88047093,  0.38503212,\n",
      "         -0.93784094,  1.0284113 , -1.2435268 ,  1.0571855 ],\n",
      "        [-0.45590428,  0.1677417 , -0.7128247 , -0.02970551,\n",
      "         -1.5273465 , -2.1628344 ,  0.17976207,  0.8900899 ],\n",
      "        [-3.3842278 , -0.76587576, -0.37027776,  0.6375092 ,\n",
      "         -0.80596995, -0.00686174,  1.8525428 ,  0.35403264],\n",
      "        [ 0.01471427, -1.7522304 , -0.34314355,  0.86618817,\n",
      "         -0.18305056, -1.5724374 ,  1.725399  , -1.2535505 ],\n",
      "        [-0.10213415,  0.17888439, -1.1430763 ,  1.0045878 ,\n",
      "          0.42947426,  0.2956167 ,  0.7364491 , -0.9725356 ],\n",
      "        [-0.5108605 ,  0.38768587,  0.6711941 ,  0.7145335 ,\n",
      "          0.26633114, -0.6508422 , -0.07182787,  0.33904016],\n",
      "        [ 0.6735177 , -0.5264453 ,  0.4450177 , -0.21650612,\n",
      "         -0.39313003,  0.9080589 ,  1.6678905 ,  0.517932  ],\n",
      "        [ 2.020971  , -0.7707189 , -0.7566894 , -1.0199137 ,\n",
      "         -1.2045908 , -0.28184035,  0.61587274, -0.47667906],\n",
      "        [ 0.09747528, -0.44711456, -0.48864642, -0.36725804,\n",
      "          2.2028327 , -0.61658907, -0.9726766 ,  0.86985826],\n",
      "        [ 0.31149626, -0.0700601 , -1.7710581 , -0.6462147 ,\n",
      "          0.3715635 , -0.18785328,  0.36931825, -0.24828355],\n",
      "        [ 0.37885395,  2.2971504 , -0.597931  , -1.9632027 ,\n",
      "         -2.0057945 ,  0.21665783,  0.24268562,  0.6366571 ],\n",
      "        [-0.6281363 , -1.2743367 ,  0.4000161 , -0.05960046,\n",
      "          0.2748795 ,  0.4910857 ,  0.70636904,  0.9348686 ],\n",
      "        [-0.24854863,  0.55517966,  0.6485829 , -1.4994502 ,\n",
      "         -0.76100385,  0.39786726,  0.294269  ,  1.321837  ],\n",
      "        [ 0.31999415, -0.77776915, -0.24902338,  0.59377515,\n",
      "         -0.3617327 , -0.47242317, -0.24321197,  0.547003  ],\n",
      "        [ 1.721074  ,  0.47502127, -1.7250586 ,  0.6502058 ,\n",
      "         -0.45473832, -0.04766574, -1.134201  , -1.1047926 ],\n",
      "        [-2.6940439 , -1.2408613 ,  0.5595195 ,  1.327068  ,\n",
      "         -1.6040109 , -0.89370364, -1.1791095 ,  0.57216954],\n",
      "        [ 0.86549544, -0.96522796, -0.6150528 , -1.5964233 ,\n",
      "         -1.6500493 ,  0.24072236, -0.42160523, -0.15541993],\n",
      "        [-0.5782455 ,  0.81824505, -0.9231831 , -0.41413462,\n",
      "         -0.65756655, -1.6148169 , -0.8905214 ,  0.74370944],\n",
      "        [ 0.62445337,  0.09774943, -1.0749993 ,  0.09379096,\n",
      "          0.390066  ,  1.171442  , -0.06362894, -0.07116979],\n",
      "        [ 0.9085159 ,  0.24068387, -0.6030828 ,  0.9692533 ,\n",
      "         -0.4846347 ,  0.0281126 , -0.44487894, -1.2438203 ],\n",
      "        [ 0.08984802,  0.5882045 ,  0.0830133 , -0.04217031,\n",
      "         -0.4379207 ,  0.45748058,  0.31915644, -0.42119175],\n",
      "        [-0.25057945,  1.9476813 , -1.6815686 ,  2.6960044 ,\n",
      "          2.2331822 ,  0.19835086, -1.7830274 ,  0.34448832],\n",
      "        [ 1.7627773 ,  0.7320649 ,  0.5006119 ,  1.3494339 ,\n",
      "          0.1451915 ,  1.9482427 ,  0.32659248,  0.20498416],\n",
      "        [ 1.1573781 ,  0.68657744, -0.01875207,  0.30096692,\n",
      "          1.5656193 ,  0.15166414, -0.5875134 , -0.6195053 ],\n",
      "        [ 0.8131005 , -0.8415426 , -0.5828423 ,  0.33210027,\n",
      "          1.4961631 , -1.1134269 , -0.42337358,  1.305872  ],\n",
      "        [-2.6278152 ,  0.41570178,  1.5391762 , -0.43385535,\n",
      "         -0.4483353 ,  0.27735016,  0.24976286,  0.72471875],\n",
      "        [-0.8436498 , -1.6869352 ,  0.53400296,  0.33141014,\n",
      "          0.31987256,  1.7496421 , -0.46315226,  0.708372  ],\n",
      "        [ 0.41478914,  0.22430901, -1.5284966 ,  1.2042708 ,\n",
      "         -0.24540195,  0.8465639 , -2.4289331 , -0.5298489 ],\n",
      "        [-1.7434187 ,  0.19420975, -0.7918006 , -0.8074499 ,\n",
      "         -0.4257178 ,  1.6650511 , -1.0129763 ,  0.06126557],\n",
      "        [ 1.0149249 ,  0.13352095,  0.6984386 , -0.5514945 ,\n",
      "          0.33622143,  0.53266954, -0.7353041 ,  0.22981465],\n",
      "        [-0.9743905 , -2.2233062 , -1.2273424 ,  0.4813918 ,\n",
      "          0.28292653,  0.7655005 ,  0.5228955 ,  0.68348294]],\n",
      "\n",
      "       [[-1.5922796 , -1.1769099 , -0.79865867, -0.02861028,\n",
      "         -0.06500495, -1.4906088 , -2.1266747 ,  1.4374602 ],\n",
      "        [ 0.06246888,  1.7978463 ,  0.8868129 ,  1.0573925 ,\n",
      "         -0.9602572 ,  0.52113116,  0.5649632 ,  0.60042584],\n",
      "        [ 0.8234917 , -0.41265246, -1.6117597 ,  0.5545479 ,\n",
      "         -0.13493301, -1.0118871 ,  0.76979977, -0.41186482],\n",
      "        [-1.6594416 , -0.54774815,  1.3973516 , -0.24489011,\n",
      "          0.7601486 ,  1.1537404 , -0.74099255, -1.1586958 ],\n",
      "        [ 0.66403556, -0.5946258 , -0.7000854 ,  0.78543466,\n",
      "          0.950232  , -0.9246148 , -0.03422418,  0.4159531 ],\n",
      "        [ 0.81490135,  0.60566914, -2.6764016 , -0.26038474,\n",
      "          0.93479514,  0.5843049 ,  0.90014315,  0.10453609],\n",
      "        [ 0.74448836,  0.52903354,  1.5879112 , -1.3534993 ,\n",
      "         -0.7628426 ,  0.12677227, -0.75320417,  1.3119799 ],\n",
      "        [ 0.7981317 ,  0.8246549 , -0.16654672, -0.4298144 ,\n",
      "          0.83642274,  0.8489735 , -0.56497425,  1.2754542 ],\n",
      "        [-1.5330888 ,  0.3918333 , -0.39618963, -1.4803672 ,\n",
      "          0.87416047,  0.34827   , -0.3271181 ,  0.17731752],\n",
      "        [ 0.6314946 , -0.14038058, -0.29370448,  1.2694783 ,\n",
      "          0.9333211 , -1.27231   , -0.16347504, -2.101406  ],\n",
      "        [ 0.29031634, -0.6458033 ,  0.5164163 ,  0.86527056,\n",
      "          0.37807903,  0.4448406 , -1.1368405 , -0.6816665 ],\n",
      "        [ 1.8701687 ,  0.31729347,  0.3265781 , -0.77194697,\n",
      "         -1.279193  , -0.6969354 ,  0.83865386,  0.7342952 ],\n",
      "        [ 0.613805  ,  0.26673934,  0.11579921,  0.3965366 ,\n",
      "          2.075074  , -0.898619  , -0.32284325,  0.93074733],\n",
      "        [ 1.6440862 , -0.7944733 ,  0.9529534 ,  0.8979543 ,\n",
      "         -0.3856655 ,  0.1809906 ,  2.8884764 ,  0.45823207],\n",
      "        [-0.5106623 , -0.11953019, -0.23624118, -3.0674179 ,\n",
      "          1.7522386 , -0.05094786, -0.7101611 ,  0.02098974],\n",
      "        [ 1.2106394 , -1.163975  , -0.43995604,  1.5424827 ,\n",
      "          1.0710484 , -0.5991719 ,  1.421739  , -1.3594118 ],\n",
      "        [-0.3219388 ,  0.15599719,  0.14896134, -0.17562093,\n",
      "          0.15716876, -0.07285517, -0.01761044, -0.1948217 ],\n",
      "        [-1.0407141 ,  0.7222707 , -0.52341056,  0.01325612,\n",
      "         -0.4054652 ,  1.0563042 , -0.21442021,  0.7602866 ],\n",
      "        [ 0.5645869 , -0.39398208, -0.15874133, -1.3926151 ,\n",
      "         -0.27560642, -0.9109297 ,  2.168071  , -0.4523422 ],\n",
      "        [ 0.07571395,  0.6411909 , -0.6219674 ,  0.27635396,\n",
      "          0.09901487, -1.7060113 , -0.2867052 , -0.02077197],\n",
      "        [-0.8852515 ,  0.05937568,  1.3063991 ,  0.26332128,\n",
      "          0.00844812, -0.3984616 , -0.4455726 , -1.412255  ],\n",
      "        [-2.1703854 , -0.23043434, -0.14409679,  2.560066  ,\n",
      "         -0.24838105, -0.07711592, -1.1593722 , -0.31840834],\n",
      "        [-2.0893946 , -0.56787115, -0.15003335, -0.32003194,\n",
      "         -0.82574695,  0.09455333,  1.4501251 , -0.65792215],\n",
      "        [-0.66054624,  0.32964167,  1.0538772 , -0.5833743 ,\n",
      "          0.7432224 , -1.5909765 , -0.12197082,  0.6786817 ],\n",
      "        [ 1.2481532 , -0.2573564 , -0.43490416,  0.37789714,\n",
      "          0.91734165,  0.3503906 , -0.970869  ,  1.5410951 ],\n",
      "        [ 0.31606674,  0.59807897, -0.85760856, -1.2372181 ,\n",
      "          2.1985414 , -0.37639266,  1.8246303 , -0.2607366 ],\n",
      "        [-0.02504358,  0.36580756,  0.20668797,  0.77812773,\n",
      "          0.73603916,  0.9140418 ,  1.287319  ,  1.4527962 ],\n",
      "        [-1.4407604 , -0.34039968,  1.654801  , -1.2050619 ,\n",
      "          0.4585621 ,  0.2334014 ,  0.6946411 , -0.5672393 ],\n",
      "        [-1.4259583 ,  0.02314142,  0.17194375, -0.7354997 ,\n",
      "         -1.5664935 , -0.5351669 , -1.2697172 , -0.92698133],\n",
      "        [-0.24458729,  1.9054995 , -0.32974252, -1.699305  ,\n",
      "         -0.48579606,  0.507663  ,  0.54105145, -2.1274574 ],\n",
      "        [-0.15892167,  2.817057  , -1.4833176 , -0.8736252 ,\n",
      "         -0.31752637, -0.78087604, -1.3644207 ,  0.08966587],\n",
      "        [-1.5418153 ,  1.2434692 ,  0.3158628 ,  0.95204186,\n",
      "         -0.39178696, -1.1267092 ,  0.3229022 , -1.8189008 ],\n",
      "        [-0.30402854, -0.79504335, -1.1108255 ,  0.9247802 ,\n",
      "          0.2931653 , -0.10974476,  1.6600009 ,  0.6834107 ],\n",
      "        [-0.3097107 , -0.04787401, -0.58846   , -0.57160735,\n",
      "          0.84989953, -1.2714076 , -0.54738945,  0.76653594],\n",
      "        [ 0.77651906, -0.46127898,  0.40839225,  0.03232628,\n",
      "         -0.5955428 ,  0.54370344,  0.6468029 ,  0.25628442],\n",
      "        [-0.02013342, -0.558419  , -0.1685041 ,  0.584895  ,\n",
      "          1.0953579 ,  1.1309699 ,  0.63928497,  1.0106933 ]]],\n",
      "      dtype=float32)>, <tf.Tensor: id=325, shape=(2, 36, 8), dtype=float32, numpy=\n",
      "array([[[-1.79376453e-01,  1.02120197e+00,  3.69043291e-01,\n",
      "          8.05750370e-01, -6.69362485e-01, -9.24492300e-01,\n",
      "          5.17087877e-01, -5.25857508e-01],\n",
      "        [-4.63182330e-01,  5.40470898e-01, -1.38815296e+00,\n",
      "         -1.05624937e-01, -2.93309033e-01,  1.69533575e+00,\n",
      "          7.33130872e-02,  3.85423511e-01],\n",
      "        [ 1.46376705e+00, -1.19026951e-01, -6.25251532e-01,\n",
      "         -1.12043627e-01,  3.46726120e-01, -1.13930631e+00,\n",
      "         -2.38075048e-01,  4.74645674e-01],\n",
      "        [ 1.19966924e+00, -1.96076304e-01,  4.73624468e-01,\n",
      "         -5.75076759e-01,  8.69856298e-01,  1.01582170e+00,\n",
      "         -4.99438271e-02, -1.72339725e+00],\n",
      "        [-4.76539433e-02, -6.27485096e-01, -6.00459516e-01,\n",
      "         -1.27035156e-01,  1.92169976e+00,  4.69809443e-01,\n",
      "          1.38209486e+00,  1.98517644e+00],\n",
      "        [ 1.65620595e-02,  2.27895111e-01,  5.83372831e-01,\n",
      "          1.38397038e-01,  1.22759253e-01, -1.61002028e+00,\n",
      "         -6.18134677e-01, -6.65712416e-01],\n",
      "        [ 1.86366320e+00,  4.13704626e-02, -7.88965225e-01,\n",
      "         -6.70492975e-03, -1.28336179e+00, -2.66923696e-01,\n",
      "         -5.85844934e-01, -1.76457357e+00],\n",
      "        [ 7.24525869e-01, -1.13211453e-01, -8.19269538e-01,\n",
      "          1.16903909e-01,  4.74927932e-01, -1.34268248e+00,\n",
      "          4.78863567e-01, -4.34798658e-01],\n",
      "        [-3.96184802e-01,  3.04531664e-01,  7.39745378e-01,\n",
      "          1.71057034e+00,  2.56734312e-01, -6.96034312e-01,\n",
      "         -3.46275002e-01, -1.98531091e+00],\n",
      "        [ 6.50719032e-02, -2.20825300e-01, -6.80835485e-01,\n",
      "         -4.46925819e-01,  2.84293979e-01, -4.49194074e-01,\n",
      "         -1.43318045e+00,  1.00140548e+00],\n",
      "        [ 1.81403592e-01, -2.53409982e-01, -1.34667671e+00,\n",
      "          6.77702129e-01, -7.41653323e-01,  2.50022769e+00,\n",
      "          7.15245843e-01, -1.00758910e+00],\n",
      "        [-7.54043639e-01,  1.47626376e+00, -1.34347424e-01,\n",
      "         -8.35250378e-01, -7.37574100e-01, -2.59945303e-01,\n",
      "         -4.10403013e-01,  9.07731056e-01],\n",
      "        [-4.46181625e-01,  1.73220360e+00,  9.62053239e-02,\n",
      "          8.54118243e-02,  2.62146499e-02,  8.19731414e-01,\n",
      "         -1.04141533e+00, -7.55109727e-01],\n",
      "        [ 3.33507210e-01, -1.65073723e-01,  7.08418429e-01,\n",
      "          2.03107429e+00, -7.89842084e-02,  1.04444027e+00,\n",
      "          1.89953136e+00, -2.34066582e+00],\n",
      "        [ 7.36647725e-01,  1.46006215e+00, -1.30995822e+00,\n",
      "         -4.71316457e-01,  1.53772545e+00,  3.73167276e-01,\n",
      "         -2.94937044e-01, -6.11961424e-01],\n",
      "        [-7.84024477e-01,  2.88927704e-02,  1.65462697e+00,\n",
      "         -5.01971543e-01, -1.26877403e+00, -8.59979331e-01,\n",
      "         -4.34259027e-01, -9.80737031e-01],\n",
      "        [ 2.34440422e+00, -1.15288734e+00,  1.87724984e+00,\n",
      "          2.13303074e-01,  8.54674935e-01,  8.68944302e-02,\n",
      "          1.14738047e+00, -7.97899008e-01],\n",
      "        [-1.73643315e+00,  9.45643961e-01, -1.69805360e+00,\n",
      "          1.17497250e-01, -9.95686173e-01,  1.15993965e+00,\n",
      "         -9.11794245e-01, -4.52298224e-01],\n",
      "        [-1.70924366e-01, -2.36411855e-01,  3.96275610e-01,\n",
      "          2.96295047e-01,  2.10412160e-01, -1.08034086e+00,\n",
      "         -2.53531575e-01,  7.11554527e-01],\n",
      "        [ 1.89064890e-01, -1.05575669e+00, -8.79369155e-02,\n",
      "         -1.44344736e-02, -6.88327849e-01,  3.72267544e-01,\n",
      "          3.28933209e-01,  1.01265287e+00],\n",
      "        [ 8.10872972e-01,  5.32801092e-01,  1.71597719e-01,\n",
      "          1.01989412e+00,  6.41325295e-01,  2.27006823e-01,\n",
      "          2.98873603e-01, -6.27186775e-01],\n",
      "        [-4.67212439e-01, -2.00155830e+00, -1.35169804e+00,\n",
      "          1.18803811e+00, -5.81872404e-01,  2.24058509e-01,\n",
      "          1.32668328e+00,  8.10057819e-01],\n",
      "        [-2.39181280e+00, -2.26792574e-01,  5.96412480e-01,\n",
      "         -6.51715159e-01, -1.15375805e+00,  3.94530028e-01,\n",
      "          2.18741417e+00, -8.29329014e-01],\n",
      "        [ 1.93289950e-01,  4.30942178e-01, -1.24874651e+00,\n",
      "          2.58860923e-02, -9.15295422e-01,  8.81442547e-01,\n",
      "         -1.02630067e+00,  5.86025000e-01],\n",
      "        [-2.38739133e-01, -1.10186863e+00, -9.49646905e-02,\n",
      "          4.14061308e-01, -1.25872302e+00, -2.78582066e-01,\n",
      "          7.01324344e-01,  6.38933837e-01],\n",
      "        [-1.91622138e-01,  6.32511675e-01,  9.90012050e-01,\n",
      "          1.44727123e+00,  3.04718912e-01,  3.10447812e-01,\n",
      "         -5.06801009e-01,  1.27411857e-01],\n",
      "        [-1.41828284e-01, -6.95418775e-01,  6.61710501e-01,\n",
      "         -4.40977395e-01, -1.91386029e-01,  1.67791498e+00,\n",
      "          1.50045764e+00,  6.87955141e-01],\n",
      "        [ 1.61883163e+00, -5.05217761e-02,  3.89084011e-01,\n",
      "          6.12837315e-01, -1.37914705e+00, -1.90897381e+00,\n",
      "          1.47618532e+00,  3.42861712e-01],\n",
      "        [-7.69965947e-01, -1.51139700e+00, -5.66556394e-01,\n",
      "         -8.98223221e-01,  1.04824412e+00, -2.46499872e+00,\n",
      "          2.20372152e+00,  1.53209209e+00],\n",
      "        [ 1.95239916e-01,  1.48254678e-01, -6.90874636e-01,\n",
      "          1.27571404e+00,  1.66937530e-01, -4.46604371e-01,\n",
      "         -4.13587481e-01,  2.95500398e+00],\n",
      "        [-6.49037778e-01,  1.53075337e-01,  1.16024399e+00,\n",
      "          7.08478391e-01, -1.67664063e+00, -2.37328663e-01,\n",
      "          1.84240058e-01,  1.11126578e+00],\n",
      "        [ 4.14416045e-01,  4.68923658e-01, -9.98329297e-02,\n",
      "         -2.77387530e-01,  2.56820381e-01, -6.08973324e-01,\n",
      "         -5.96237004e-01,  2.51794100e+00],\n",
      "        [ 1.14910114e+00, -1.92538559e+00, -1.16698432e+00,\n",
      "          1.47728753e+00,  1.06413984e+00, -3.13910097e-01,\n",
      "          5.80626667e-01, -1.66998351e+00],\n",
      "        [-7.36820325e-02,  1.61539900e+00,  7.61602819e-01,\n",
      "         -3.41700822e-01, -1.17840998e-01, -1.45582110e-01,\n",
      "         -3.36750805e-01, -3.71469468e-01],\n",
      "        [-6.31974995e-01, -2.59623456e+00, -1.18451047e+00,\n",
      "          2.01917320e-01, -2.08398056e+00,  2.01467767e-01,\n",
      "         -9.64183331e-01,  6.78631291e-02],\n",
      "        [ 6.87455893e-01,  4.61121164e-02, -7.85258472e-01,\n",
      "         -4.18535203e-01,  1.09589040e+00, -2.80067950e-01,\n",
      "         -5.22078633e-01,  3.93781602e-01]],\n",
      "\n",
      "       [[ 4.83734041e-01,  1.52834520e-01,  1.22422636e+00,\n",
      "         -9.30479527e-01,  9.84041393e-01, -1.16146609e-01,\n",
      "         -1.94068491e-01,  5.49580634e-01],\n",
      "        [-9.85811427e-02,  1.01103592e+00,  4.35790598e-01,\n",
      "          5.26361883e-01, -1.19731641e+00,  4.89382535e-01,\n",
      "         -5.53223073e-01, -6.19719565e-01],\n",
      "        [ 7.96050131e-01, -9.19845998e-02,  7.15757191e-01,\n",
      "         -8.18427026e-01,  1.69774747e+00,  9.69861507e-01,\n",
      "         -8.92994285e-01, -2.37038508e-01],\n",
      "        [ 4.94392961e-01, -1.36185801e+00,  1.29616165e+00,\n",
      "         -8.94550700e-03,  2.81461090e-01,  4.75375742e-01,\n",
      "         -4.65772003e-01,  9.70759034e-01],\n",
      "        [ 1.12010932e+00,  8.52490127e-01, -1.60346478e-01,\n",
      "         -1.71497464e-01, -1.47046602e+00,  1.35856938e+00,\n",
      "          3.62565480e-02, -3.64871711e-01],\n",
      "        [-2.01483846e+00, -3.95012677e-01,  4.69838321e-01,\n",
      "         -6.13909245e-01,  1.22531176e+00,  2.76248366e-01,\n",
      "         -4.26989049e-02, -1.87545097e+00],\n",
      "        [ 8.99767220e-01, -1.36706567e+00,  1.23886526e-01,\n",
      "         -1.24439669e+00, -8.38426650e-01, -1.18148074e-01,\n",
      "          1.02242398e+00, -7.20335960e-01],\n",
      "        [-9.24418271e-01, -9.37467515e-02, -9.58884120e-01,\n",
      "          2.14381710e-01,  2.98231363e-01,  1.41492617e+00,\n",
      "         -8.90331388e-01,  1.71911806e-01],\n",
      "        [-4.02947605e-01,  3.02403599e-01,  3.25846702e-01,\n",
      "          1.00582683e+00, -9.05529439e-01,  8.02366734e-01,\n",
      "          9.57435906e-01,  9.35729966e-02],\n",
      "        [-1.44953978e+00,  2.42532864e-01,  5.39551735e-01,\n",
      "          2.51818448e-01, -4.46429133e-01, -5.36810607e-02,\n",
      "         -1.39830023e-01,  4.93461013e-01],\n",
      "        [-1.58807516e-01, -9.44459319e-01,  3.50835323e-01,\n",
      "         -1.11774886e+00, -2.35710010e-01, -1.31860673e+00,\n",
      "          2.75239199e-01,  5.84885299e-01],\n",
      "        [ 4.88200970e-02,  3.32473636e-01, -2.11221051e+00,\n",
      "          1.39598155e+00, -6.90445781e-01, -1.67487204e+00,\n",
      "         -9.61671412e-01, -2.31993228e-01],\n",
      "        [-8.89311969e-01,  6.83227479e-02,  9.98795211e-01,\n",
      "          6.38718188e-01,  1.02259052e+00, -1.27884436e+00,\n",
      "          9.73338008e-01,  5.36221042e-02],\n",
      "        [ 9.89931643e-01, -1.02323925e+00,  2.79400438e-01,\n",
      "          1.68997478e+00,  1.61534831e-01,  9.76664782e-01,\n",
      "          1.78551316e+00, -3.80823821e-01],\n",
      "        [-8.22313070e-01, -1.11919835e-01,  5.53524733e-01,\n",
      "          3.42801780e-01,  1.11974835e+00,  8.01105440e-01,\n",
      "         -2.51879239e+00, -1.51288521e+00],\n",
      "        [ 6.01150393e-01, -4.62342680e-01, -5.44145294e-02,\n",
      "         -7.11979866e-01,  1.07553411e+00,  8.53005111e-01,\n",
      "          7.13359416e-01, -1.70073230e-02],\n",
      "        [ 3.32829028e-01,  1.31696987e+00, -2.43016943e-01,\n",
      "         -1.94867766e+00,  1.51648164e+00, -6.37287617e-01,\n",
      "         -4.78928447e-01,  1.31441450e+00],\n",
      "        [ 9.23965335e-01, -1.80192068e-01, -8.63789320e-01,\n",
      "          1.32452881e+00,  9.77389753e-01,  7.85910785e-01,\n",
      "          2.94281554e+00, -5.98359048e-01],\n",
      "        [-9.57366645e-01, -1.43443286e+00,  7.29195237e-01,\n",
      "          1.69931555e+00, -6.08619116e-02,  8.73437345e-01,\n",
      "          6.61584139e-01,  1.85830608e-01],\n",
      "        [ 4.29150373e-01,  3.03728640e-01,  2.14752108e-01,\n",
      "          7.37415195e-01,  1.17471480e+00, -1.68019903e+00,\n",
      "         -3.62869613e-02, -9.13271844e-01],\n",
      "        [ 8.63295078e-01, -5.77047527e-01,  1.03264785e+00,\n",
      "         -1.21036613e+00, -1.29444611e+00,  4.76227999e-01,\n",
      "         -3.11025649e-01, -7.16075301e-01],\n",
      "        [ 5.24790704e-01, -2.89758652e-01, -3.08292568e-01,\n",
      "         -8.40110540e-01,  8.51359367e-01, -1.58615559e-01,\n",
      "         -4.07132268e-01,  1.90272784e+00],\n",
      "        [-3.26411664e-01, -7.96196103e-01, -2.97022492e-01,\n",
      "         -7.55647302e-01,  1.85395813e+00,  6.29921436e-01,\n",
      "         -1.90384841e+00, -8.36800694e-01],\n",
      "        [ 3.89591455e-01, -1.02522779e+00, -2.05756378e+00,\n",
      "          8.36775184e-01,  1.47648954e+00, -5.09726107e-01,\n",
      "         -2.20775917e-01,  7.64205217e-01],\n",
      "        [ 1.45509827e+00, -1.67659104e-01, -8.07829976e-01,\n",
      "          2.04889029e-01, -1.54683262e-01,  8.99612129e-01,\n",
      "         -8.40191320e-02,  1.02033424e+00],\n",
      "        [-3.08807362e-02,  6.79118395e-01,  1.52814484e+00,\n",
      "          5.85135400e-01, -6.40197456e-01, -3.19455057e-01,\n",
      "         -1.39262170e-01,  4.98236924e-01],\n",
      "        [-7.60651588e-01,  2.56063849e-01, -5.57166040e-02,\n",
      "         -2.32667351e+00,  4.19280112e-01,  7.59673595e-01,\n",
      "          8.34679365e-01,  7.81952366e-02],\n",
      "        [ 6.95040941e-01, -1.49418378e+00, -2.03710496e-02,\n",
      "         -5.49120188e-01,  7.08553731e-01, -7.12118328e-01,\n",
      "          2.09180951e+00, -8.17636967e-01],\n",
      "        [ 9.82394159e-01, -7.38474786e-01,  3.64956826e-01,\n",
      "          2.00971150e+00,  2.93817997e-01,  9.37609732e-01,\n",
      "          1.61740795e-01, -1.59378994e+00],\n",
      "        [-9.25050497e-01, -2.49988127e+00,  1.74104476e+00,\n",
      "          6.37355328e-01,  9.45302606e-01,  1.87807417e+00,\n",
      "         -9.36414003e-02,  2.41480395e-01],\n",
      "        [-1.26437032e+00, -7.17673659e-01, -3.75628412e-01,\n",
      "          3.65897715e-01, -1.69092655e+00, -5.74537694e-01,\n",
      "         -1.21851552e+00, -5.36844730e-01],\n",
      "        [ 3.03996098e-03, -1.64509213e+00, -9.19006884e-01,\n",
      "         -4.34637874e-01, -5.98949969e-01,  7.26691425e-01,\n",
      "          1.37387514e+00, -4.99869317e-01],\n",
      "        [-1.12343693e+00,  4.28207129e-01, -1.23316646e+00,\n",
      "          1.94449735e+00,  4.66032863e-01,  4.99888629e-01,\n",
      "          2.28445575e-01,  1.77795362e+00],\n",
      "        [ 1.76709759e+00, -2.61856318e-01,  1.70204604e+00,\n",
      "          1.06002498e+00, -2.37910414e+00,  2.69698024e-01,\n",
      "          6.96363021e-03,  1.54409552e+00],\n",
      "        [-1.33043027e+00, -6.10424876e-01, -1.47783089e+00,\n",
      "          1.26604235e+00, -2.12242246e-01, -3.43543857e-01,\n",
      "          3.10457051e-01,  9.13519442e-01],\n",
      "        [-2.57247803e-03, -1.16064036e+00,  1.10668051e+00,\n",
      "         -7.27920413e-01,  1.23344675e-01,  9.36092079e-01,\n",
      "          1.33763146e+00, -1.11715829e+00]]], dtype=float32)>, <tf.Tensor: id=326, shape=(2, 36, 8), dtype=float32, numpy=\n",
      "array([[[ 8.99515152e-01, -1.89403415e-01, -2.97674298e-01,\n",
      "          8.27305019e-01, -2.07560110e+00, -3.90834302e-01,\n",
      "         -9.14712474e-02, -1.61300671e+00],\n",
      "        [-7.07272172e-01,  2.30487064e-01,  1.63022026e-01,\n",
      "         -2.12465858e+00, -7.73046792e-01,  7.37953037e-02,\n",
      "         -7.70860970e-01,  1.66491792e-01],\n",
      "        [-4.94425327e-01,  3.13521713e-01, -2.75648189e+00,\n",
      "          1.19355786e+00, -7.10654974e-01, -3.93257350e-01,\n",
      "          1.80092049e+00, -9.64671850e-01],\n",
      "        [-3.15377653e-01,  8.15440655e-01, -6.42103851e-01,\n",
      "          3.63326877e-01,  5.10630786e-01,  2.39397144e+00,\n",
      "         -7.68320203e-01,  1.62138653e+00],\n",
      "        [-3.68231922e-01, -1.28909707e-01,  2.94346601e-01,\n",
      "         -1.26097286e+00,  1.89158559e+00,  1.14551198e+00,\n",
      "          3.17731708e-01, -1.43094361e+00],\n",
      "        [-1.05570817e+00,  8.60345364e-01, -1.13551551e-02,\n",
      "          5.36517918e-01, -9.41632748e-01, -7.02695921e-02,\n",
      "          5.01952879e-02, -6.47071362e-01],\n",
      "        [ 6.46841526e-01,  8.56368721e-01, -2.24261713e+00,\n",
      "         -3.94650966e-01,  1.31188989e-01, -1.77754128e+00,\n",
      "          9.12032902e-01, -6.71601832e-01],\n",
      "        [-2.46816203e-02,  8.69633436e-01,  1.44711471e+00,\n",
      "          5.51177442e-01,  6.27882123e-01,  2.29779983e+00,\n",
      "         -2.04904604e+00, -5.10040939e-01],\n",
      "        [-2.83670396e-01, -1.10298586e+00,  5.55710375e-01,\n",
      "         -2.10154605e+00,  7.19653964e-01, -1.13958263e+00,\n",
      "         -1.28185022e+00,  5.99794835e-02],\n",
      "        [-5.09567559e-01, -2.42415524e+00,  1.08621061e+00,\n",
      "          9.30412948e-01, -1.81721663e+00,  2.80468792e-01,\n",
      "          6.62033737e-01, -1.19128907e+00],\n",
      "        [-1.28357911e+00,  1.22452927e+00, -1.86830699e-01,\n",
      "          9.11279976e-01, -1.17990088e+00, -2.28769571e-01,\n",
      "          5.09232998e-01,  1.00411192e-01],\n",
      "        [ 1.40670276e+00,  9.74941105e-02, -1.57341099e+00,\n",
      "         -4.15227801e-01, -7.21578956e-01,  1.23557043e+00,\n",
      "          1.54878128e+00, -1.45829082e+00],\n",
      "        [-8.24540615e-01,  1.24102905e-01, -9.47656035e-01,\n",
      "         -2.23038650e+00,  6.31943464e-01, -5.24505675e-01,\n",
      "          1.11920878e-01,  2.16213778e-01],\n",
      "        [ 2.25107813e+00,  7.77528882e-01,  1.67293704e+00,\n",
      "         -8.83481622e-01,  1.06788687e-01, -3.53123643e-03,\n",
      "          6.64342642e-02,  7.94227183e-01],\n",
      "        [-3.78569245e-01,  3.04347843e-01,  9.46524858e-01,\n",
      "         -6.15107268e-02,  5.27996004e-01, -1.45613098e+00,\n",
      "          6.38378263e-01, -5.48386395e-01],\n",
      "        [ 1.39587033e+00,  1.73824835e+00,  6.58583790e-02,\n",
      "         -3.96191806e-01, -5.33724010e-01, -4.79123026e-01,\n",
      "         -9.88530695e-01, -8.33382905e-01],\n",
      "        [-3.94993812e-01, -2.50774920e-01,  1.93287786e-02,\n",
      "          4.87988561e-01,  5.75019002e-01,  4.11086440e-01,\n",
      "          1.45827258e+00,  4.58003551e-01],\n",
      "        [ 1.28777996e-01, -1.54765868e+00,  1.03268608e-01,\n",
      "          2.88374692e-01,  3.53561938e-01, -9.31664407e-01,\n",
      "         -7.37433791e-01,  2.37436276e-02],\n",
      "        [ 1.58162403e+00, -6.64436042e-01,  3.25100756e+00,\n",
      "         -7.23577321e-01, -2.19350195e+00,  4.55779999e-01,\n",
      "         -1.01336515e+00, -1.17916346e+00],\n",
      "        [-4.10154253e-01, -6.72270060e-01, -1.25921381e+00,\n",
      "          8.13528240e-01,  5.36132574e-01,  1.21397221e+00,\n",
      "         -7.62420833e-01, -2.53544271e-01],\n",
      "        [ 3.10852861e+00,  2.62572765e-02,  8.02842855e-01,\n",
      "          9.40934539e-01, -5.47711372e-01,  5.95180243e-02,\n",
      "          2.68027127e-01, -1.27945364e+00],\n",
      "        [ 5.35291553e-01, -5.60410857e-01,  2.94631696e-04,\n",
      "          8.74131918e-01,  1.09878469e+00, -5.24082184e-01,\n",
      "          1.50909054e+00,  1.77593473e-02],\n",
      "        [-1.16863370e+00,  6.63893744e-02,  1.15357295e-01,\n",
      "          1.09993780e+00,  3.33302647e-01,  3.28094423e-01,\n",
      "         -1.11036348e+00, -3.43618095e-01],\n",
      "        [-3.16934474e-02,  8.82002935e-02, -3.06265801e-01,\n",
      "         -2.45656297e-01, -6.41457677e-01,  1.31594384e+00,\n",
      "          5.33829868e-01,  1.44035137e+00],\n",
      "        [-8.25018734e-02,  2.15764832e+00, -5.54575145e-01,\n",
      "         -6.46266103e-01, -4.98427302e-01,  1.08934894e-01,\n",
      "         -1.10542917e+00, -1.00077343e+00],\n",
      "        [-1.15478265e+00, -9.30073783e-02, -6.72978759e-01,\n",
      "         -1.36083066e+00, -1.40130544e+00,  4.31023449e-01,\n",
      "         -6.49897277e-01,  2.30834341e+00],\n",
      "        [ 4.40239727e-01, -7.07015619e-02, -2.27716640e-01,\n",
      "          1.12697864e+00, -1.99249908e-01,  3.01370353e-01,\n",
      "          1.90921783e+00, -2.65128076e-01],\n",
      "        [ 6.75524533e-01, -4.30129170e-01,  1.44787347e+00,\n",
      "         -1.17551875e+00,  1.40790784e+00, -1.40468568e-01,\n",
      "          2.13501498e-01,  1.14337802e+00],\n",
      "        [ 9.05240178e-01, -3.93575221e-01, -5.73620617e-01,\n",
      "          1.09621167e+00, -5.42022943e-01,  4.41473156e-01,\n",
      "          1.73694611e-01, -6.18013859e-01],\n",
      "        [ 2.48172894e-01,  1.28614858e-01,  4.17763352e-01,\n",
      "          9.23369110e-01, -1.02428114e+00,  1.32090604e+00,\n",
      "         -8.89491916e-01,  9.06433702e-01],\n",
      "        [ 1.08723462e+00,  1.94215262e+00,  2.26772904e-01,\n",
      "         -1.56362069e+00, -1.42529197e-02,  5.68005621e-01,\n",
      "         -1.34895071e-01, -2.56076664e-01],\n",
      "        [-1.12761962e+00,  3.44239958e-02,  1.81508303e-01,\n",
      "         -8.24360728e-01, -9.46786046e-01,  5.25611460e-01,\n",
      "         -1.27949321e+00, -2.02325419e-01],\n",
      "        [ 8.16864252e-01,  1.08503735e+00,  4.97555971e-01,\n",
      "         -3.21227431e-01, -6.42726570e-02,  8.95801663e-01,\n",
      "         -1.76404512e+00,  9.59732533e-01],\n",
      "        [-8.28219056e-01,  5.82208633e-01,  1.72465235e-01,\n",
      "          3.99928093e-01, -4.31992322e-01, -7.90152013e-01,\n",
      "         -8.62100124e-01,  2.58586127e-02],\n",
      "        [ 3.97902340e-01,  1.67280698e+00,  4.20578122e-01,\n",
      "          7.45689422e-02,  1.01867425e+00,  2.56985784e-01,\n",
      "          6.25514030e-01,  2.30911121e-01],\n",
      "        [ 1.37997139e+00, -3.00022066e-01, -1.03274846e+00,\n",
      "         -2.03124237e+00, -5.69355786e-01,  1.22226477e+00,\n",
      "         -1.48263013e+00, -3.39668453e-01]],\n",
      "\n",
      "       [[ 7.18080640e-01,  3.95605773e-01,  1.33278215e+00,\n",
      "         -6.37560606e-01, -5.92177749e-01,  3.94896150e-01,\n",
      "          6.42854810e-01,  7.53125250e-01],\n",
      "        [ 3.51200849e-02, -3.59637350e-01,  1.21009958e+00,\n",
      "          1.11204970e+00, -4.60722953e-01, -5.20587742e-01,\n",
      "          6.66234016e-01,  4.94032353e-01],\n",
      "        [ 7.80302703e-01,  8.24870169e-02, -7.24433661e-01,\n",
      "          7.88856506e-01, -2.47391164e-02,  1.20258629e-02,\n",
      "          1.09331191e+00,  1.33959258e+00],\n",
      "        [ 1.28917062e+00,  4.94990975e-01,  1.44261599e+00,\n",
      "         -8.43555987e-01,  1.88723147e+00,  1.89809632e+00,\n",
      "          4.86843586e-01, -1.37072337e+00],\n",
      "        [ 1.18431258e+00,  8.03264260e-01,  3.48150551e-01,\n",
      "         -2.99026389e-02, -7.46129394e-01, -2.38859415e-01,\n",
      "         -4.78404105e-01, -3.36417407e-01],\n",
      "        [-2.00260043e+00, -1.18673122e+00, -7.52229691e-01,\n",
      "         -4.19868380e-01,  2.54920554e+00,  3.51450175e-01,\n",
      "          6.63259983e-01,  1.64013028e+00],\n",
      "        [-9.08788085e-01, -6.42594278e-01, -1.62781239e-01,\n",
      "         -3.26916017e-02,  1.72410250e+00,  1.77951050e+00,\n",
      "         -9.23265576e-01,  7.11493552e-01],\n",
      "        [ 6.99528098e-01, -2.84413755e-01,  2.59610564e-01,\n",
      "         -2.32088685e-01, -3.31893831e-01,  8.08303654e-01,\n",
      "         -8.83130193e-01, -1.12679887e+00],\n",
      "        [-6.73998713e-01, -1.92025185e-01, -3.53134632e-01,\n",
      "         -9.89252150e-01,  1.80613041e+00,  1.72280562e+00,\n",
      "          5.55218041e-01,  4.37570810e-01],\n",
      "        [-1.32353157e-01, -1.02003455e+00, -1.25302935e+00,\n",
      "          8.11171532e-01,  7.13401616e-01,  1.54791701e+00,\n",
      "          1.77493894e+00, -6.79603815e-02],\n",
      "        [ 8.63566995e-01,  6.72128499e-02,  1.57093561e+00,\n",
      "          4.63582389e-02,  5.77465773e-01, -9.38414931e-01,\n",
      "         -4.45523351e-01, -2.27209538e-01],\n",
      "        [-3.54448676e-01, -1.28428507e+00,  3.02545372e-02,\n",
      "         -7.27359653e-01, -5.32424688e-01,  9.83317852e-01,\n",
      "         -1.35908687e+00, -7.03555346e-01],\n",
      "        [ 2.51036882e-01,  1.41264105e+00,  9.13298845e-01,\n",
      "          1.11585772e+00, -1.00008774e+00, -1.60822952e+00,\n",
      "         -1.22555709e+00, -6.19677842e-01],\n",
      "        [ 3.99861693e-01, -8.00256252e-01, -1.87940672e-01,\n",
      "          1.42615294e+00,  3.36824618e-02, -7.15940893e-01,\n",
      "         -1.86541295e+00,  6.83913946e-01],\n",
      "        [ 1.19623435e+00,  2.52581149e-01, -9.97860134e-01,\n",
      "         -4.52672452e-01, -1.30209606e-02,  1.02804303e+00,\n",
      "         -1.22996807e+00,  2.68092781e-01],\n",
      "        [-1.17034960e+00,  1.17562258e+00,  1.21924233e+00,\n",
      "         -7.71598399e-01,  1.31486285e+00,  2.30085447e-01,\n",
      "         -5.23113966e-01, -9.48443934e-02],\n",
      "        [-7.10718989e-01, -5.11221707e-01, -1.01038527e+00,\n",
      "         -5.50018907e-01, -1.09804034e+00, -1.48754525e+00,\n",
      "         -8.41328859e-01,  8.89895499e-01],\n",
      "        [-5.65172970e-01, -5.69147468e-01, -1.65480182e-01,\n",
      "          7.64831066e-01, -1.38660297e-01,  3.71733874e-01,\n",
      "          6.02432370e-01,  1.16492532e-01],\n",
      "        [-1.53711140e+00,  2.79117376e-01,  2.02552772e+00,\n",
      "         -2.75682122e-01,  1.11481678e+00,  8.52403760e-01,\n",
      "         -2.03505501e-01,  1.64661586e+00],\n",
      "        [-4.79155421e-01, -3.10078003e-02, -8.37273836e-01,\n",
      "         -2.81294703e-01, -9.57223475e-01,  3.30584168e-01,\n",
      "         -8.35213006e-01,  7.45561242e-01],\n",
      "        [-1.98787558e+00, -1.78349555e+00,  1.34553277e+00,\n",
      "          6.50207818e-01,  1.68629169e-01,  3.33662748e-01,\n",
      "          3.18418056e-01,  6.21597767e-01],\n",
      "        [ 6.99267149e-01,  7.41771638e-01,  1.16021264e+00,\n",
      "         -1.09842308e-01,  1.13997698e+00, -4.20109451e-01,\n",
      "         -1.66319454e+00, -1.56076074e+00],\n",
      "        [-2.18905181e-01, -1.77277312e-01,  4.24617648e-01,\n",
      "          5.05390108e-01,  2.91305304e-01,  6.60417497e-01,\n",
      "         -2.17411971e+00,  3.95808458e-01],\n",
      "        [-5.93542516e-01, -1.53819144e-01,  2.88460642e-01,\n",
      "         -8.27390730e-01, -8.25982451e-01,  2.96200305e-01,\n",
      "          4.67359990e-01,  6.25633419e-01],\n",
      "        [-1.29296765e-01, -1.55480969e+00,  1.39535606e+00,\n",
      "         -4.50299621e-01,  1.34160876e-01,  1.17749894e+00,\n",
      "         -1.01683211e+00, -1.02997231e+00],\n",
      "        [ 4.32696253e-01, -4.04230475e-01, -1.29394531e+00,\n",
      "         -1.05738318e+00,  1.28264844e+00,  6.73708439e-01,\n",
      "          2.29816318e+00, -5.10565042e-01],\n",
      "        [ 1.41617060e+00, -5.85439086e-01, -6.85067832e-01,\n",
      "         -6.06462896e-01,  3.77650231e-01, -1.84163547e+00,\n",
      "          2.46929511e-01,  2.05968648e-01],\n",
      "        [ 1.13523698e+00,  2.98360229e-01, -8.00479129e-02,\n",
      "          8.57493341e-01,  1.23786056e+00, -9.15456951e-01,\n",
      "          5.99689543e-01, -8.82123291e-01],\n",
      "        [ 1.01050413e+00, -1.12392783e+00, -3.23908851e-02,\n",
      "         -2.79248655e-01, -7.63104260e-01, -1.32909730e-01,\n",
      "         -3.47436070e-01, -9.17714238e-01],\n",
      "        [ 4.16969731e-02,  1.91661334e+00, -2.91430205e-02,\n",
      "          1.38489455e-01,  6.45708859e-01,  3.90928447e-01,\n",
      "         -1.25336921e+00, -6.30163431e-01],\n",
      "        [ 5.78093112e-01, -1.04208267e+00,  9.72212732e-01,\n",
      "         -4.40676123e-01, -1.05066860e+00,  2.39162660e+00,\n",
      "          9.42126632e-01, -9.61514533e-01],\n",
      "        [-5.49034297e-01, -1.52177468e-01,  2.85406291e-01,\n",
      "         -3.72937471e-01, -7.42114365e-01,  7.51899123e-01,\n",
      "          1.44434249e+00, -3.00055891e-01],\n",
      "        [-1.24821651e+00,  4.38113987e-01,  1.01367843e+00,\n",
      "         -7.01900125e-01, -1.94760546e-01, -1.40668595e+00,\n",
      "         -1.06686640e+00,  2.01379657e+00],\n",
      "        [ 7.03293502e-01, -8.19102407e-01, -1.91582263e+00,\n",
      "         -3.08470190e-01,  9.71654773e-01, -5.71937203e-01,\n",
      "         -7.62576818e-01,  3.38119902e-02],\n",
      "        [ 1.21499145e+00,  4.04319316e-01,  2.35816285e-01,\n",
      "         -2.36276284e-01, -4.30149548e-02, -2.50429153e+00,\n",
      "          3.98021013e-01, -1.80317295e+00],\n",
      "        [-9.58503962e-01,  2.29475677e-01, -5.40007770e-01,\n",
      "          4.79295015e-01,  5.60495496e-01, -3.21894020e-01,\n",
      "          2.33732328e-01, -3.74724030e-01]]], dtype=float32)>, <tf.Tensor: id=327, shape=(2, 36, 8), dtype=float32, numpy=\n",
      "array([[[-0.95246726, -0.01571076,  0.70221907, -1.2265171 ,\n",
      "         -0.4604776 , -0.10304678,  1.358843  ,  0.3002092 ],\n",
      "        [ 0.25958484,  0.24100943,  0.14658305, -1.1551063 ,\n",
      "         -0.89027685,  0.6088704 ,  0.51595074,  1.3913242 ],\n",
      "        [ 0.70611274, -0.863645  , -0.7784532 ,  0.6231503 ,\n",
      "         -0.8184379 , -0.79833096,  1.3891015 , -0.10511644],\n",
      "        [ 0.71102357,  0.1360859 ,  0.2773976 ,  0.56646454,\n",
      "         -1.7510561 , -1.0204846 ,  0.9130561 ,  1.2344826 ],\n",
      "        [ 0.44571364,  0.6876278 ,  0.68443954, -0.24149217,\n",
      "         -0.09429204,  0.8922892 , -0.29039505, -0.16967794],\n",
      "        [-0.68027145,  1.1127086 , -1.442933  ,  0.68416864,\n",
      "         -1.321875  ,  1.9021343 , -1.2355555 , -0.36914957],\n",
      "        [ 0.82129973,  0.23652211,  0.37821114, -0.5130635 ,\n",
      "          0.807543  , -1.2191623 , -1.1411786 , -0.19496025],\n",
      "        [-0.9401531 ,  0.55986726,  0.9974163 , -1.3572367 ,\n",
      "         -0.14671494,  1.4741896 , -0.13626455,  0.44252646],\n",
      "        [ 1.3914748 , -0.15657625,  0.10964759, -0.98600876,\n",
      "         -0.4209699 , -1.9465517 ,  1.689828  ,  0.18444055],\n",
      "        [ 0.2936397 , -0.7601741 ,  0.9780983 , -0.20373228,\n",
      "          0.02241451,  0.6130142 ,  0.03598863,  0.06515357],\n",
      "        [ 0.54704696, -2.1107504 ,  0.20854218,  0.05816972,\n",
      "          0.06605586, -0.15674372, -0.23759696, -1.1656206 ],\n",
      "        [ 0.89528245,  0.5261018 ,  0.15938872,  0.5433556 ,\n",
      "         -1.8477691 ,  0.86556756, -0.5194367 , -0.43148047],\n",
      "        [ 0.14699031,  1.0600039 , -0.28951085,  1.7458438 ,\n",
      "          0.3729609 , -1.5991495 ,  1.5709568 ,  0.87561935],\n",
      "        [ 0.7290826 , -1.121204  , -0.43101725,  1.1721    ,\n",
      "         -1.4089662 , -0.11203938,  0.8274568 ,  1.1291227 ],\n",
      "        [-1.5181737 ,  1.459997  , -0.89551115, -0.28823787,\n",
      "          1.2130787 ,  0.25983027, -0.50337386,  0.812909  ],\n",
      "        [ 0.26882464, -0.75867134,  2.050652  , -1.0344915 ,\n",
      "          0.94460547,  0.8427285 ,  0.6292044 ,  0.8170974 ],\n",
      "        [-1.1301309 , -0.27187458,  1.1161656 ,  1.5976616 ,\n",
      "          0.2944915 , -0.29570147,  1.5674734 , -0.5956406 ],\n",
      "        [ 0.49231273, -1.2498097 , -0.23269634, -0.28416225,\n",
      "         -1.4941971 , -0.52088153, -0.9577325 ,  1.1847425 ],\n",
      "        [-1.1435947 , -1.2196065 ,  0.18205692, -0.50012815,\n",
      "          0.16073607, -1.1421607 , -0.25841135,  0.62832147],\n",
      "        [-0.09894849,  1.0168967 ,  1.4686611 , -1.264357  ,\n",
      "          1.5825173 ,  1.1302408 , -0.5907725 ,  2.0811808 ],\n",
      "        [ 0.9910358 ,  1.5407588 , -0.7919794 , -0.19769774,\n",
      "          0.61171174,  0.13580063,  0.91684425,  0.7748877 ],\n",
      "        [-1.8279518 ,  0.50310236,  0.0078262 , -0.54092556,\n",
      "         -0.4732872 , -1.3762711 ,  1.5223612 ,  0.14822766],\n",
      "        [-0.2908181 ,  0.2512039 , -1.0162219 , -0.35696772,\n",
      "         -2.2740374 , -1.604081  , -0.7862537 , -0.8979859 ],\n",
      "        [-0.07847358,  0.47574934,  0.25428075,  0.09119026,\n",
      "          0.7819102 ,  1.74311   ,  0.54860395, -0.42802754],\n",
      "        [ 0.58604926,  0.31606266, -0.5111104 , -0.03953405,\n",
      "          2.6089244 ,  0.9587457 , -0.12576132, -1.2993397 ],\n",
      "        [-1.9603971 ,  0.8047664 ,  0.00971888, -0.23694588,\n",
      "          0.05146559,  0.37650108,  0.48842052,  3.6104403 ],\n",
      "        [ 0.6464869 ,  0.73307836, -1.875975  ,  0.35097888,\n",
      "          0.1162914 , -1.8707626 , -0.62880296, -0.18228632],\n",
      "        [ 0.21792527, -0.67121726,  0.43340915,  1.730041  ,\n",
      "          0.9144771 , -0.74096817,  1.0852513 , -0.7992364 ],\n",
      "        [-2.1148014 , -0.97396904, -2.3970096 , -0.06383467,\n",
      "          0.38261372,  0.5229966 , -0.10439666, -0.7209541 ],\n",
      "        [-0.80047643,  2.182778  , -0.46828404,  0.4464946 ,\n",
      "          0.7943579 , -0.27355725,  0.6075495 ,  0.50687677],\n",
      "        [-1.5499326 , -1.4644028 ,  1.4474609 ,  1.4501739 ,\n",
      "          1.1310189 ,  0.9501127 ,  1.0503498 , -1.2771783 ],\n",
      "        [-1.680465  , -0.6924601 ,  1.0642039 ,  0.0682089 ,\n",
      "          0.21449886,  1.7529751 , -0.08658417, -2.6336384 ],\n",
      "        [ 2.0045133 , -0.8514168 , -0.708156  , -0.66440606,\n",
      "         -0.46242803,  0.9348825 , -1.2872412 , -1.2168193 ],\n",
      "        [-1.3159803 , -0.27837372,  0.56392705,  1.4717269 ,\n",
      "          1.2107328 ,  0.6852177 ,  0.94643676, -0.01927745],\n",
      "        [ 0.08445193,  0.2289361 ,  0.9301899 , -1.4048529 ,\n",
      "         -1.1788604 , -0.4766446 , -0.24629438, -0.4411506 ],\n",
      "        [-0.3760094 , -0.20340283,  0.6906158 , -0.71624476,\n",
      "          1.2473524 , -1.0699589 ,  0.43718976,  0.46277767]],\n",
      "\n",
      "       [[-0.59541065, -0.3545771 , -1.7952336 , -0.08636416,\n",
      "         -0.4137847 , -1.2155944 , -0.6438727 ,  0.1079986 ],\n",
      "        [ 2.4264157 ,  0.05908681, -0.43315375, -0.7266469 ,\n",
      "         -1.2017058 ,  0.8758578 , -0.7427778 , -0.8828926 ],\n",
      "        [-1.5425733 , -0.05863953, -0.20520172, -0.97148705,\n",
      "          0.6656348 ,  1.0406129 ,  1.0423582 ,  0.2911938 ],\n",
      "        [ 0.8294274 ,  0.8124897 ,  2.298152  , -0.16822046,\n",
      "          0.68406266,  0.3265271 ,  1.3702877 ,  0.78311414],\n",
      "        [ 0.08627807, -1.7041848 , -1.5238805 ,  0.4646748 ,\n",
      "         -2.4313817 ,  0.7109908 , -0.9926756 ,  0.21595731],\n",
      "        [ 1.1402667 ,  0.3595204 ,  0.52045375, -0.86809033,\n",
      "         -0.28722256,  0.78853434,  0.20101565,  0.45945162],\n",
      "        [-1.1064669 , -0.52916545, -0.27947915,  0.22981036,\n",
      "          0.85975736, -0.8961423 , -1.0731759 , -0.43299574],\n",
      "        [ 0.9542989 ,  0.7380061 ,  0.8513539 , -2.3659241 ,\n",
      "          0.7745353 ,  0.73950547,  0.9342438 , -0.37757286],\n",
      "        [ 1.3826725 ,  1.3255198 , -2.2843482 ,  0.32176223,\n",
      "          1.4373264 , -0.35458344, -0.6972429 ,  0.41646796],\n",
      "        [ 0.58447784,  1.6719633 , -0.9710736 ,  1.1431834 ,\n",
      "         -0.9371473 ,  0.59307605, -0.50802416, -1.1594108 ],\n",
      "        [-0.18710305, -0.09082378,  0.661031  ,  1.3715525 ,\n",
      "         -0.64937246, -0.16370699, -2.2827027 , -0.8704073 ],\n",
      "        [-0.96972716,  0.7901762 ,  0.9928063 ,  0.5172614 ,\n",
      "         -0.48013535, -1.2550771 , -1.6083217 , -1.6901554 ],\n",
      "        [ 0.16610272, -0.8500418 ,  0.20331691,  0.61637115,\n",
      "          0.6018136 ,  0.66608655,  1.1828719 ,  2.7402134 ],\n",
      "        [ 1.2266148 , -0.44922218, -0.2638356 , -1.4601371 ,\n",
      "         -1.4247173 , -0.9248998 ,  0.07739871, -0.5574888 ],\n",
      "        [ 1.2020082 , -0.5926772 ,  1.923961  , -0.4557068 ,\n",
      "          0.3506983 ,  0.3686617 , -0.12034117,  1.3332778 ],\n",
      "        [-0.46270615, -0.3211627 , -1.108735  ,  0.68798196,\n",
      "          1.1045109 ,  0.61085683,  0.38459313, -1.4673419 ],\n",
      "        [-0.56811994,  0.61426646,  0.335788  ,  0.3437695 ,\n",
      "         -1.3222349 ,  0.7994647 , -0.44037375, -1.3354039 ],\n",
      "        [ 1.8850964 , -0.6878676 , -0.104604  , -0.6793616 ,\n",
      "         -2.5897634 , -0.04562049, -1.9812211 , -1.5221324 ],\n",
      "        [ 0.38807508, -1.9951525 , -0.5603931 ,  0.6978739 ,\n",
      "          0.7004924 , -0.67482877,  0.35220093, -0.03201641],\n",
      "        [-0.3212015 , -1.4224632 , -0.9393913 , -0.07075953,\n",
      "         -0.31764185,  1.4868793 , -0.45946753,  0.52061373],\n",
      "        [ 0.5126996 , -0.8031602 ,  0.08482438,  0.11994527,\n",
      "          0.84904003,  0.37337095,  0.2735701 , -0.35346374],\n",
      "        [-1.6096632 ,  0.7265962 , -0.65856045,  1.1903522 ,\n",
      "         -1.9362673 ,  0.44568878,  0.30276895, -1.4644774 ],\n",
      "        [-1.690286  , -1.3129318 , -2.0681632 ,  0.2740573 ,\n",
      "         -0.4582365 , -0.485268  ,  0.2239257 , -0.19376542],\n",
      "        [ 0.8351573 ,  0.53850955,  0.8417664 , -1.2737937 ,\n",
      "         -0.736913  , -1.2972832 ,  0.28721637,  0.5899054 ],\n",
      "        [ 0.96262455,  0.8452154 , -0.60950136,  0.30128026,\n",
      "         -0.02543942,  0.5458487 ,  0.44914952,  0.2213713 ],\n",
      "        [ 0.7508331 , -0.22007822,  0.8557726 ,  0.8785393 ,\n",
      "          2.7262456 , -0.42832246, -0.05871408,  0.49508023],\n",
      "        [-1.1059184 ,  0.5103389 , -0.5593084 , -1.7967345 ,\n",
      "         -0.26111376,  0.70513725,  0.10103359, -1.4090884 ],\n",
      "        [-0.9511815 , -1.2447048 , -0.5824482 , -1.5570272 ,\n",
      "         -1.4390901 , -2.319191  , -1.0383415 , -0.16469067],\n",
      "        [-0.76956344, -1.3500459 ,  0.6759962 , -1.6800908 ,\n",
      "         -0.03550133,  0.81710976, -1.0602512 , -2.3109975 ],\n",
      "        [ 0.35038897,  0.181598  ,  0.05814245, -1.8324677 ,\n",
      "         -1.0766205 , -0.5956823 ,  0.27449727, -0.882784  ],\n",
      "        [-0.6596821 ,  0.9271778 , -0.5107249 , -0.11999085,\n",
      "         -0.9587686 , -0.7753205 ,  1.2717371 ,  0.45863873],\n",
      "        [-0.8675917 , -0.97296125,  0.0938097 ,  0.6319147 ,\n",
      "          0.7981517 ,  0.8438764 ,  0.03289586,  0.8636    ],\n",
      "        [-0.5339902 ,  0.18898207, -0.2790713 , -1.9069141 ,\n",
      "          0.3152915 , -0.20046465, -0.1463655 ,  0.96670353],\n",
      "        [-0.6298979 ,  1.759075  ,  2.0844347 ,  0.9442913 ,\n",
      "         -1.6813556 , -0.84210384,  1.0555576 , -0.6794489 ],\n",
      "        [-0.5872622 ,  0.7151299 ,  0.5051318 , -0.5999214 ,\n",
      "         -0.51993847, -0.46788058,  1.6095103 ,  2.102749  ],\n",
      "        [-0.40348923,  0.07076936, -0.12080911, -1.3982294 ,\n",
      "          0.07855103,  1.0855126 ,  1.7468895 , -0.7326002 ]]],\n",
      "      dtype=float32)>, <tf.Tensor: id=328, shape=(2, 36, 8), dtype=float32, numpy=\n",
      "array([[[-7.8572947e-01,  2.4852546e-01, -1.8138155e+00,  7.4126190e-01,\n",
      "          2.0550911e-01, -9.0227067e-02, -4.9918613e-01, -8.9521593e-01],\n",
      "        [-3.3551997e-01,  9.8176129e-02,  7.6709104e-01,  5.8989555e-02,\n",
      "          5.9533691e-01,  1.5479437e+00, -6.4917356e-01,  6.0234332e-01],\n",
      "        [-8.9715052e-01,  1.1671601e-01,  3.6495000e-01,  8.4069562e-01,\n",
      "         -7.0809263e-01,  1.4633623e+00,  3.6116546e-01,  5.9428234e-02],\n",
      "        [ 1.5227096e+00, -3.9163244e-01,  5.9830141e-01,  1.8323296e+00,\n",
      "          9.7696817e-01,  5.8999026e-01,  1.3241992e+00,  3.8315490e-01],\n",
      "        [ 2.1422859e-02,  1.2199671e+00, -1.4851300e+00, -6.4724982e-01,\n",
      "          1.8836641e+00, -3.2709831e-01,  8.4093750e-01, -1.8961854e+00],\n",
      "        [ 1.1032547e+00, -7.1681812e-02, -1.1824354e+00,  1.3418308e+00,\n",
      "         -1.6396232e-01, -7.4384087e-01, -1.3798891e+00,  1.5530834e-01],\n",
      "        [ 3.2452911e-01, -8.3139491e-01, -4.1651845e-01, -5.4498404e-01,\n",
      "          7.5764304e-01,  1.2705945e+00, -1.1199598e+00,  2.1949728e+00],\n",
      "        [ 1.2025791e+00, -1.0342741e-01,  5.8437836e-01,  4.6615407e-01,\n",
      "         -1.7838450e-01, -1.1374591e-02,  1.5985082e+00,  3.4306195e-01],\n",
      "        [-6.6838884e-01, -2.7712548e-01, -1.1253607e+00,  9.7129652e-03,\n",
      "          9.7498745e-01,  3.6657050e-01, -1.7863468e+00, -5.7731247e-01],\n",
      "        [ 1.9148089e+00, -5.6371820e-01,  9.1723597e-01,  8.2351677e-02,\n",
      "         -3.6772096e-01, -4.1392943e-01,  1.1195172e+00, -7.8309759e-02],\n",
      "        [-7.8345793e-01,  8.4371018e-01,  1.0932454e-01,  1.5935264e+00,\n",
      "          5.5721682e-01, -2.3920831e-01,  1.1606667e+00, -1.2878709e+00],\n",
      "        [-1.3186690e+00,  8.2401216e-02, -7.5033021e-01,  4.1783971e-01,\n",
      "          8.8488644e-01, -7.7371824e-01,  6.1429358e-01,  6.2131536e-01],\n",
      "        [ 2.4477898e-01,  6.6490859e-02,  1.1315222e+00, -3.3267912e-01,\n",
      "         -2.6552206e-01,  6.3874978e-01, -6.6989154e-02,  5.6638706e-01],\n",
      "        [-1.4239240e+00, -5.5479479e-01, -1.1605937e+00, -6.7982388e-01,\n",
      "         -1.0088620e+00, -9.6716082e-01, -8.0108356e-01, -2.2428744e-01],\n",
      "        [ 5.4662353e-01,  1.3069885e+00, -1.4928569e-01,  1.4535849e+00,\n",
      "          6.2823653e-01,  5.2246451e-01,  7.0389819e-01,  5.4071087e-02],\n",
      "        [-5.4445791e-01,  6.9925076e-01,  1.5902494e+00, -4.2271912e-01,\n",
      "         -7.9813862e-01, -9.3425560e-01, -1.4856671e-02, -8.7113470e-01],\n",
      "        [ 1.4764334e+00,  1.0588869e+00, -1.4624704e+00,  1.4689276e-01,\n",
      "          7.5507110e-01, -3.6203700e-01, -1.2283678e+00,  1.7296806e-03],\n",
      "        [-3.4721121e-01,  8.1105226e-01, -1.3143479e+00, -1.9097494e+00,\n",
      "         -1.2975372e-01,  1.2109001e+00,  4.2394301e-01,  2.1009399e-01],\n",
      "        [ 9.7648591e-01,  2.5222173e-02,  1.0235312e+00,  1.3768493e+00,\n",
      "         -1.5286881e+00,  3.4608405e+00, -5.7915366e-01,  9.9118972e-01],\n",
      "        [ 8.1835723e-01,  7.4649251e-01, -9.6048695e-01, -4.3845937e-01,\n",
      "         -5.8391011e-01, -2.4939845e+00,  9.6997029e-01, -6.2034871e-02],\n",
      "        [-1.7513637e-01,  7.3623240e-01, -2.5012279e-01, -2.2665070e-01,\n",
      "         -1.0026656e+00,  1.4739046e+00, -1.4315662e-02,  7.1096402e-01],\n",
      "        [ 4.6581370e-01,  9.3392694e-01, -4.4520411e-01,  7.7235365e-01,\n",
      "         -1.1524390e+00, -2.7704531e-01, -1.3308727e+00, -1.8917669e+00],\n",
      "        [-3.4692492e-02, -2.4664423e+00, -5.0828797e-01,  1.1452991e+00,\n",
      "         -1.8706073e+00, -7.7681124e-01, -2.3398683e+00,  1.3304075e+00],\n",
      "        [-5.0316185e-01,  2.2704111e-01,  1.0716734e+00, -1.3194649e+00,\n",
      "         -9.8510075e-01, -1.2134320e+00,  4.9054718e-01,  5.3246218e-01],\n",
      "        [-1.9389598e+00, -6.5093803e-01,  8.3345467e-01,  1.5935761e+00,\n",
      "         -2.6758504e+00, -9.4182122e-01,  6.2771094e-01, -5.1383400e-01],\n",
      "        [ 4.4727704e-01, -7.2868013e-01,  1.2188869e+00, -2.4285655e+00,\n",
      "         -3.5180148e-02, -1.9029645e+00, -1.0137749e-01,  6.3451201e-02],\n",
      "        [-4.3249946e-02,  1.3683659e+00, -3.0126607e-01, -3.0085656e-01,\n",
      "         -5.6737953e-01,  5.6605518e-01, -1.2547902e+00,  9.9613631e-01],\n",
      "        [-3.1075186e-01, -1.7346680e-01, -1.3075901e+00,  4.5976758e-01,\n",
      "          6.3318139e-01, -6.1967051e-01,  1.2137517e+00,  6.2493795e-01],\n",
      "        [ 1.1164656e+00, -2.6283857e-01, -3.0700585e-01,  1.9292222e-01,\n",
      "         -4.1635752e-01,  7.1876764e-01,  4.8811105e-01, -1.5414915e+00],\n",
      "        [-1.2092481e+00, -7.2820836e-01, -8.9212485e-02, -4.5315817e-01,\n",
      "         -8.2734549e-01, -1.1285503e+00, -1.0574733e+00,  3.0129346e-01],\n",
      "        [ 5.4456270e-01, -4.5998427e-01,  6.3070792e-01, -5.3769052e-01,\n",
      "         -1.5196952e+00,  1.5126312e+00,  3.6928087e-01, -3.4738757e-02],\n",
      "        [-5.0403768e-01, -5.1961821e-01, -1.2521287e+00,  6.2598789e-01,\n",
      "         -1.6457998e+00,  8.9046514e-01, -1.5411168e-01,  4.8387733e-01],\n",
      "        [-9.2904627e-01, -1.0147405e+00,  1.0038875e+00,  8.6648679e-01,\n",
      "         -1.0256964e+00, -1.0864605e+00,  4.9724590e-02,  2.4550669e+00],\n",
      "        [ 5.5529207e-01,  5.7876235e-01, -1.6012149e+00, -1.7775506e-01,\n",
      "         -1.4600556e+00,  2.5384647e-01, -1.3215613e+00,  1.9562222e+00],\n",
      "        [-5.3884625e-02, -1.0122659e+00, -8.9445901e-01,  5.0259006e-01,\n",
      "          1.2254139e+00,  1.0273162e+00, -3.4690073e-01, -6.9169617e-01],\n",
      "        [ 6.1336815e-01,  2.1190125e-01, -9.7663695e-01, -1.8335989e+00,\n",
      "         -9.3817919e-01, -8.5736418e-01, -1.9701011e+00,  8.5063392e-01]],\n",
      "\n",
      "       [[-2.5205317e-01,  3.9173314e-01, -1.0030745e+00, -9.5187718e-01,\n",
      "          1.0124934e+00,  1.9030821e+00, -2.7420530e-01, -7.4184880e-02],\n",
      "        [-1.5512043e+00, -3.2431582e-01, -1.3548815e+00,  6.8224168e-01,\n",
      "         -2.6350462e-01,  4.1335627e-01,  8.2200758e-02,  1.4103086e-01],\n",
      "        [-8.0874091e-01, -7.4928027e-01, -7.2967601e-01, -1.6859542e-01,\n",
      "          3.5907816e-02,  1.2969252e+00, -7.3521912e-01,  1.7800756e+00],\n",
      "        [ 2.3774917e+00,  1.4960515e+00, -1.3558836e+00, -9.9606812e-01,\n",
      "          3.1161875e-01, -5.6416667e-01, -3.9027745e-01,  2.0897813e+00],\n",
      "        [-4.5369783e-01, -2.9794434e-01, -2.3458008e-01,  8.4180123e-01,\n",
      "          1.6096914e+00, -1.2355277e-01, -2.1452440e-01, -5.2662569e-01],\n",
      "        [-5.4176223e-01,  6.6130108e-01, -3.0957386e-01,  2.8890872e-01,\n",
      "         -5.6553345e-02,  1.1340454e+00,  4.9590281e-01,  8.2006979e-01],\n",
      "        [-2.8669214e-01,  8.4137779e-01, -1.2205181e+00,  1.5353816e+00,\n",
      "          1.6354035e+00,  7.3774803e-01,  5.0800782e-01, -8.7546599e-01],\n",
      "        [-1.2006439e-01,  6.9329900e-01,  7.8202778e-01, -4.3472573e-01,\n",
      "         -8.6732990e-01, -1.4150378e+00, -8.1335497e-01,  4.7684425e-01],\n",
      "        [-8.7333620e-01, -2.6419243e-01,  4.5698788e-02,  8.5967720e-01,\n",
      "         -1.4642450e+00, -4.6583581e-01,  3.9596641e-01, -1.5714688e+00],\n",
      "        [ 7.6380259e-01,  5.2880192e-01, -8.7011135e-01, -1.3408142e+00,\n",
      "         -8.9740920e-01, -8.1478849e-02,  3.2113457e-01, -1.8404224e+00],\n",
      "        [-2.7924241e-02, -1.3271041e+00,  3.6160049e-01,  5.5645156e-01,\n",
      "         -2.1019003e+00,  3.9023897e-01, -7.4497014e-01, -1.2714615e-01],\n",
      "        [-4.9012753e-01, -1.8510264e-01, -8.2399547e-02, -8.3791596e-01,\n",
      "         -1.6639321e+00, -6.3190883e-01, -6.6684425e-01, -6.8620771e-01],\n",
      "        [ 1.4204973e+00,  6.3137108e-01, -3.5643008e-01,  9.9965739e-01,\n",
      "          1.2923642e+00, -7.4607873e-01,  1.0841666e+00,  1.2789279e+00],\n",
      "        [ 6.5801185e-01,  3.5069078e-02,  4.2416829e-01, -1.0788159e-01,\n",
      "          3.4623972e-01,  1.2693734e+00, -3.0910246e-02, -5.7869828e-01],\n",
      "        [-1.9585110e+00,  1.0653397e+00, -6.4539337e-01,  4.5573610e-01,\n",
      "          7.3905241e-01, -2.8078902e-01,  3.9289603e-01, -8.0292135e-01],\n",
      "        [-5.9843159e-01,  3.6393067e-01, -3.3302326e-03, -5.7104003e-01,\n",
      "          5.2420443e-01,  8.2250702e-01,  1.2691798e+00, -1.0284846e+00],\n",
      "        [-1.1578896e+00, -9.6617657e-01, -6.6166753e-01,  1.3522289e+00,\n",
      "         -9.9763447e-01,  1.5208762e+00, -2.3648697e-01, -1.0911108e+00],\n",
      "        [-1.5094453e+00, -6.4893150e-01,  3.7637073e-01, -8.1899595e-01,\n",
      "          1.4881091e+00,  1.4860418e+00,  4.8512137e-01, -6.7299694e-01],\n",
      "        [ 3.3340618e-02,  6.3984543e-01,  1.1134946e+00, -7.9404414e-01,\n",
      "         -2.4434581e+00, -1.2952909e+00, -1.2433751e+00,  3.5693228e-01],\n",
      "        [-4.6404067e-01,  4.1385013e-01,  6.5113127e-02,  1.7100252e+00,\n",
      "         -2.5272459e-01, -8.0788368e-01,  1.7179683e+00, -1.4510001e+00],\n",
      "        [-1.6656528e-01,  6.2799871e-01, -3.4357870e-01,  1.1977544e+00,\n",
      "          2.7134162e-01,  1.3033638e+00, -1.3593606e+00,  3.1578457e-01],\n",
      "        [-1.0384409e-01, -1.0064994e+00, -5.1274873e-02, -9.3470961e-01,\n",
      "         -1.2608949e+00, -8.1397012e-02,  8.5208249e-01, -1.6322042e+00],\n",
      "        [ 1.5235785e+00,  1.1637265e-01, -1.2425681e-01,  1.6244923e+00,\n",
      "         -1.0695726e+00, -6.5878135e-01, -1.0375206e+00,  6.6608959e-01],\n",
      "        [-7.1976706e-02, -1.1325471e+00, -8.8438332e-01,  4.4197896e-01,\n",
      "         -9.4610238e-01, -6.8267566e-01, -1.1186397e+00,  2.7935874e-01],\n",
      "        [-1.6453491e-01, -3.8352856e-01,  3.4800064e-02,  7.8881210e-01,\n",
      "          6.3790333e-01,  2.6016837e-01, -1.0271459e-01, -2.0727908e-02],\n",
      "        [ 8.9026088e-01, -1.0156614e+00,  1.3359480e+00, -7.6704574e-01,\n",
      "         -3.2515001e-01, -8.6703014e-01, -9.7715443e-01, -7.4397463e-01],\n",
      "        [ 7.4405211e-01,  5.0107664e-03,  6.4644206e-01,  1.1964990e+00,\n",
      "          1.1047418e+00,  1.6153291e-02, -2.7874780e-01,  1.0944294e-01],\n",
      "        [ 1.4727508e+00,  1.0826308e+00, -1.3952655e+00,  2.3249052e+00,\n",
      "          1.1940222e+00, -1.6601297e-01, -2.3357360e-01,  4.3696815e-01],\n",
      "        [-1.4552196e+00,  1.2326801e-02,  2.2071733e-01,  5.1045513e-01,\n",
      "          7.1690127e-02, -5.6626225e-01,  5.1244533e-01, -1.6841006e+00],\n",
      "        [ 8.6782920e-01, -9.1347188e-02,  2.1079619e+00, -1.4097431e-01,\n",
      "          1.2341117e+00,  1.2760732e+00, -2.1732844e-01, -3.9692000e-01],\n",
      "        [-1.4767516e-01,  4.1329303e-01,  1.1890609e+00,  7.5880581e-01,\n",
      "          1.1391550e+00,  9.3240422e-01,  9.4647095e-02, -1.6863478e+00],\n",
      "        [-2.4228423e+00, -1.6029351e+00, -1.3897486e+00,  1.5864577e+00,\n",
      "         -9.0939015e-01,  2.0763728e-01, -2.4367011e-01, -5.6031638e-01],\n",
      "        [ 1.1378275e+00,  4.5108593e-01,  1.1413033e+00,  9.0692395e-01,\n",
      "          2.3242140e+00,  1.3707355e+00, -1.7031858e+00,  3.8868484e-01],\n",
      "        [ 1.6957605e-01, -8.0462748e-01, -1.0538020e+00, -3.6126384e-01,\n",
      "          3.3650324e-01,  3.1302261e-01, -1.1588938e+00,  2.6072615e-01],\n",
      "        [-9.3355769e-01, -9.2916292e-01,  4.3099758e-01,  1.2041310e+00,\n",
      "          6.6892976e-01,  7.4713498e-02,  1.5956756e-01, -2.3184627e-01],\n",
      "        [-4.8941463e-01, -1.5114127e+00,  3.6676962e-02, -8.9623350e-01,\n",
      "          1.1673092e+00,  3.4355140e-01, -2.4105398e-01,  7.6525074e-01]]],\n",
      "      dtype=float32)>]\n",
      "tf.Tensor(\n",
      "[[[ 1.013633    0.463873    0.9678133   0.00441829 -0.26366878\n",
      "   -0.9044769   0.28471196  0.02302913]\n",
      "  [ 0.56820333  0.35891286  0.23323181  1.2158802   0.61127275\n",
      "   -0.09202087 -1.3902041  -0.4138528 ]\n",
      "  [-2.1048121   0.13920434  0.8723731  -0.15637098 -0.98006445\n",
      "    1.2513566  -0.74643743 -0.34835067]\n",
      "  [ 0.5660868   2.0370898  -1.8101919  -0.39914367 -1.8364533\n",
      "   -0.74636763  0.36354342  1.4216106 ]\n",
      "  [-0.19920763  1.0540507  -1.4831898   1.6823387   0.22904135\n",
      "   -1.9228628   1.006968   -0.18982637]\n",
      "  [-1.3867202   0.5650872   0.88047093  0.38503212 -0.93784094\n",
      "    1.0284113  -1.2435268   1.0571855 ]\n",
      "  [-0.45590428  0.1677417  -0.7128247  -0.02970551 -1.5273465\n",
      "   -2.1628344   0.17976207  0.8900899 ]\n",
      "  [-3.3842278  -0.76587576 -0.37027776  0.6375092  -0.80596995\n",
      "   -0.00686174  1.8525428   0.35403264]\n",
      "  [ 0.01471427 -1.7522304  -0.34314355  0.86618817 -0.18305056\n",
      "   -1.5724374   1.725399   -1.2535505 ]\n",
      "  [-0.10213415  0.17888439 -1.1430763   1.0045878   0.42947426\n",
      "    0.2956167   0.7364491  -0.9725356 ]\n",
      "  [-0.5108605   0.38768587  0.6711941   0.7145335   0.26633114\n",
      "   -0.6508422  -0.07182787  0.33904016]\n",
      "  [ 0.6735177  -0.5264453   0.4450177  -0.21650612 -0.39313003\n",
      "    0.9080589   1.6678905   0.517932  ]\n",
      "  [ 2.020971   -0.7707189  -0.7566894  -1.0199137  -1.2045908\n",
      "   -0.28184035  0.61587274 -0.47667906]\n",
      "  [ 0.09747528 -0.44711456 -0.48864642 -0.36725804  2.2028327\n",
      "   -0.61658907 -0.9726766   0.86985826]\n",
      "  [ 0.31149626 -0.0700601  -1.7710581  -0.6462147   0.3715635\n",
      "   -0.18785328  0.36931825 -0.24828355]\n",
      "  [ 0.37885395  2.2971504  -0.597931   -1.9632027  -2.0057945\n",
      "    0.21665783  0.24268562  0.6366571 ]\n",
      "  [-0.6281363  -1.2743367   0.4000161  -0.05960046  0.2748795\n",
      "    0.4910857   0.70636904  0.9348686 ]\n",
      "  [-0.24854863  0.55517966  0.6485829  -1.4994502  -0.76100385\n",
      "    0.39786726  0.294269    1.321837  ]\n",
      "  [ 0.31999415 -0.77776915 -0.24902338  0.59377515 -0.3617327\n",
      "   -0.47242317 -0.24321197  0.547003  ]\n",
      "  [ 1.721074    0.47502127 -1.7250586   0.6502058  -0.45473832\n",
      "   -0.04766574 -1.134201   -1.1047926 ]\n",
      "  [-2.6940439  -1.2408613   0.5595195   1.327068   -1.6040109\n",
      "   -0.89370364 -1.1791095   0.57216954]\n",
      "  [ 0.86549544 -0.96522796 -0.6150528  -1.5964233  -1.6500493\n",
      "    0.24072236 -0.42160523 -0.15541993]\n",
      "  [-0.5782455   0.81824505 -0.9231831  -0.41413462 -0.65756655\n",
      "   -1.6148169  -0.8905214   0.74370944]\n",
      "  [ 0.62445337  0.09774943 -1.0749993   0.09379096  0.390066\n",
      "    1.171442   -0.06362894 -0.07116979]\n",
      "  [ 0.9085159   0.24068387 -0.6030828   0.9692533  -0.4846347\n",
      "    0.0281126  -0.44487894 -1.2438203 ]\n",
      "  [ 0.08984802  0.5882045   0.0830133  -0.04217031 -0.4379207\n",
      "    0.45748058  0.31915644 -0.42119175]\n",
      "  [-0.25057945  1.9476813  -1.6815686   2.6960044   2.2331822\n",
      "    0.19835086 -1.7830274   0.34448832]\n",
      "  [ 1.7627773   0.7320649   0.5006119   1.3494339   0.1451915\n",
      "    1.9482427   0.32659248  0.20498416]\n",
      "  [ 1.1573781   0.68657744 -0.01875207  0.30096692  1.5656193\n",
      "    0.15166414 -0.5875134  -0.6195053 ]\n",
      "  [ 0.8131005  -0.8415426  -0.5828423   0.33210027  1.4961631\n",
      "   -1.1134269  -0.42337358  1.305872  ]\n",
      "  [-2.6278152   0.41570178  1.5391762  -0.43385535 -0.4483353\n",
      "    0.27735016  0.24976286  0.72471875]\n",
      "  [-0.8436498  -1.6869352   0.53400296  0.33141014  0.31987256\n",
      "    1.7496421  -0.46315226  0.708372  ]\n",
      "  [ 0.41478914  0.22430901 -1.5284966   1.2042708  -0.24540195\n",
      "    0.8465639  -2.4289331  -0.5298489 ]\n",
      "  [-1.7434187   0.19420975 -0.7918006  -0.8074499  -0.4257178\n",
      "    1.6650511  -1.0129763   0.06126557]\n",
      "  [ 1.0149249   0.13352095  0.6984386  -0.5514945   0.33622143\n",
      "    0.53266954 -0.7353041   0.22981465]\n",
      "  [-0.9743905  -2.2233062  -1.2273424   0.4813918   0.28292653\n",
      "    0.7655005   0.5228955   0.68348294]]\n",
      "\n",
      " [[-1.5922796  -1.1769099  -0.79865867 -0.02861028 -0.06500495\n",
      "   -1.4906088  -2.1266747   1.4374602 ]\n",
      "  [ 0.06246888  1.7978463   0.8868129   1.0573925  -0.9602572\n",
      "    0.52113116  0.5649632   0.60042584]\n",
      "  [ 0.8234917  -0.41265246 -1.6117597   0.5545479  -0.13493301\n",
      "   -1.0118871   0.76979977 -0.41186482]\n",
      "  [-1.6594416  -0.54774815  1.3973516  -0.24489011  0.7601486\n",
      "    1.1537404  -0.74099255 -1.1586958 ]\n",
      "  [ 0.66403556 -0.5946258  -0.7000854   0.78543466  0.950232\n",
      "   -0.9246148  -0.03422418  0.4159531 ]\n",
      "  [ 0.81490135  0.60566914 -2.6764016  -0.26038474  0.93479514\n",
      "    0.5843049   0.90014315  0.10453609]\n",
      "  [ 0.74448836  0.52903354  1.5879112  -1.3534993  -0.7628426\n",
      "    0.12677227 -0.75320417  1.3119799 ]\n",
      "  [ 0.7981317   0.8246549  -0.16654672 -0.4298144   0.83642274\n",
      "    0.8489735  -0.56497425  1.2754542 ]\n",
      "  [-1.5330888   0.3918333  -0.39618963 -1.4803672   0.87416047\n",
      "    0.34827    -0.3271181   0.17731752]\n",
      "  [ 0.6314946  -0.14038058 -0.29370448  1.2694783   0.9333211\n",
      "   -1.27231    -0.16347504 -2.101406  ]\n",
      "  [ 0.29031634 -0.6458033   0.5164163   0.86527056  0.37807903\n",
      "    0.4448406  -1.1368405  -0.6816665 ]\n",
      "  [ 1.8701687   0.31729347  0.3265781  -0.77194697 -1.279193\n",
      "   -0.6969354   0.83865386  0.7342952 ]\n",
      "  [ 0.613805    0.26673934  0.11579921  0.3965366   2.075074\n",
      "   -0.898619   -0.32284325  0.93074733]\n",
      "  [ 1.6440862  -0.7944733   0.9529534   0.8979543  -0.3856655\n",
      "    0.1809906   2.8884764   0.45823207]\n",
      "  [-0.5106623  -0.11953019 -0.23624118 -3.0674179   1.7522386\n",
      "   -0.05094786 -0.7101611   0.02098974]\n",
      "  [ 1.2106394  -1.163975   -0.43995604  1.5424827   1.0710484\n",
      "   -0.5991719   1.421739   -1.3594118 ]\n",
      "  [-0.3219388   0.15599719  0.14896134 -0.17562093  0.15716876\n",
      "   -0.07285517 -0.01761044 -0.1948217 ]\n",
      "  [-1.0407141   0.7222707  -0.52341056  0.01325612 -0.4054652\n",
      "    1.0563042  -0.21442021  0.7602866 ]\n",
      "  [ 0.5645869  -0.39398208 -0.15874133 -1.3926151  -0.27560642\n",
      "   -0.9109297   2.168071   -0.4523422 ]\n",
      "  [ 0.07571395  0.6411909  -0.6219674   0.27635396  0.09901487\n",
      "   -1.7060113  -0.2867052  -0.02077197]\n",
      "  [-0.8852515   0.05937568  1.3063991   0.26332128  0.00844812\n",
      "   -0.3984616  -0.4455726  -1.412255  ]\n",
      "  [-2.1703854  -0.23043434 -0.14409679  2.560066   -0.24838105\n",
      "   -0.07711592 -1.1593722  -0.31840834]\n",
      "  [-2.0893946  -0.56787115 -0.15003335 -0.32003194 -0.82574695\n",
      "    0.09455333  1.4501251  -0.65792215]\n",
      "  [-0.66054624  0.32964167  1.0538772  -0.5833743   0.7432224\n",
      "   -1.5909765  -0.12197082  0.6786817 ]\n",
      "  [ 1.2481532  -0.2573564  -0.43490416  0.37789714  0.91734165\n",
      "    0.3503906  -0.970869    1.5410951 ]\n",
      "  [ 0.31606674  0.59807897 -0.85760856 -1.2372181   2.1985414\n",
      "   -0.37639266  1.8246303  -0.2607366 ]\n",
      "  [-0.02504358  0.36580756  0.20668797  0.77812773  0.73603916\n",
      "    0.9140418   1.287319    1.4527962 ]\n",
      "  [-1.4407604  -0.34039968  1.654801   -1.2050619   0.4585621\n",
      "    0.2334014   0.6946411  -0.5672393 ]\n",
      "  [-1.4259583   0.02314142  0.17194375 -0.7354997  -1.5664935\n",
      "   -0.5351669  -1.2697172  -0.92698133]\n",
      "  [-0.24458729  1.9054995  -0.32974252 -1.699305   -0.48579606\n",
      "    0.507663    0.54105145 -2.1274574 ]\n",
      "  [-0.15892167  2.817057   -1.4833176  -0.8736252  -0.31752637\n",
      "   -0.78087604 -1.3644207   0.08966587]\n",
      "  [-1.5418153   1.2434692   0.3158628   0.95204186 -0.39178696\n",
      "   -1.1267092   0.3229022  -1.8189008 ]\n",
      "  [-0.30402854 -0.79504335 -1.1108255   0.9247802   0.2931653\n",
      "   -0.10974476  1.6600009   0.6834107 ]\n",
      "  [-0.3097107  -0.04787401 -0.58846    -0.57160735  0.84989953\n",
      "   -1.2714076  -0.54738945  0.76653594]\n",
      "  [ 0.77651906 -0.46127898  0.40839225  0.03232628 -0.5955428\n",
      "    0.54370344  0.6468029   0.25628442]\n",
      "  [-0.02013342 -0.558419   -0.1685041   0.584895    1.0953579\n",
      "    1.1309699   0.63928497  1.0106933 ]]], shape=(2, 36, 8), dtype=float32)\n"
     ]
    }
   ],
   "source": [
    "x = tf.random.normal(shape=(10, 36, 8))\n",
    "x_split = tf.split(x,  num_or_size_splits=5, axis=0)\n",
    "print(x_split)\n",
    "print(x_split[0])"
   ]
  },
  {
   "cell_type": "code",
   "execution_count": 65,
   "metadata": {},
   "outputs": [
    {
     "name": "stdout",
     "output_type": "stream",
     "text": [
      "[<tf.Tensor: id=337, shape=(10, 6, 8), dtype=float32, numpy=\n",
      "array([[[ 4.95660584e-04,  1.41459614e-01,  5.20793378e-01,\n",
      "         -7.70676851e-01, -3.03942770e-01, -2.76810378e-01,\n",
      "          5.79421878e-01, -1.46014720e-01],\n",
      "        [ 7.79464424e-01,  5.10138869e-01,  1.41363084e-01,\n",
      "          1.05691159e+00, -2.22694898e+00, -2.69342542e-01,\n",
      "         -1.22090745e+00,  3.08290899e-01],\n",
      "        [ 1.22551000e+00, -1.34663022e+00,  5.75086176e-01,\n",
      "          1.05779365e-01,  9.78487313e-01, -1.38068631e-01,\n",
      "          1.13665915e+00, -1.81662703e+00],\n",
      "        [ 2.37713146e+00, -2.03141347e-02,  1.68077326e+00,\n",
      "         -4.39917706e-02, -3.56664062e-01, -1.98601174e+00,\n",
      "         -3.56222332e-01,  1.36549726e-01],\n",
      "        [ 1.05100834e+00,  1.40304911e+00, -2.14851394e-01,\n",
      "          2.03283980e-01,  1.28491831e+00,  6.63192034e-01,\n",
      "          1.41337618e-01, -5.29758394e-01],\n",
      "        [-1.05015114e-01, -1.68309140e+00, -2.41672024e-01,\n",
      "          9.02282536e-01,  3.26649606e-01,  1.06804419e+00,\n",
      "          7.77439594e-01, -8.74649405e-01]],\n",
      "\n",
      "       [[-2.34174788e-01,  9.92264152e-01,  1.53857032e-02,\n",
      "         -7.65903592e-02, -3.52554888e-01,  7.82381713e-01,\n",
      "         -1.37374330e+00,  1.79232527e-02],\n",
      "        [-5.16211808e-01, -4.04360801e-01,  1.31843463e-01,\n",
      "          8.44803572e-01,  5.18136263e-01,  3.04909468e-01,\n",
      "         -3.64369661e-01,  1.44890714e+00],\n",
      "        [ 1.51673466e-01, -2.07681465e+00, -1.44222128e+00,\n",
      "          1.64017938e-02,  8.29710588e-02,  2.42383456e+00,\n",
      "          6.40028834e-01, -1.97383225e+00],\n",
      "        [ 1.07873034e+00, -6.34771764e-01,  8.18598032e-01,\n",
      "         -6.39052451e-01, -1.33088911e+00, -1.67496157e+00,\n",
      "          6.69765711e-01, -1.56373933e-01],\n",
      "        [-2.78145576e+00, -1.75839055e+00, -4.93568540e-01,\n",
      "          2.96675324e-01,  5.35936832e-01, -2.15321198e-01,\n",
      "         -2.64821321e-01,  4.92687710e-02],\n",
      "        [ 2.40562603e-01, -1.53706789e+00,  3.18197727e-01,\n",
      "         -1.41071007e-01,  1.05782129e-01, -5.79174280e-01,\n",
      "          9.24739242e-01, -5.04330456e-01]],\n",
      "\n",
      "       [[-2.58949306e-02,  1.44132018e+00,  1.24653721e+00,\n",
      "         -1.85110867e+00, -3.63083817e-02,  3.73354763e-01,\n",
      "         -4.66373354e-01,  9.22468185e-01],\n",
      "        [ 1.85260022e+00, -1.28545597e-01, -1.28618765e+00,\n",
      "          1.88301414e-01, -1.13609695e+00,  8.62120748e-01,\n",
      "          1.25625217e+00, -2.01039004e+00],\n",
      "        [-7.76859164e-01,  1.88793051e+00, -9.72022474e-01,\n",
      "         -8.68887186e-01,  1.29390866e-01,  5.72347008e-02,\n",
      "          2.12458387e-01,  3.46623182e-01],\n",
      "        [-6.28013536e-02, -4.54888225e-01,  6.28358305e-01,\n",
      "          3.40249054e-02, -1.80782866e+00, -9.14206266e-01,\n",
      "         -5.98494887e-01,  1.33203417e-01],\n",
      "        [ 5.01296639e-01, -2.02505708e+00,  9.29669261e-01,\n",
      "          9.81636107e-01, -8.67953420e-01,  1.17400393e-01,\n",
      "         -1.64703414e-01, -3.46737117e-01],\n",
      "        [ 1.16045594e+00, -9.28748727e-01, -6.43312812e-01,\n",
      "         -2.72060335e-01, -1.83886075e+00, -7.52508864e-02,\n",
      "          3.41990143e-01,  1.17166007e+00]],\n",
      "\n",
      "       [[-9.43572998e-01,  5.20870984e-01,  1.47638774e+00,\n",
      "          9.01382029e-01, -5.87064385e-01,  7.99978971e-01,\n",
      "         -1.56713009e+00,  2.62405962e-01],\n",
      "        [ 8.77982140e-01,  1.07422900e+00,  2.15027308e+00,\n",
      "          9.71250117e-01,  3.54615450e-01,  3.24806541e-01,\n",
      "          7.98955083e-01,  1.68906197e-01],\n",
      "        [ 1.02228224e+00,  1.86953163e+00,  9.77486074e-02,\n",
      "          2.05591822e+00, -1.20650208e+00,  8.41107428e-01,\n",
      "          3.74352261e-02, -4.73545313e-01],\n",
      "        [-5.40831804e-01, -1.79029718e-01, -1.39571428e+00,\n",
      "         -1.46282828e+00,  1.66485846e-01, -1.58076987e-01,\n",
      "         -9.05936241e-01,  1.00548637e+00],\n",
      "        [-7.50821173e-01, -4.96592760e-01, -1.87435150e+00,\n",
      "          1.93385732e+00,  5.36212504e-01,  8.81677926e-01,\n",
      "         -1.59857070e+00,  1.65012550e+00],\n",
      "        [ 2.28154868e-01, -3.02710868e-02,  2.12446952e+00,\n",
      "          1.01076031e+00,  7.40128815e-01,  1.20447969e+00,\n",
      "          1.15861189e+00,  3.89038593e-01]],\n",
      "\n",
      "       [[-4.21674669e-01,  2.51805317e-02,  5.57457328e-01,\n",
      "          1.89402866e+00, -6.97246850e-01, -1.75566494e+00,\n",
      "          9.44114566e-01,  1.17633593e+00],\n",
      "        [-1.13421810e+00,  2.97921658e-01,  2.45176956e-01,\n",
      "         -4.81892049e-01,  4.94050413e-01, -9.98328626e-02,\n",
      "          7.64270425e-01, -1.86196470e+00],\n",
      "        [ 1.44958228e-01, -5.10186315e-01,  1.32867590e-01,\n",
      "          4.27129805e-01, -1.88361633e+00, -2.04685554e-01,\n",
      "         -2.68922716e-01, -2.08708072e+00],\n",
      "        [ 6.54636145e-01,  9.17502880e-01,  4.69111234e-01,\n",
      "         -1.70543253e+00,  8.07067811e-01, -9.85029757e-01,\n",
      "         -9.84696448e-01, -2.07607493e-01],\n",
      "        [ 8.21900427e-01, -4.24421728e-01,  3.33393455e-01,\n",
      "         -4.37112868e-01, -6.07005954e-02,  2.37061930e+00,\n",
      "          3.36466670e-01, -1.72075137e-01],\n",
      "        [-2.16579914e+00,  1.95204234e+00, -1.36691976e+00,\n",
      "          1.21387982e+00,  5.86045325e-01, -1.11578035e+00,\n",
      "          7.76255131e-01, -1.60934329e-01]],\n",
      "\n",
      "       [[-7.70282567e-01, -3.38922173e-01, -1.55523431e+00,\n",
      "          3.55306178e-01, -2.79898763e-01,  5.47954381e-01,\n",
      "          1.27744460e+00,  1.95398375e-01],\n",
      "        [ 8.45123768e-01,  1.83079004e-01,  2.64688909e-01,\n",
      "          1.68743119e-01, -1.39010692e+00,  2.95652717e-01,\n",
      "         -9.92895365e-01,  5.38223803e-01],\n",
      "        [ 2.72980273e-01, -1.44971323e+00,  1.21322644e+00,\n",
      "          9.92385522e-02, -5.58846831e-01, -1.19614863e+00,\n",
      "         -5.96497178e-01,  1.21564202e-01],\n",
      "        [ 1.08185783e-01,  1.17992699e+00, -1.27330542e+00,\n",
      "          7.25604817e-02,  8.12866628e-01, -3.06522202e+00,\n",
      "          1.98460007e+00,  3.95073555e-02],\n",
      "        [-6.14516251e-02,  1.19715142e+00,  2.22584262e-01,\n",
      "          1.05511808e+00, -3.45159173e-01, -1.77589148e-01,\n",
      "          1.18613648e+00,  9.23105143e-03],\n",
      "        [ 1.62942901e-01, -1.93249822e-01, -2.24669766e+00,\n",
      "          4.78003323e-01,  6.19348407e-01,  5.20370781e-01,\n",
      "         -2.18346286e+00, -2.51153409e-01]],\n",
      "\n",
      "       [[-5.03764868e-01,  1.36151254e+00, -5.65236092e-01,\n",
      "          6.91252470e-01, -3.22383463e-01, -4.25731987e-01,\n",
      "          9.35898423e-01,  1.37193665e-01],\n",
      "        [ 5.34322917e-01, -1.89050925e+00, -2.71317333e-01,\n",
      "         -4.92120147e-01,  4.17483330e-01, -1.18505728e+00,\n",
      "         -1.20872915e+00,  6.06696665e-01],\n",
      "        [-5.53114176e-01,  6.48940504e-01, -1.80108082e+00,\n",
      "          3.60805318e-02, -9.02817667e-01,  7.09228814e-01,\n",
      "          9.09679890e-01, -3.19424756e-02],\n",
      "        [-1.47827590e+00,  1.46165037e+00,  1.32276863e-01,\n",
      "         -9.22002435e-01, -1.73430753e+00,  1.04774177e+00,\n",
      "         -5.98177493e-01,  1.02646995e+00],\n",
      "        [ 5.32687485e-01, -1.70642710e+00, -4.36051875e-01,\n",
      "          3.56527343e-02, -2.68582731e-01, -1.33157623e+00,\n",
      "          1.15118122e+00, -1.49580193e+00],\n",
      "        [-1.11663866e+00,  5.52076638e-01,  4.47614670e-01,\n",
      "         -4.77991819e-01, -3.13512087e-01, -9.15966809e-01,\n",
      "          1.10879183e+00, -1.75556934e+00]],\n",
      "\n",
      "       [[ 3.12164992e-01,  1.44341275e-01, -2.71957874e-01,\n",
      "          7.57951736e-01,  5.30888081e-01, -2.26131296e+00,\n",
      "         -1.99808300e-01, -1.94316834e-01],\n",
      "        [ 1.38423979e+00,  1.80053920e-01,  1.24061668e+00,\n",
      "          2.15598273e+00, -9.47059989e-01, -8.62647831e-01,\n",
      "         -7.21941352e-01, -9.04345334e-01],\n",
      "        [ 1.26512599e+00, -3.24572295e-01, -1.01539540e+00,\n",
      "         -7.65850425e-01,  1.95481703e-01,  1.71606350e+00,\n",
      "          1.07685959e+00,  6.80133045e-01],\n",
      "        [-4.38357085e-01, -8.10956895e-01,  4.74475384e-01,\n",
      "         -9.78792071e-01,  1.86832857e+00, -4.38872099e-01,\n",
      "         -2.97903210e-01, -1.23980808e+00],\n",
      "        [-4.14623559e-01, -1.65428221e+00,  9.47749376e-01,\n",
      "         -7.33534336e-01, -1.65513146e+00,  5.68459928e-02,\n",
      "         -2.36041641e+00, -6.54374480e-01],\n",
      "        [ 1.54585350e+00,  9.95789766e-01,  7.11308062e-01,\n",
      "         -6.27213359e-01,  8.68356049e-01, -3.48591924e-01,\n",
      "          8.65182102e-01, -1.45648146e+00]],\n",
      "\n",
      "       [[ 1.33246124e+00,  1.01075017e+00, -5.27394712e-01,\n",
      "          2.76577294e-01,  1.58686793e+00,  3.97172600e-01,\n",
      "          1.00645721e+00, -5.94243169e-01],\n",
      "        [ 9.00458395e-01,  1.42631269e+00,  2.50292450e-01,\n",
      "         -9.69458073e-02,  2.69643664e+00, -3.38860095e-01,\n",
      "          1.64651528e-01,  6.08239044e-03],\n",
      "        [ 1.76822647e-01,  5.92486896e-02,  8.89903545e-01,\n",
      "          1.29571629e+00, -1.61173725e+00,  7.41101623e-01,\n",
      "         -3.61504704e-01,  1.80761719e+00],\n",
      "        [-1.01061451e+00, -7.63180077e-01,  9.93446708e-02,\n",
      "          6.11079872e-01,  1.16814482e+00,  1.17248917e+00,\n",
      "          1.91063091e-01,  8.88846636e-01],\n",
      "        [ 2.05738473e+00,  1.48597383e+00, -5.67505881e-02,\n",
      "          7.41646588e-02,  3.42467457e-01, -2.20693302e+00,\n",
      "          6.49809480e-01, -5.23669243e-01],\n",
      "        [-1.16477020e-01,  2.14087099e-01, -3.48661572e-01,\n",
      "         -1.54414737e+00, -9.84014571e-01,  1.24771014e-01,\n",
      "          1.92252517e+00,  1.25064349e+00]],\n",
      "\n",
      "       [[ 1.54197574e-01,  8.71375144e-01,  1.16273314e-01,\n",
      "         -1.44421828e+00, -7.10622013e-01,  8.74100506e-01,\n",
      "         -5.57253957e-01,  2.34433323e-01],\n",
      "        [-2.37017214e-01, -1.08315134e+00, -1.15657830e+00,\n",
      "          1.83724031e-01,  8.83643448e-01,  8.44624490e-02,\n",
      "          1.18864024e+00,  5.78442037e-01],\n",
      "        [-1.82462609e+00,  4.55211461e-01,  8.51356626e-01,\n",
      "         -1.78004241e+00, -7.30339766e-01,  8.06086838e-01,\n",
      "         -2.21799299e-01, -3.50442350e-01],\n",
      "        [ 7.46254802e-01,  3.66301239e-01, -7.19051778e-01,\n",
      "          6.68491721e-01,  2.60975718e+00, -9.03434679e-02,\n",
      "          4.30914849e-01,  1.12803686e+00],\n",
      "        [ 6.43641770e-01,  1.47129345e+00, -8.10168207e-01,\n",
      "          5.39803147e-01,  1.12491989e+00, -1.40600061e+00,\n",
      "          4.59233135e-01, -1.06478918e+00],\n",
      "        [-1.55473709e-01,  1.13136888e+00, -2.20569998e-01,\n",
      "          6.23004854e-01, -5.57282090e-01,  9.07314360e-01,\n",
      "          1.61906195e+00, -4.30014580e-01]]], dtype=float32)>, <tf.Tensor: id=338, shape=(10, 6, 8), dtype=float32, numpy=\n",
      "array([[[ 8.3199191e-01, -1.2543098e+00, -8.5031784e-01,  7.1215695e-01,\n",
      "          9.7706616e-01,  3.8636900e-02,  1.4551829e-01,  4.3366790e-01],\n",
      "        [ 4.4274747e-01, -2.3727491e+00,  7.6414686e-01, -9.2120759e-02,\n",
      "          7.8744930e-01, -7.3534942e-01, -2.5721402e+00,  3.9964104e-01],\n",
      "        [-1.7108978e-03,  1.0401132e+00,  1.0705332e+00,  1.4043524e+00,\n",
      "          1.4595397e+00, -1.1638591e+00, -2.3533571e+00,  5.1371306e-01],\n",
      "        [-3.1377190e-01,  2.9111259e-02, -6.8857485e-01, -1.4910332e+00,\n",
      "          2.1863022e-01,  1.2558086e+00,  2.3960159e+00, -4.1018757e-01],\n",
      "        [-9.4590223e-01, -5.1289123e-01,  1.0884222e+00, -3.3451051e-01,\n",
      "         -1.1670183e+00,  9.6777177e-01,  6.9082057e-01, -2.7764800e-01],\n",
      "        [ 6.5370655e-01, -9.4264698e-01, -8.5612577e-01,  3.4033403e-01,\n",
      "         -1.1090761e+00, -1.0446572e+00, -2.1936172e-01, -6.3458300e-01]],\n",
      "\n",
      "       [[ 4.6912953e-01, -1.1759430e+00,  2.0594511e+00,  1.0293249e-01,\n",
      "         -5.7773274e-01, -8.5621253e-03,  8.0184281e-01, -1.7239485e+00],\n",
      "        [ 8.0498689e-01,  3.5299212e-01, -5.9526056e-01,  4.1172433e-01,\n",
      "          2.5753742e-01, -3.8005587e-01, -1.4610336e+00,  8.1351453e-01],\n",
      "        [-1.1507190e+00,  1.0684057e+00,  1.9844733e-01,  5.3250909e-01,\n",
      "          7.8165138e-01,  6.7068207e-01, -6.9309485e-01, -1.1617438e+00],\n",
      "        [-1.0576757e+00, -3.0016333e-01, -7.7793765e-01,  1.9225986e+00,\n",
      "          4.8901129e-01,  6.6745862e-02, -4.7738552e-01,  7.0909984e-02],\n",
      "        [ 1.0734323e+00, -4.7976062e-01, -3.6136323e-01,  7.7157134e-01,\n",
      "          6.3027185e-01, -1.8857459e+00,  4.9539134e-01, -8.7900651e-01],\n",
      "        [-1.9778725e+00,  6.5351266e-01, -2.2866277e-01,  5.7137018e-01,\n",
      "         -1.7119946e+00, -4.9649820e-01,  1.6841234e-01,  1.5643813e-01]],\n",
      "\n",
      "       [[-8.5032749e-01,  2.4496469e-01,  8.5381210e-01,  2.0650886e-01,\n",
      "         -1.0593367e+00, -4.7193399e-01,  9.2906612e-01,  2.1082716e-01],\n",
      "        [ 4.6297848e-01, -1.6494749e-01, -5.4531199e-01,  1.3747244e+00,\n",
      "         -1.3318692e+00,  1.0985557e+00,  1.5966378e+00, -7.4997675e-01],\n",
      "        [ 4.9551848e-01,  8.6521697e-01,  8.9888811e-01,  2.5226331e-01,\n",
      "          9.2575300e-01, -1.3181009e+00,  6.0072493e-02,  3.8108972e-01],\n",
      "        [-5.6178743e-01,  2.0194922e-01,  2.0140157e+00,  3.8509744e-01,\n",
      "         -3.0964576e-02,  2.0652060e-01,  1.5027335e+00,  4.2517635e-01],\n",
      "        [ 2.2280659e-01, -1.4700640e+00,  1.2933378e+00,  1.3674414e-01,\n",
      "          1.7572288e-01, -1.5935525e-02,  6.5776294e-01,  6.3111252e-01],\n",
      "        [ 9.9250399e-02,  8.1701386e-01,  9.9044025e-02,  1.3510380e+00,\n",
      "         -6.2285918e-01,  2.3682296e-01,  1.1194307e+00, -3.6398333e-01]],\n",
      "\n",
      "       [[-2.8221804e-01,  8.3962482e-01,  4.9349256e-02, -2.4100444e+00,\n",
      "          7.7708834e-01,  1.2955692e+00, -4.0362895e-01, -8.7355334e-01],\n",
      "        [-2.2652912e+00, -4.9071869e-01,  6.4008725e-01, -1.4845004e+00,\n",
      "         -1.5827329e+00, -5.6078082e-01,  8.2097799e-01, -4.9175259e-01],\n",
      "        [ 7.0674556e-01, -1.4177691e-02, -1.7491945e+00,  7.5937080e-01,\n",
      "          1.3613292e+00, -1.2985840e+00,  1.6358626e+00,  1.7264234e+00],\n",
      "        [ 2.3875220e-01,  1.5109394e-01,  1.4044578e+00, -3.6963704e-01,\n",
      "         -1.7317890e+00, -1.8611853e-01,  4.6096358e-01, -2.1769545e+00],\n",
      "        [-2.6845059e+00,  1.4063431e-01,  3.4687448e-01, -1.8993510e-01,\n",
      "         -1.6705671e-01,  1.2798650e-02, -1.8340062e+00,  1.9223909e-01],\n",
      "        [ 1.7750163e+00, -2.0336800e+00,  7.1145934e-01,  1.3671643e+00,\n",
      "          1.1827715e-01,  1.3591298e+00,  1.6042678e-01, -5.0097549e-01]],\n",
      "\n",
      "       [[-1.5825204e+00,  1.4761658e+00, -1.8945840e-01, -4.2930570e-01,\n",
      "          8.1943899e-01, -9.0941213e-02, -1.7497066e+00, -1.9228835e+00],\n",
      "        [ 5.0496995e-01,  9.2697203e-01,  4.2240906e-01, -1.3351322e+00,\n",
      "         -5.4469484e-01,  2.0371513e-01,  1.6676762e+00,  6.6843492e-01],\n",
      "        [ 3.1733266e-01, -1.7332098e-01,  7.2635144e-01, -1.5400662e+00,\n",
      "         -6.7818463e-01, -6.6381389e-01,  6.4563853e-01,  1.0514941e+00],\n",
      "        [ 6.1401957e-01,  1.5647407e+00,  1.4531900e+00,  9.4501185e-01,\n",
      "         -1.3864437e-01,  7.5395644e-01, -1.2502515e+00, -1.6187051e-01],\n",
      "        [-1.4958292e-01, -1.8225116e-01, -9.0823036e-01, -1.0103786e+00,\n",
      "         -3.0011812e-01, -7.9499727e-01,  1.4844497e+00,  1.8868951e+00],\n",
      "        [ 1.2099748e+00,  2.6385343e-01,  1.0725780e+00, -9.0063709e-01,\n",
      "         -5.0790894e-01, -1.0646464e-01, -1.7994565e-01,  1.5680850e+00]],\n",
      "\n",
      "       [[-5.1892687e-02, -7.9361737e-01, -6.1740405e-03, -7.7922136e-02,\n",
      "         -7.8166908e-01,  3.1536373e-01,  1.2223390e+00,  3.7769297e-01],\n",
      "        [-2.4781098e+00,  1.1874225e+00, -3.1520659e-01,  6.1456239e-01,\n",
      "          2.1799834e+00, -7.3500115e-01,  2.7226728e-01,  8.8074207e-01],\n",
      "        [ 4.8493865e-01, -2.3654784e-01, -1.4213990e+00,  7.7963120e-01,\n",
      "         -2.9518008e-01,  2.4570418e-03,  1.6239183e-02, -1.2052236e+00],\n",
      "        [ 1.2427391e+00,  5.6387496e-01,  1.2472242e+00, -1.1119916e+00,\n",
      "         -1.1343744e+00, -7.3358223e-02,  2.6598516e-01, -8.6782826e-04],\n",
      "        [-2.2900274e-01,  1.1504008e+00, -8.0052823e-02,  3.2946527e-02,\n",
      "          3.3803690e-02, -3.7128243e-01,  7.3643273e-01,  9.3780547e-01],\n",
      "        [ 1.8814960e-01, -2.0170288e-01, -1.9864616e+00,  4.8036009e-01,\n",
      "         -1.5062928e+00,  7.2698957e-01,  1.7799619e-01, -2.8416035e+00]],\n",
      "\n",
      "       [[-1.4417122e-01, -1.0152493e+00, -3.3846340e-01, -1.1483793e+00,\n",
      "          1.2624009e-01, -1.9792190e-01, -2.5777285e+00,  9.5182103e-01],\n",
      "        [ 2.7364648e-03,  5.9501582e-01,  4.5679432e-01,  3.6338981e-02,\n",
      "          6.4593174e-02,  3.7793401e-01, -1.3263141e+00, -8.1145895e-01],\n",
      "        [ 4.5415258e-01, -1.1569270e+00,  1.0056734e-01, -2.1836429e+00,\n",
      "          2.4087806e-01,  2.0036115e-01, -2.2583853e-02, -5.8319241e-01],\n",
      "        [ 1.0758901e+00, -2.8239328e-01, -7.3820718e-02,  3.8777247e-01,\n",
      "          3.4019561e+00, -1.8073827e-02, -1.0681700e+00,  2.2098917e-01],\n",
      "        [ 1.9568628e-01,  2.0227082e+00, -5.8714569e-01, -9.7166556e-01,\n",
      "         -2.7559406e-01,  4.2904362e-01,  6.6492134e-01, -1.3521374e+00],\n",
      "        [ 1.7502791e-01,  8.7449759e-01, -1.3473442e+00,  4.2845526e-01,\n",
      "         -1.3105360e+00,  5.0470424e-01,  1.5459099e+00, -5.7683710e-02]],\n",
      "\n",
      "       [[ 6.4853233e-01, -1.1301945e+00, -4.9357960e-01,  1.4716671e+00,\n",
      "         -1.6192657e-01, -9.4472492e-01, -6.3807791e-01,  2.0152340e+00],\n",
      "        [ 1.2610682e+00,  1.7703212e+00,  4.1534835e-01, -6.4440578e-01,\n",
      "          8.5821950e-01,  8.9833391e-01, -5.1526278e-02, -4.2116737e-01],\n",
      "        [ 5.7975972e-01, -1.6766547e-01,  1.4851910e-01,  7.4661791e-01,\n",
      "          5.9306049e-01, -2.4650416e+00,  2.9879949e+00, -3.7267205e-01],\n",
      "        [-4.8216918e-01, -8.6061728e-01, -1.8899384e+00, -1.0295428e+00,\n",
      "          3.5396552e-01, -1.0007250e+00,  1.2434971e+00, -6.3456899e-01],\n",
      "        [ 9.8865785e-02, -1.2750068e+00, -7.8546971e-01, -1.0707314e+00,\n",
      "         -2.0468698e-01, -6.7787409e-01, -1.8214892e-01, -1.3275470e+00],\n",
      "        [ 3.4321800e-01,  1.1312795e+00,  2.6561666e-01, -1.1657834e+00,\n",
      "          1.3066119e+00,  2.9674006e-01,  8.8456690e-02, -6.2316084e-01]],\n",
      "\n",
      "       [[-3.2786107e-01,  8.2645881e-01,  5.1111513e-01,  1.6089963e+00,\n",
      "          1.5366541e+00,  1.8236035e+00,  9.3596303e-01, -8.1235671e-01],\n",
      "        [ 9.1643596e-01, -8.0696929e-01,  1.2228936e+00,  6.4435318e-02,\n",
      "          5.4801488e-01,  1.0815681e+00, -1.4040506e-01,  4.4198185e-01],\n",
      "        [ 1.1968088e+00,  2.0445402e-01,  1.1970937e+00, -5.1019365e-01,\n",
      "         -1.3322206e+00, -9.6540189e-01,  1.4718337e+00,  2.7012007e+00],\n",
      "        [-9.0925992e-01,  1.3707410e+00,  1.5926926e-01,  5.0775178e-02,\n",
      "          7.0213902e-01,  2.8461282e+00,  1.3855652e+00, -3.5488626e-01],\n",
      "        [ 7.8842217e-01, -1.4788531e+00,  1.1442199e+00,  7.8112310e-01,\n",
      "          3.1439784e-01,  2.7015600e+00,  4.8950028e-02, -8.4811378e-01],\n",
      "        [ 3.0077079e-01, -7.3032224e-01,  3.8901284e-01, -2.5493627e-02,\n",
      "         -2.0005951e+00,  9.6222961e-01,  2.2658996e-01,  2.3800275e-01]],\n",
      "\n",
      "       [[-3.9805844e-01,  6.6870913e-02,  1.3781526e+00,  9.5134728e-02,\n",
      "         -1.2498147e+00,  8.9296114e-01,  6.7840433e-01, -3.5654569e-01],\n",
      "        [-2.6118216e-01,  4.9314103e-01,  1.1211879e+00, -6.1033940e-01,\n",
      "         -4.6458274e-01, -3.6548033e-01, -9.5969015e-01,  1.2882133e+00],\n",
      "        [-1.1393251e+00, -4.4148901e-01, -4.3885186e-01, -5.5254441e-01,\n",
      "         -1.1576040e+00,  3.9254710e-01,  3.6194500e-01, -1.1943771e+00],\n",
      "        [-8.5381955e-01, -5.5321485e-01,  1.4117543e+00,  2.4972975e-01,\n",
      "         -7.0752138e-01, -5.0092161e-02,  2.6225632e-01, -3.6613733e-01],\n",
      "        [ 8.0966282e-01, -5.4976434e-01,  1.3593876e-01,  4.3407324e-01,\n",
      "          1.4830308e+00, -9.0935826e-01, -8.1849045e-01,  9.4372547e-01],\n",
      "        [-6.3426733e-01, -5.0291711e-01, -2.8624958e-01,  8.2520056e-01,\n",
      "         -5.2490103e-01,  9.6680164e-01, -1.3961732e+00, -2.5497980e+00]]],\n",
      "      dtype=float32)>, <tf.Tensor: id=339, shape=(10, 6, 8), dtype=float32, numpy=\n",
      "array([[[-2.15820208e-01, -5.52462816e-01, -6.78516567e-01,\n",
      "          1.09426129e+00, -1.91082597e-01,  1.76785141e-01,\n",
      "         -7.19104767e-01, -3.21124959e+00],\n",
      "        [ 1.46623814e+00,  5.14367461e-01, -5.67883909e-01,\n",
      "          9.87358466e-02,  7.93586016e-01, -1.21057844e+00,\n",
      "         -5.59271157e-01,  5.40872455e-01],\n",
      "        [ 1.68676674e+00, -3.80249590e-01, -5.70803881e-01,\n",
      "          1.05390131e+00, -5.62726855e-01,  9.74057496e-01,\n",
      "         -2.93105930e-01,  1.58871853e+00],\n",
      "        [-8.50307792e-02, -3.71512800e-01, -1.81373429e+00,\n",
      "          2.87157989e+00, -1.12768817e+00, -2.95788758e-02,\n",
      "         -9.16069150e-01,  7.69963205e-01],\n",
      "        [ 9.74608064e-01, -1.43818450e+00,  1.99395999e-01,\n",
      "          2.01053798e-01,  1.34059548e-01, -1.65375721e+00,\n",
      "         -4.84854877e-01, -9.87016320e-01],\n",
      "        [ 2.42079392e-01,  1.60079710e-02,  1.90308368e+00,\n",
      "         -9.42648649e-01, -8.91903877e-01,  4.79869694e-01,\n",
      "          6.03296876e-01,  1.24931701e-01]],\n",
      "\n",
      "       [[-1.99298513e+00,  7.77447343e-01, -1.56487152e-01,\n",
      "         -1.78499830e+00, -5.63969910e-01, -1.10634637e+00,\n",
      "         -2.63188202e-02, -1.54825115e+00],\n",
      "        [ 1.24631882e+00, -8.46259415e-01,  4.57783103e-01,\n",
      "          6.94750026e-02,  4.44122821e-01, -7.75923014e-01,\n",
      "         -1.47687018e+00,  1.16919622e-01],\n",
      "        [-9.67244983e-01,  5.75357318e-01,  1.05126572e+00,\n",
      "         -1.19445086e+00,  7.20722497e-01,  5.51842570e-01,\n",
      "          1.70269585e+00, -2.69462049e-01],\n",
      "        [ 1.11605346e-01,  2.80386329e+00, -1.08938384e+00,\n",
      "          1.42543232e+00, -4.83064532e-01, -4.05044466e-01,\n",
      "          4.11328465e-01,  1.23228204e+00],\n",
      "        [-1.31385839e+00,  2.61671096e-01, -6.25854909e-01,\n",
      "         -1.20957695e-01,  8.21581185e-02,  9.42253411e-01,\n",
      "         -9.72364008e-01, -9.77489114e-01],\n",
      "        [-9.08835471e-01,  1.32947290e+00,  1.07372008e-01,\n",
      "          1.62557435e+00, -5.63827038e-01, -1.61926401e+00,\n",
      "         -1.52578577e-01, -2.22204995e+00]],\n",
      "\n",
      "       [[-4.89624470e-01, -1.20316815e+00, -1.31469831e-01,\n",
      "         -5.96954882e-01, -2.01150489e+00,  1.86177298e-01,\n",
      "          7.80136287e-01,  7.24589765e-01],\n",
      "        [ 1.13478911e+00, -7.52056062e-01,  9.04152036e-01,\n",
      "         -7.57830977e-01, -1.44720149e+00,  4.69685912e-01,\n",
      "          1.65838033e-01,  6.10874832e-01],\n",
      "        [ 6.64967656e-01, -1.22229803e+00, -9.54118013e-01,\n",
      "          1.26784086e+00, -5.37631869e-01,  8.70525658e-01,\n",
      "         -1.70049131e-01,  7.22164288e-02],\n",
      "        [-1.64656460e+00,  8.64429474e-01, -1.00223422e+00,\n",
      "          6.49292886e-01,  1.26423132e+00,  6.46651089e-01,\n",
      "         -1.27311468e-01,  9.88921523e-01],\n",
      "        [ 2.19865844e-01,  7.80614018e-01,  3.08507621e-01,\n",
      "          4.67704982e-02, -2.06442222e-01,  6.86733574e-02,\n",
      "         -7.04555988e-01, -4.84292150e-01],\n",
      "        [ 1.00046504e+00,  5.20715415e-01,  6.67709708e-01,\n",
      "          6.63000107e-01,  1.24211812e+00, -5.82459569e-01,\n",
      "          2.40452409e-01,  2.06768537e+00]],\n",
      "\n",
      "       [[ 5.34569144e-01,  5.69577873e-01,  3.40718627e-01,\n",
      "          3.00050259e-01, -1.69769251e+00,  7.08206177e-01,\n",
      "         -3.22755963e-01, -1.84007898e-01],\n",
      "        [ 1.57492399e-01,  3.48255366e-01, -1.38439596e+00,\n",
      "          1.65361154e+00, -8.29195738e-01, -8.58333349e-01,\n",
      "         -1.09893358e+00, -1.68586165e-01],\n",
      "        [-4.04518843e-02, -1.18043053e+00,  1.39684483e-01,\n",
      "          9.29484546e-01, -4.30962056e-01,  6.22813344e-01,\n",
      "          1.41302764e-01, -3.82052839e-01],\n",
      "        [-1.58200368e-01, -1.17168164e+00, -7.68629491e-01,\n",
      "         -7.65443146e-01,  1.59079444e+00, -1.02106106e+00,\n",
      "          7.17899740e-01, -5.68227708e-01],\n",
      "        [-9.31846261e-01, -1.60977447e+00,  1.92761135e+00,\n",
      "          9.27045226e-01, -1.83356690e+00,  2.14792943e+00,\n",
      "         -3.31746340e-01,  8.40063512e-01],\n",
      "        [ 9.70199525e-01, -2.81304598e-01, -1.92423427e+00,\n",
      "          7.14260936e-01,  1.97070754e+00,  4.60105956e-01,\n",
      "          8.78064215e-01,  1.48361083e-02]],\n",
      "\n",
      "       [[-6.19770825e-01,  5.75904667e-01,  1.10960200e-01,\n",
      "         -6.22646630e-01, -1.09386444e+00, -1.23499441e+00,\n",
      "         -1.37533617e+00, -1.81351617e-01],\n",
      "        [-3.51545542e-01,  2.38575131e-01, -7.03324914e-01,\n",
      "          4.62184191e-01,  4.83392507e-01, -4.04459298e-01,\n",
      "          1.31590635e-01,  8.77953291e-01],\n",
      "        [-1.82719447e-03,  4.58041532e-03, -8.02193880e-01,\n",
      "          2.19230103e+00,  1.10740340e+00,  1.64130628e+00,\n",
      "          1.87706685e+00,  1.15560436e+00],\n",
      "        [-1.35848689e+00,  1.97244620e+00, -2.12462187e+00,\n",
      "         -1.72527477e-01, -1.00167384e-02, -2.22681761e-01,\n",
      "         -4.68361646e-01,  3.18872035e-01],\n",
      "        [-9.01196539e-01,  5.16173303e-01, -1.17847502e-01,\n",
      "         -5.43451071e-01,  1.87650132e+00,  5.67650020e-01,\n",
      "         -1.79717764e-01,  6.44079626e-01],\n",
      "        [-2.79910088e-01, -8.41508329e-01, -3.47858489e-01,\n",
      "          2.90396839e-01,  1.76227665e+00,  1.05353266e-01,\n",
      "         -1.93509650e+00,  2.12859720e-01]],\n",
      "\n",
      "       [[-6.04263306e-01, -1.55256569e+00,  7.09370598e-02,\n",
      "         -1.41170299e+00,  3.44931602e-01, -6.72944903e-01,\n",
      "         -8.17994028e-02,  3.64634767e-02],\n",
      "        [-1.98380444e-02,  4.36473191e-01, -6.85997427e-01,\n",
      "         -8.23062956e-01,  1.02283917e-01, -1.04753888e+00,\n",
      "          1.32448065e+00, -1.36201310e+00],\n",
      "        [-2.01044750e+00, -1.13352478e-01,  4.57468092e-01,\n",
      "         -7.35393643e-01,  2.31736612e+00,  9.43769395e-01,\n",
      "         -1.49215519e-01,  5.01078963e-01],\n",
      "        [-5.58874190e-01,  1.37647286e-01,  1.39435732e+00,\n",
      "         -1.62768841e-01, -2.73590505e-01, -8.04462433e-01,\n",
      "         -4.69102293e-01,  3.40254247e-01],\n",
      "        [-1.00928940e-01,  4.90857929e-01,  4.29248869e-01,\n",
      "         -7.80552328e-01, -9.18675363e-02, -8.86302590e-01,\n",
      "         -2.62424201e-01,  2.14813307e-01],\n",
      "        [ 8.88125181e-01, -6.69685721e-01,  1.09480870e+00,\n",
      "          3.30247551e-01, -1.07620776e+00, -6.49694681e-01,\n",
      "         -2.71395683e-01, -3.95818949e-01]],\n",
      "\n",
      "       [[-1.63171458e+00, -7.82763124e-01,  1.02397811e+00,\n",
      "          6.81975961e-01,  1.49592233e+00, -1.82275033e+00,\n",
      "         -4.34045672e-01,  6.96747124e-01],\n",
      "        [ 1.29549289e+00,  1.03138793e+00, -8.24956834e-01,\n",
      "          1.00349970e-01,  2.20184207e+00, -1.91249406e+00,\n",
      "          2.91935980e-01, -5.13130307e-01],\n",
      "        [ 2.75982916e-01,  1.22109461e+00, -7.66188443e-01,\n",
      "          2.53996420e+00,  1.05120790e+00, -5.28588854e-02,\n",
      "         -1.17986476e+00,  1.22266340e+00],\n",
      "        [ 1.73499733e-01, -7.40219653e-01, -1.24536526e+00,\n",
      "          1.40116990e-01,  1.93393379e-01,  6.75084054e-01,\n",
      "          2.78551310e-01, -8.81381154e-01],\n",
      "        [-8.81251037e-01, -1.78297907e-01, -2.70837005e-02,\n",
      "         -1.46851623e+00,  3.45354587e-01, -4.48435783e-01,\n",
      "         -6.04031324e-01,  1.52162015e+00],\n",
      "        [ 8.00584257e-01,  3.06050628e-01,  7.43754685e-01,\n",
      "          2.68824965e-01, -2.61611670e-01, -8.65217030e-01,\n",
      "         -1.05881587e-01,  4.27387089e-01]],\n",
      "\n",
      "       [[ 1.30801833e+00,  2.47435600e-01,  1.35734034e+00,\n",
      "         -1.54235291e+00, -1.35955000e+00,  1.82987571e+00,\n",
      "         -6.65228426e-01, -4.57223475e-01],\n",
      "        [-4.78780508e-01,  2.44656518e-01,  6.56987011e-01,\n",
      "         -1.35252610e-01, -2.29976821e+00, -3.65913749e-01,\n",
      "          1.52414668e+00, -4.87820178e-01],\n",
      "        [ 1.27059782e+00,  3.44616383e-01, -8.17215517e-02,\n",
      "          1.44995451e+00, -2.01977110e+00,  6.80833906e-02,\n",
      "         -1.15963519e+00,  4.47121978e-01],\n",
      "        [-2.18872339e-01, -7.59146512e-01, -2.03210548e-01,\n",
      "         -3.80174011e-01,  1.68905795e+00,  1.11550009e+00,\n",
      "          5.60575187e-01, -1.24226105e+00],\n",
      "        [-1.52816725e+00, -1.92645633e+00,  6.93381310e-01,\n",
      "         -3.71513933e-01, -1.93442777e-01, -8.45837355e-01,\n",
      "          9.25307050e-02, -7.44631827e-01],\n",
      "        [-1.42115009e+00,  1.49281725e-01, -5.72346687e-01,\n",
      "          5.84347129e-01,  2.02178407e+00, -1.61636031e+00,\n",
      "         -5.40200830e-01,  7.27968454e-01]],\n",
      "\n",
      "       [[ 4.46867585e-01, -3.46337855e-01,  2.82552801e-02,\n",
      "         -1.10809100e+00,  1.16583645e-01, -6.59765363e-01,\n",
      "          7.73480535e-01,  3.44527394e-01],\n",
      "        [-1.99899778e-01,  7.58096278e-01, -6.46525919e-01,\n",
      "          1.59817767e+00, -1.43930554e+00, -8.20869058e-02,\n",
      "          7.84253329e-02,  8.81377533e-02],\n",
      "        [-1.70151502e-01,  9.33919013e-01,  1.16064954e+00,\n",
      "          6.35553956e-01,  1.51888633e+00,  1.69675398e+00,\n",
      "         -3.13500822e-01,  1.43036342e+00],\n",
      "        [-1.87631994e-01, -1.13842416e+00, -6.78299606e-01,\n",
      "          1.63716599e-01, -1.34825730e+00,  1.03634512e+00,\n",
      "         -4.81711626e-01, -9.08978164e-01],\n",
      "        [ 1.21854827e-01,  1.24448442e+00, -2.33996272e+00,\n",
      "          3.71701688e-01, -6.60250485e-01,  2.45668963e-01,\n",
      "         -2.72058219e-01, -5.33225894e-01],\n",
      "        [ 6.00211740e-01, -9.55182076e-01,  6.39419258e-01,\n",
      "         -1.45557761e-01, -1.97761273e+00, -2.11916924e+00,\n",
      "          1.00110495e+00,  8.81778896e-01]],\n",
      "\n",
      "       [[-1.37312245e+00, -5.60055375e-01, -1.44599974e+00,\n",
      "          2.69173884e+00,  1.72758770e+00, -6.23584926e-01,\n",
      "         -4.32152659e-01,  7.44046092e-01],\n",
      "        [-1.16146231e+00,  1.36143196e+00, -1.42267317e-01,\n",
      "          7.67447591e-01, -4.35990095e-01, -1.56490040e+00,\n",
      "         -1.88378930e-01,  5.47973335e-01],\n",
      "        [-6.81246758e-01, -1.05092239e+00,  1.54790068e+00,\n",
      "         -7.11231709e-01, -1.51326239e+00,  1.55484545e+00,\n",
      "          6.04445934e-01, -1.46059477e+00],\n",
      "        [ 9.59538817e-02, -6.54759526e-01, -4.04752254e-01,\n",
      "         -5.56071699e-01,  8.69748354e-01, -9.54276681e-01,\n",
      "         -5.34972489e-01, -8.67067873e-01],\n",
      "        [-8.06405604e-01,  4.85870034e-01,  2.49787848e-02,\n",
      "          1.59788060e+00, -9.81597602e-01, -2.73424792e+00,\n",
      "         -1.95333976e-02,  2.96979696e-01],\n",
      "        [-5.10259151e-01, -8.10762942e-01,  5.56943417e-01,\n",
      "          1.52492321e+00, -1.45989883e+00,  1.58362138e+00,\n",
      "          1.07836025e-02,  7.98723280e-01]]], dtype=float32)>, <tf.Tensor: id=340, shape=(10, 6, 8), dtype=float32, numpy=\n",
      "array([[[-0.22497743, -1.2290641 , -1.0922115 , -0.35653386,\n",
      "          0.46401492, -0.9766089 ,  0.48773068, -0.27419508],\n",
      "        [ 0.2970801 ,  1.049225  ,  0.55786246,  0.75270766,\n",
      "         -0.5765328 ,  0.30340362,  0.2648355 ,  0.32852566],\n",
      "        [ 0.15069868, -0.5140008 ,  0.16315432,  0.93517   ,\n",
      "         -1.2188479 ,  0.37745568,  0.67389405,  0.53277045],\n",
      "        [ 0.79387665,  1.3422819 ,  1.6663821 ,  1.9552588 ,\n",
      "         -0.24170852,  1.3632898 ,  0.8611462 ,  0.8103589 ],\n",
      "        [ 0.13221622,  0.9642468 , -0.19108261, -0.42752683,\n",
      "         -0.6951408 ,  1.5553627 ,  1.323801  ,  0.10384161],\n",
      "        [ 1.3242549 , -0.22858994,  2.737841  , -0.46794665,\n",
      "          0.282495  ,  1.5657157 , -1.9147006 ,  0.9570211 ]],\n",
      "\n",
      "       [[-0.6273338 , -0.26721683, -0.8084773 ,  0.03651699,\n",
      "          0.5808518 ,  0.9507648 ,  0.72181773, -0.57913285],\n",
      "        [-0.7390854 ,  1.3849045 ,  0.2906153 ,  1.1500288 ,\n",
      "         -0.10895696, -0.00600424, -1.1220355 ,  0.33699664],\n",
      "        [-0.09758442,  0.08888354, -1.0740378 , -0.61085707,\n",
      "          0.8725241 ,  1.2593865 ,  1.1545844 , -0.0335992 ],\n",
      "        [-0.19277495, -0.63374364, -1.1811961 ,  0.37124878,\n",
      "          0.33677134,  1.4269651 ,  1.0506251 ,  0.9155471 ],\n",
      "        [-1.2816311 ,  1.3892686 ,  0.46909907, -0.36035383,\n",
      "         -0.0750894 ,  0.59893686,  1.1755767 , -1.5240071 ],\n",
      "        [ 0.16771944,  0.58561075, -0.29781035,  1.9961995 ,\n",
      "          0.6181005 , -1.5299191 ,  1.17578   ,  1.2811141 ]],\n",
      "\n",
      "       [[-0.210937  , -0.8046055 , -1.7354968 ,  0.79237396,\n",
      "          0.9113417 ,  0.9862546 ,  2.3735087 ,  2.3130262 ],\n",
      "        [ 1.1381936 , -0.47908926,  1.3070616 , -0.93002725,\n",
      "          0.64637387,  0.67676675,  1.3831513 , -0.05689088],\n",
      "        [ 0.39004204, -0.15158862,  1.1195168 , -0.4736876 ,\n",
      "         -0.5310429 , -0.7484231 ,  0.2775847 ,  0.34477302],\n",
      "        [ 0.48544762, -0.8251573 ,  0.76779366, -0.51443124,\n",
      "          0.23465502, -0.28122398,  0.85488683, -1.265046  ],\n",
      "        [-2.2203941 ,  0.5329096 , -0.49779487, -0.98908895,\n",
      "          0.5277945 ,  0.21722959, -2.2062647 ,  0.7128312 ],\n",
      "        [ 1.972784  , -0.4237606 ,  0.03422499,  1.2124441 ,\n",
      "          1.0998855 , -0.1532672 ,  0.03672451,  1.4244504 ]],\n",
      "\n",
      "       [[ 0.9713521 , -0.71908414,  1.4423629 , -1.8250993 ,\n",
      "          0.5561923 , -0.09027396, -0.17233345,  0.04289286],\n",
      "        [ 0.5277948 , -0.36336625, -1.0178213 ,  0.8480152 ,\n",
      "         -1.7279459 , -0.50850916, -1.1541004 ,  0.31835473],\n",
      "        [-0.94786566, -1.112057  , -0.18590516, -0.36020997,\n",
      "         -0.6752187 , -2.4764314 , -0.46841162,  1.6077044 ],\n",
      "        [-0.9496069 ,  0.36075604, -0.265847  ,  1.3644046 ,\n",
      "          0.4926772 ,  1.2740251 ,  0.45735297,  1.0003122 ],\n",
      "        [ 1.4064784 ,  0.7114962 , -0.672798  ,  1.5335503 ,\n",
      "         -0.10481963, -0.40205508,  0.90091777,  0.44115672],\n",
      "        [-0.7481271 ,  0.44130817,  0.6690731 ,  0.14682895,\n",
      "          0.35950235, -0.28685945,  0.14482982, -1.1056368 ]],\n",
      "\n",
      "       [[-0.68283033,  0.39983895,  2.5438628 ,  0.26946673,\n",
      "         -1.8655221 , -0.49878782,  0.15939094, -1.541253  ],\n",
      "        [ 0.3118642 ,  0.01326567, -2.0086415 , -0.48873147,\n",
      "         -0.72460544,  3.4266796 ,  0.10817835,  1.8310122 ],\n",
      "        [-2.8822894 ,  0.03867199, -2.265451  ,  0.9543344 ,\n",
      "          0.91437835, -1.0936347 ,  0.14861752, -0.48679557],\n",
      "        [-1.045406  , -1.5247769 , -1.5316389 , -2.8017275 ,\n",
      "          0.6294846 , -0.93023473, -0.601246  , -1.386105  ],\n",
      "        [-0.7350977 , -0.386937  ,  0.70858896,  0.7595579 ,\n",
      "         -3.0908263 ,  1.3793116 , -0.13353427, -1.1102902 ],\n",
      "        [-2.4271443 ,  0.42967525,  1.5167727 , -1.6648499 ,\n",
      "          0.8461591 ,  0.05207657,  2.4634237 ,  0.4976134 ]],\n",
      "\n",
      "       [[-0.03763973, -0.7633263 ,  0.89441067,  0.45779982,\n",
      "          1.7018372 , -1.7320983 , -2.7598193 ,  0.8686898 ],\n",
      "        [ 0.43347406, -0.5989405 ,  0.92365944,  1.4259714 ,\n",
      "         -1.7870857 , -1.3738345 ,  0.04518197,  0.52809054],\n",
      "        [-1.2216344 ,  1.6268619 ,  0.7808956 , -1.326778  ,\n",
      "         -2.3137095 , -1.5807143 ,  0.2853557 ,  0.79994404],\n",
      "        [ 0.22505133,  0.19948661,  1.6248196 ,  1.1765838 ,\n",
      "          1.0914792 , -0.896029  ,  1.1342653 , -0.10040016],\n",
      "        [-0.99849313,  0.32849038,  0.24708647,  0.7490149 ,\n",
      "         -0.6309871 , -1.3067043 , -0.0874531 , -0.74063396],\n",
      "        [-1.8310398 , -0.11826845,  0.70219725,  0.45609245,\n",
      "          0.17091076,  0.6177613 , -1.0243816 ,  0.73774594]],\n",
      "\n",
      "       [[-0.8091147 , -1.195313  , -1.5116935 , -1.157015  ,\n",
      "         -0.677743  ,  1.5750635 ,  0.1564748 ,  0.6980244 ],\n",
      "        [-0.35003066, -0.11123656, -0.954217  , -1.6973743 ,\n",
      "         -1.255635  ,  0.23196821,  0.19081968,  0.5979431 ],\n",
      "        [ 0.7517537 ,  1.5081205 ,  1.1110901 ,  0.34546703,\n",
      "         -0.16622418,  1.1781604 ,  0.49336183,  0.6836674 ],\n",
      "        [-1.9711986 ,  0.6133298 ,  1.824161  ,  0.12062359,\n",
      "         -0.06619225, -0.9497408 ,  0.16529268, -0.5599371 ],\n",
      "        [-1.5182525 , -0.6848318 , -0.78064543, -0.14583015,\n",
      "         -0.04898462,  0.6630724 , -0.34018362,  0.09496324],\n",
      "        [ 1.8570378 , -0.767402  ,  0.45574597,  1.4127902 ,\n",
      "          1.5235109 , -0.11582471, -0.963665  , -0.51045996]],\n",
      "\n",
      "       [[ 0.74360406,  0.28679302, -0.0811659 , -0.8977834 ,\n",
      "         -0.14754774, -0.19203694, -1.1458213 , -0.78712946],\n",
      "        [ 0.24689122, -0.2604265 ,  0.64420384,  0.6531058 ,\n",
      "          1.1289338 ,  0.39726123,  1.8540238 ,  0.544203  ],\n",
      "        [-0.6415367 , -0.05958245, -0.78232306,  0.14521027,\n",
      "         -0.26637912,  0.5505554 , -0.1927663 , -0.31601217],\n",
      "        [-0.02792722, -0.3096324 , -0.23527318, -0.01045709,\n",
      "          0.14107323, -0.22572753, -0.2730798 ,  0.7642757 ],\n",
      "        [-1.4737544 , -1.1850855 , -0.6284433 , -0.00964187,\n",
      "          1.0944372 , -0.6795543 , -1.773799  , -0.42053702],\n",
      "        [ 0.39378422,  0.0775445 ,  0.7545001 , -0.3984683 ,\n",
      "         -1.0070924 ,  0.5768037 , -0.8502187 , -1.1094478 ]],\n",
      "\n",
      "       [[ 0.11367616,  0.6352089 , -1.4069377 , -0.12387459,\n",
      "          1.7907884 , -1.784097  , -0.46153334,  0.60222906],\n",
      "        [-0.44463584, -0.01037999, -0.1294943 , -0.07041565,\n",
      "         -0.4874726 , -1.2397488 ,  0.14219013,  0.47810772],\n",
      "        [-1.3927854 , -1.740487  ,  0.7516132 ,  0.5017202 ,\n",
      "         -0.5278667 , -1.4419612 ,  0.6039159 , -1.6057347 ],\n",
      "        [-0.8478751 ,  0.9609113 ,  0.40048894, -0.63910615,\n",
      "         -0.94574   , -0.45779127, -1.1287606 ,  0.08390936],\n",
      "        [-0.29180253,  2.0838385 , -0.5507915 ,  0.06194177,\n",
      "         -0.5671376 , -0.26121348,  0.67202413,  1.7511352 ],\n",
      "        [-0.06804068, -0.3702271 ,  0.41481367, -0.5283534 ,\n",
      "         -1.0082258 , -2.1609821 , -0.44097084, -0.8764707 ]],\n",
      "\n",
      "       [[ 2.3494234 ,  1.3535728 ,  0.28611958,  0.49402454,\n",
      "          0.4076818 , -0.59960115, -1.4991685 ,  0.08809251],\n",
      "        [ 1.2330339 ,  0.21883637,  0.387828  , -1.560126  ,\n",
      "          1.1978426 , -1.1664482 , -1.9053891 , -0.79182404],\n",
      "        [-0.7401829 , -2.266716  , -0.4524095 ,  0.13907787,\n",
      "         -0.80344296,  0.8550402 ,  1.0355135 , -0.6163727 ],\n",
      "        [-0.5248519 ,  0.5101087 , -0.08139002,  0.705605  ,\n",
      "          2.1277025 , -0.03633149, -0.8778374 ,  0.17427647],\n",
      "        [-1.4291228 ,  1.4548875 ,  0.20484436, -0.01351676,\n",
      "          1.4675304 ,  0.35266954,  0.03027559,  0.8976755 ],\n",
      "        [ 1.0604167 , -0.61333203,  1.2984861 ,  0.62607986,\n",
      "          1.3587477 , -1.3107979 , -0.3553924 , -0.2683648 ]]],\n",
      "      dtype=float32)>, <tf.Tensor: id=341, shape=(10, 6, 8), dtype=float32, numpy=\n",
      "array([[[-0.45013493,  0.6493428 ,  1.3612618 ,  1.2804337 ,\n",
      "          0.57395524,  0.45788813, -0.89687276, -1.1346323 ],\n",
      "        [ 1.277023  ,  0.06435756, -0.4001893 , -0.40654564,\n",
      "          0.65496725,  0.43978277, -2.3671446 , -1.9321893 ],\n",
      "        [-1.1816393 ,  0.10211802, -0.8716216 ,  1.3186496 ,\n",
      "          0.0774029 , -0.42155993,  0.34397283,  0.19976053],\n",
      "        [-1.079097  , -0.1956583 , -2.6437063 , -0.50025994,\n",
      "          1.8821583 ,  1.0228319 , -0.20137194,  2.097066  ],\n",
      "        [-1.2664381 , -0.40274575, -0.79376316,  0.96706235,\n",
      "          0.7185209 ,  0.84890705,  0.6121862 ,  0.46502385],\n",
      "        [-0.07947198,  1.7294016 ,  0.6912225 , -0.9046304 ,\n",
      "         -0.63104016, -0.32321432,  1.3833103 , -0.4807306 ]],\n",
      "\n",
      "       [[ 1.5929765 , -0.7566073 , -0.69486946,  0.7573979 ,\n",
      "          0.20396757,  0.6473802 ,  0.7240478 , -0.4980258 ],\n",
      "        [-0.87057406, -0.71556914,  0.62376297, -1.0506116 ,\n",
      "         -0.6271433 , -0.90355927,  0.25635135, -0.28865892],\n",
      "        [ 1.0645174 ,  0.70119894,  0.4610444 , -0.5553779 ,\n",
      "          2.083358  , -1.0330708 , -0.4349616 ,  0.02571213],\n",
      "        [ 0.403925  ,  0.29454115, -1.2904809 ,  1.5999104 ,\n",
      "          1.027899  ,  1.794334  ,  2.8776512 , -1.352468  ],\n",
      "        [ 1.7433501 ,  0.47613385, -0.4146817 ,  0.68986815,\n",
      "         -0.2630863 ,  1.0161785 , -0.2951957 ,  0.5754908 ],\n",
      "        [ 0.3710753 , -0.26811898,  0.38804615,  1.601822  ,\n",
      "         -0.25817642,  0.40977588,  0.28861895, -1.704208  ]],\n",
      "\n",
      "       [[-1.5252374 , -0.6404634 , -0.9092093 , -1.0639218 ,\n",
      "          0.44341338, -0.96843296,  1.0097811 ,  0.4615314 ],\n",
      "        [ 2.5445337 , -0.24857496,  2.7584765 ,  1.051868  ,\n",
      "          0.6528027 , -0.68204004,  0.804269  ,  0.7087878 ],\n",
      "        [ 0.5141146 ,  0.41060957,  1.2079301 ,  0.8815213 ,\n",
      "         -0.35690755,  2.033349  ,  0.09025118,  1.9159237 ],\n",
      "        [ 0.11733907,  0.20897675, -1.047293  , -0.43810263,\n",
      "          0.03910788, -0.5943606 ,  0.22088486,  0.02675877],\n",
      "        [ 0.4656728 , -1.0996453 , -1.8056386 , -0.6073798 ,\n",
      "          0.11772051, -2.009135  , -1.6504254 , -0.72453463],\n",
      "        [-0.5897556 ,  0.4130388 , -0.82620734,  1.3140861 ,\n",
      "          2.6629655 ,  0.61899114,  0.7929954 ,  1.7305435 ]],\n",
      "\n",
      "       [[-0.2760846 , -0.27382094,  2.3172812 , -0.41259858,\n",
      "          2.0284123 , -1.3877671 , -0.1144529 , -1.1789125 ],\n",
      "        [-0.20470254,  0.7433442 , -0.1037392 , -0.806906  ,\n",
      "         -1.1302164 , -0.71135217,  1.4362065 , -1.4118909 ],\n",
      "        [ 0.3243368 , -0.6421628 ,  0.29374242,  0.58189803,\n",
      "          1.4042376 , -1.6090198 , -1.0314214 ,  0.9902702 ],\n",
      "        [-0.73958445, -0.68902385,  0.37444907,  0.54116935,\n",
      "         -1.830055  ,  0.92817396,  1.1189984 ,  0.9600945 ],\n",
      "        [ 0.65957123,  0.1726653 ,  0.97010976,  0.30382055,\n",
      "         -0.34367082,  1.2410535 , -0.14889583, -1.0956509 ],\n",
      "        [ 1.9088998 ,  0.7355622 ,  0.02721005, -0.57162434,\n",
      "         -0.28061622, -0.612103  ,  0.57602537, -0.9630281 ]],\n",
      "\n",
      "       [[ 0.4397102 ,  0.13823049,  0.11398645, -2.36234   ,\n",
      "         -1.2920079 , -0.32528445, -1.2410958 , -1.8918735 ],\n",
      "        [-0.9940083 , -1.7949475 , -1.0482371 ,  0.44709033,\n",
      "         -0.9366329 , -0.5255424 ,  0.22146083,  2.680623  ],\n",
      "        [-0.8116962 ,  1.1546961 ,  0.8432777 , -0.34893525,\n",
      "          0.07530785,  0.4139823 ,  0.27464056,  0.7461427 ],\n",
      "        [-0.7018003 , -0.8836607 ,  0.44333693,  0.05420039,\n",
      "          1.2602991 ,  1.5544435 ,  0.24049258,  0.72905564],\n",
      "        [ 0.56916827, -0.37184894,  0.38156483,  1.0033786 ,\n",
      "          1.8070819 ,  0.3448607 ,  0.7466409 ,  0.34870154],\n",
      "        [-0.23966129,  0.43054995, -0.90422195,  0.5245985 ,\n",
      "          0.09447347, -0.19504872, -0.30893758,  0.1468917 ]],\n",
      "\n",
      "       [[ 1.1923385 ,  0.4478518 ,  1.5881582 ,  0.6828758 ,\n",
      "          0.8979524 ,  0.7479597 ,  0.93397456, -0.81744564],\n",
      "        [-0.23960865, -0.11352555,  0.8391378 , -0.48238128,\n",
      "          1.3049234 , -1.1444672 , -1.142696  ,  0.991194  ],\n",
      "        [ 0.15677696,  0.24107714, -1.2349265 , -0.6072753 ,\n",
      "          0.8625821 ,  0.4751423 , -0.79457337,  0.69593644],\n",
      "        [ 0.10959623, -1.548396  ,  0.7221418 ,  0.7073017 ,\n",
      "          1.3512162 , -3.0265956 , -1.1687276 ,  0.49441865],\n",
      "        [ 0.22451575,  0.20494828,  1.3348758 , -0.3418755 ,\n",
      "         -1.1712716 ,  0.03209252, -0.47411147, -0.07785659],\n",
      "        [ 0.33040133, -0.07343307,  3.1934977 ,  0.8702188 ,\n",
      "         -1.7770709 , -2.675349  ,  1.0215253 ,  0.9162504 ]],\n",
      "\n",
      "       [[-0.17112356,  1.4211259 ,  1.0307548 , -1.8413455 ,\n",
      "         -0.2410333 ,  0.28157958, -1.4476686 , -0.8632522 ],\n",
      "        [-0.78929764,  0.65150046,  0.07205437, -0.68795586,\n",
      "          0.03372612, -0.24683817,  0.51066613,  1.772254  ],\n",
      "        [ 0.1494429 , -0.5457829 , -0.69945955, -0.25331703,\n",
      "          1.1130224 ,  0.45019746, -0.85113585, -0.10246994],\n",
      "        [ 1.1254575 , -0.44755003,  0.31001133,  0.72382736,\n",
      "         -0.11270899, -0.79272103, -0.5383074 , -0.05878805],\n",
      "        [ 0.5301456 ,  0.13669306,  0.18317245,  0.72820765,\n",
      "          0.9584461 ,  2.0564165 , -0.3281938 ,  1.6547421 ],\n",
      "        [-0.48308364,  0.08268066, -0.71575654,  0.64754206,\n",
      "          1.5731857 , -2.0880241 , -0.47901183, -2.3726733 ]],\n",
      "\n",
      "       [[-0.32307458,  0.2896093 , -0.75414556,  2.5070264 ,\n",
      "          0.16742882, -1.0959728 ,  1.3303756 , -0.8395585 ],\n",
      "        [-0.18251924,  0.47823647,  0.81164664,  0.9184984 ,\n",
      "         -0.7462618 ,  0.02110655,  0.27381644,  0.92819375],\n",
      "        [-0.32845634,  0.5168265 , -1.5299213 , -0.39233822,\n",
      "          0.8408026 , -0.15857576,  0.54653835, -0.22019218],\n",
      "        [-0.8013543 , -0.04715462, -0.922311  , -1.114133  ,\n",
      "         -0.36636195,  2.860687  , -1.2991385 , -0.9882367 ],\n",
      "        [ 1.2176248 , -0.40122136,  0.21561465,  2.5560932 ,\n",
      "         -2.5146961 ,  0.46926567, -0.12082517,  1.1495672 ],\n",
      "        [-0.7823381 , -0.78571004,  0.19459926,  2.3650248 ,\n",
      "         -0.5562134 , -0.26609066, -1.8781197 ,  1.3964567 ]],\n",
      "\n",
      "       [[ 0.7757625 ,  0.36376548,  0.48781452,  0.75541604,\n",
      "          0.04017303,  1.3951845 ,  0.35688242,  0.38399616],\n",
      "        [ 0.2356401 , -0.76529515,  0.03106445,  1.0047154 ,\n",
      "          0.43683153, -0.18303311,  0.24654372,  0.74619716],\n",
      "        [-0.91441643, -0.7037316 , -0.18303733, -2.4869103 ,\n",
      "          0.73931134, -0.31813163,  0.46950272, -0.9699458 ],\n",
      "        [ 3.2255845 , -0.2773909 ,  0.99246204,  0.87437606,\n",
      "         -0.5594167 , -1.9795655 , -0.32615545,  2.141217  ],\n",
      "        [ 0.08721057, -0.19745922,  1.520234  ,  0.49976984,\n",
      "          0.862444  , -0.59798515,  0.05992834, -1.9015975 ],\n",
      "        [ 0.22747144, -0.1688604 , -0.53061634,  1.2605088 ,\n",
      "         -0.38680163, -0.7999826 , -0.57632506, -0.84643406]],\n",
      "\n",
      "       [[ 0.04801071,  1.3179917 ,  1.99262   ,  0.95342976,\n",
      "          1.5274508 , -0.7477939 ,  0.14880574, -0.05985966],\n",
      "        [ 0.06504304, -0.45748937,  0.41879585, -0.2587362 ,\n",
      "          0.91217864, -1.0458009 , -0.45706657,  0.40870297],\n",
      "        [-0.36836419, -0.07838001, -1.6146854 ,  0.4909614 ,\n",
      "          0.25950405,  0.48675305, -1.2170849 ,  0.9275781 ],\n",
      "        [ 0.00775103,  0.4082007 ,  0.8027701 ,  0.7413717 ,\n",
      "          0.9004083 , -0.97557867, -1.958924  ,  0.1179644 ],\n",
      "        [-1.3529038 ,  0.8283353 ,  0.40211082,  0.38161212,\n",
      "         -0.01940235,  1.0377318 ,  0.528756  ,  1.6330537 ],\n",
      "        [-0.61563796, -0.6278309 , -0.5389313 , -0.54874206,\n",
      "          0.50092244, -0.07382368, -0.4753006 ,  0.3656323 ]]],\n",
      "      dtype=float32)>, <tf.Tensor: id=342, shape=(10, 6, 8), dtype=float32, numpy=\n",
      "array([[[-0.9317167 , -1.3654959 , -0.7544049 ,  0.95849115,\n",
      "          2.025497  , -0.07468864,  1.1365764 , -0.5406317 ],\n",
      "        [ 0.4600702 ,  0.95519054, -0.71910304, -0.09467081,\n",
      "         -0.02610845, -1.058821  ,  0.01681936, -1.2778406 ],\n",
      "        [-0.39525872,  0.13407066, -0.7260724 , -0.39952126,\n",
      "         -1.2392908 , -1.5062621 ,  0.8752128 ,  0.03894349],\n",
      "        [ 1.6449441 ,  1.5910885 ,  1.2078228 , -1.238032  ,\n",
      "          0.050221  , -0.01287169, -1.7906821 ,  0.7423184 ],\n",
      "        [-0.4914955 ,  0.46032116, -0.22075649, -0.03088408,\n",
      "         -0.28132764,  0.35067904, -0.38225797, -1.7230214 ],\n",
      "        [ 0.39166138,  0.0582615 , -0.8990818 , -2.0588963 ,\n",
      "          0.40455124,  0.55056494,  0.6499351 , -0.18787728]],\n",
      "\n",
      "       [[-0.17061321,  2.0349433 ,  0.57622623,  1.4182764 ,\n",
      "          1.6873233 ,  0.50030184, -1.2406393 ,  0.70462525],\n",
      "        [-0.20409036, -1.9013832 , -2.4339685 ,  0.5700568 ,\n",
      "          0.17483239,  1.5886152 ,  0.74957776,  0.91304225],\n",
      "        [ 0.51880145,  0.5271641 , -0.670155  ,  0.854408  ,\n",
      "         -0.8746993 , -0.07002521, -0.91832805,  0.27156043],\n",
      "        [ 0.21627808,  0.07065659, -0.44624326, -2.0473926 ,\n",
      "          0.6447449 , -0.11758041, -1.230614  ,  0.09464768],\n",
      "        [ 0.02984443, -0.91208297,  0.5536543 , -0.9905957 ,\n",
      "          1.0988293 , -0.7741761 ,  2.3927693 ,  0.41943777],\n",
      "        [ 1.9746101 , -0.90807635, -1.517737  , -0.7199074 ,\n",
      "         -1.2960271 ,  0.8347651 ,  0.5697859 ,  1.6874901 ]],\n",
      "\n",
      "       [[ 0.58709145,  0.03462827, -0.28923392,  0.7370505 ,\n",
      "          0.8246877 ,  0.7026291 , -0.35752073, -0.13090296],\n",
      "        [ 1.4675832 ,  1.5325469 ,  0.2346737 , -0.3823071 ,\n",
      "         -0.35501313,  0.7211184 ,  3.0755208 , -0.96395296],\n",
      "        [ 0.53816414,  0.47170228, -1.0644276 ,  1.1843898 ,\n",
      "         -1.3114495 , -0.36404386,  0.1919514 ,  0.26360163],\n",
      "        [-0.8522508 ,  1.1442832 , -0.24133416, -0.14322701,\n",
      "         -2.3931856 ,  0.74327016, -0.0747209 , -1.2920325 ],\n",
      "        [-1.2443315 ,  1.2475251 ,  0.55008656, -0.18178253,\n",
      "          1.2424597 ,  0.49488264,  0.5044107 , -0.28451574],\n",
      "        [-0.32707146,  0.4221186 ,  0.26844475, -0.6858069 ,\n",
      "          0.73382735, -0.547287  ,  2.4756734 ,  0.15764743]],\n",
      "\n",
      "       [[-1.4420698 ,  0.6358425 ,  0.5466049 ,  1.9868312 ,\n",
      "         -0.84871   , -0.01440371, -2.3733795 , -1.4127283 ],\n",
      "        [ 0.19286627,  0.33672974, -1.9267788 , -0.8000656 ,\n",
      "          0.5527375 ,  0.05022636,  0.47974005,  0.7991309 ],\n",
      "        [-0.16246524,  1.6499953 , -0.6236807 ,  0.35771874,\n",
      "          1.0153545 , -0.80326426, -1.004172  , -0.2013252 ],\n",
      "        [ 0.698616  ,  1.7834215 ,  1.7830238 ,  0.1439764 ,\n",
      "         -0.2714871 , -0.90830946,  0.25375807,  0.8840524 ],\n",
      "        [ 0.10179887, -0.8134597 , -1.651197  ,  2.1255417 ,\n",
      "          0.50196457, -0.01322058, -0.0068532 ,  0.9778428 ],\n",
      "        [ 0.3246374 , -0.50416833, -0.5463392 ,  0.557203  ,\n",
      "         -0.06890698,  1.2347356 , -0.39079586, -1.1725034 ]],\n",
      "\n",
      "       [[ 1.4336892 , -0.7187387 ,  0.17582297, -0.5797843 ,\n",
      "          0.7691812 , -1.0152521 , -0.39221472, -0.77711594],\n",
      "        [-0.1385123 ,  0.4001814 , -0.11936274,  1.0586216 ,\n",
      "          0.811588  , -0.2010468 ,  0.4707387 ,  1.6689153 ],\n",
      "        [-0.37879393,  0.00919191,  0.22975096, -1.0836718 ,\n",
      "         -0.65487814, -1.3839049 ,  0.5062873 , -0.96578074],\n",
      "        [-0.2512447 , -0.46883053,  1.6568487 ,  0.1900439 ,\n",
      "          0.52391344, -1.5315018 ,  0.44030508, -0.30615222],\n",
      "        [-0.96654946,  1.091039  , -1.3354378 ,  0.44134346,\n",
      "         -0.6450842 , -0.7196276 , -0.98617405, -0.4587451 ],\n",
      "        [-1.5454384 ,  1.3619224 ,  0.8734197 ,  0.32201633,\n",
      "         -0.10937364, -1.2672824 , -1.6578878 ,  0.22109623]],\n",
      "\n",
      "       [[ 1.3753334 ,  0.8720653 , -0.5407438 , -0.58073825,\n",
      "          1.2507824 , -1.9695373 ,  0.49367175,  0.7545897 ],\n",
      "        [-0.7977331 , -0.2155819 ,  0.9278287 ,  0.5037383 ,\n",
      "          1.441324  ,  0.8497631 , -0.72317106, -0.4410463 ],\n",
      "        [-0.24532828,  0.9797798 , -0.787586  , -0.46043622,\n",
      "          0.44787937, -0.78507143, -0.3764929 , -0.09858545],\n",
      "        [ 0.10349312,  0.0281686 ,  3.3570876 , -0.82173455,\n",
      "          0.45731202, -0.12654346,  0.10351021, -0.5534363 ],\n",
      "        [-0.53652024, -1.6060287 , -0.21486612,  1.4347409 ,\n",
      "          0.06551752,  0.29977062,  0.70499164, -0.31379366],\n",
      "        [ 0.4163492 , -0.7499092 , -1.2242608 ,  0.89335304,\n",
      "         -2.1634967 ,  0.6147404 ,  0.23959845, -0.19237913]],\n",
      "\n",
      "       [[ 0.09697779,  0.53157085, -1.2971835 , -0.9324841 ,\n",
      "          0.08830334, -1.5210018 ,  0.44338784, -0.21747246],\n",
      "        [ 1.5355444 ,  1.170164  , -0.4067522 , -0.2724973 ,\n",
      "         -0.1752709 ,  0.6118387 ,  2.6096654 ,  1.5223202 ],\n",
      "        [ 1.0489485 ,  0.67473376, -2.8544176 ,  1.3786271 ,\n",
      "          0.37956703,  0.5324664 ,  1.7057654 , -1.8862706 ],\n",
      "        [-0.49458566,  1.369301  ,  0.90198797,  0.98186636,\n",
      "          1.1686163 , -0.31148922, -0.4514952 , -1.5701776 ],\n",
      "        [ 0.71201843,  0.51061213, -1.0750166 ,  1.4113519 ,\n",
      "         -0.89766294,  1.105002  , -0.23407362, -0.39964023],\n",
      "        [ 0.77154696, -1.0017523 , -0.7491007 ,  0.48922837,\n",
      "          2.3912814 , -0.3791821 , -1.5158622 ,  0.97175705]],\n",
      "\n",
      "       [[ 0.9781171 ,  2.3111012 ,  0.10435326, -0.73362815,\n",
      "         -1.8848791 ,  0.05832611, -0.5213331 ,  0.6157731 ],\n",
      "        [-1.6458374 ,  1.1383961 , -0.11683355,  1.458975  ,\n",
      "          0.4479382 ,  0.16664384, -0.44378302,  0.68739194],\n",
      "        [-0.5207439 , -0.75785774,  1.4742191 ,  0.09455594,\n",
      "         -0.05173427, -0.22742815, -0.61716515,  1.5590224 ],\n",
      "        [-0.3926643 ,  0.8395193 , -0.7469816 , -0.604227  ,\n",
      "          0.97548676, -0.82848066,  2.6186466 , -0.71602035],\n",
      "        [ 0.00580191,  0.9398154 ,  2.0755813 ,  1.3687847 ,\n",
      "         -0.25299495,  0.91303885,  1.5770358 , -0.37734532],\n",
      "        [ 2.783321  ,  0.2810456 ,  1.9996451 , -0.47190478,\n",
      "         -0.01960475,  0.6136861 , -1.0177535 , -0.68340486]],\n",
      "\n",
      "       [[ 0.2835891 , -0.6095506 ,  1.0105964 ,  0.558148  ,\n",
      "          0.03581987,  0.05213925,  0.21039052, -0.1469291 ],\n",
      "        [ 1.2326418 , -0.208892  ,  0.9502704 , -1.4229969 ,\n",
      "         -0.30367333, -1.0501937 , -0.3392016 , -0.31704015],\n",
      "        [ 0.10524101, -1.074769  , -0.47488174,  1.6425788 ,\n",
      "         -0.94299847,  0.44735587, -0.02914317,  1.7458752 ],\n",
      "        [-0.9337674 , -0.00959201, -0.13660514, -0.64030695,\n",
      "         -0.9273303 ,  0.90153426, -0.31725714,  0.590963  ],\n",
      "        [-1.8030283 , -1.6135657 , -1.1140434 ,  0.50151885,\n",
      "          0.7130691 ,  0.48515284, -0.5735739 , -1.2006172 ],\n",
      "        [ 0.1998618 , -1.1990265 ,  0.70967126,  0.5370514 ,\n",
      "         -1.039006  , -1.3049093 ,  0.78099537, -0.13156773]],\n",
      "\n",
      "       [[ 0.7280762 , -0.13707896, -0.11682395,  0.5984755 ,\n",
      "          1.0283371 ,  0.6583894 , -0.30565733, -1.2747773 ],\n",
      "        [ 0.46495634,  0.6637472 , -1.4532181 , -1.8918725 ,\n",
      "         -0.57461405, -1.6909547 ,  0.2778748 , -0.37085778],\n",
      "        [ 0.21430236, -0.0337192 , -1.390146  , -1.3433977 ,\n",
      "         -1.2635586 ,  0.06345861, -0.3355192 , -1.6678662 ],\n",
      "        [ 1.6072365 ,  0.78774726, -0.26562902,  2.414654  ,\n",
      "          1.0383228 , -0.6328154 , -0.09809462,  0.6087489 ],\n",
      "        [ 0.40515864,  0.20578636,  0.19603148, -1.7219007 ,\n",
      "          0.39276016,  1.8321189 , -1.2323434 ,  0.7709661 ],\n",
      "        [ 0.8661166 ,  1.2883115 ,  0.99803966, -0.19824193,\n",
      "         -0.5179137 , -0.27775493, -0.15554768, -0.36200446]]],\n",
      "      dtype=float32)>]\n"
     ]
    }
   ],
   "source": [
    "x = tf.random.normal(shape=(10, 36, 8))\n",
    "x_split = tf.split(x,  num_or_size_splits=6, axis=1)\n",
    "print(x_split)"
   ]
  },
  {
   "cell_type": "code",
   "execution_count": 66,
   "metadata": {},
   "outputs": [
    {
     "name": "stdout",
     "output_type": "stream",
     "text": [
      "(1, 36, 8)\n",
      "(3, 36, 8)\n",
      "(4, 36, 8)\n",
      "(2, 36, 8)\n"
     ]
    }
   ],
   "source": [
    "x = tf.random.normal(shape=(10, 36, 8))\n",
    "x_split = tf.split(x,  num_or_size_splits=[1, 3, 4, 2], axis=0)\n",
    "print(x_split[0].shape)\n",
    "print(x_split[1].shape)\n",
    "print(x_split[2].shape)\n",
    "print(x_split[3].shape)"
   ]
  },
  {
   "cell_type": "markdown",
   "metadata": {},
   "source": [
    "###### 3.7 最值、求和、求平均\n",
    "常用的API有\n",
    "- tf.reduce_max(input_tensor, axis=None, keepdims=False, name=None)\n",
    "   - input_tensor: 输入的张量\n",
    "   - axis：默认无，输入整数指定维度\n",
    "   - keepdims： 默认False，如果为True，保持长度为1的降维结果\n",
    "- tf.reduce_min(input_tensor, axis=None, keepdims=False, name=None)\n",
    "   - input_tensor: 输入的张量\n",
    "   - axis：默认无，输入整数指定维度\n",
    "   - keepdims： 默认False，如果为True，保持长度为1的降维结果\n",
    "- tf.reduce_mean(input_tensor, axis=None, keepdims=False, name=None)\n",
    "   - input_tensor: 输入的张量\n",
    "   - axis ： 指定轴，默认是无\n",
    "   - keepdims： 默认False，如果为True，保持长度为1的降维结果\n",
    "- tf.reduce_sum(input_tensor, axis=None, keepdims=False, name=None)\n",
    "   - input_tensor: 输入的张量\n",
    "   - axis：默认无，输入整数指定维度\n",
    "   - keepdims： 默认False，如果为True，保持长度为1的降维结果"
   ]
  },
  {
   "cell_type": "markdown",
   "metadata": {},
   "source": [
    "- tf.reduce_max()"
   ]
  },
  {
   "cell_type": "code",
   "execution_count": 67,
   "metadata": {},
   "outputs": [
    {
     "name": "stdout",
     "output_type": "stream",
     "text": [
      "tf.Tensor([0.6738167 1.7648095 1.2331243 1.7317996 1.0951444], shape=(5,), dtype=float32)\n"
     ]
    }
   ],
   "source": [
    "## 计算每一行的最大值\n",
    "x = tf.random.normal(shape=(5, 8))\n",
    "max_x = tf.reduce_max(x, axis=1)\n",
    "print(max_x)"
   ]
  },
  {
   "cell_type": "code",
   "execution_count": 68,
   "metadata": {},
   "outputs": [
    {
     "name": "stdout",
     "output_type": "stream",
     "text": [
      "tf.Tensor(\n",
      "[2.087539   0.8748216  1.2279806  0.20632099 1.8624457  1.1786594\n",
      " 0.7474394  1.2335429 ], shape=(8,), dtype=float32)\n"
     ]
    }
   ],
   "source": [
    "## 计算每一个列的最大值\n",
    "x = tf.random.normal(shape=(5, 8))\n",
    "max_x = tf.reduce_max(x, axis=0)\n",
    "print(max_x)"
   ]
  },
  {
   "cell_type": "code",
   "execution_count": 69,
   "metadata": {},
   "outputs": [
    {
     "name": "stdout",
     "output_type": "stream",
     "text": [
      "tf.Tensor(\n",
      "[[0.49015433 1.5925027  1.2152114  1.1646665  1.2922052  0.6717084\n",
      "  2.5914154  0.82126445]], shape=(1, 8), dtype=float32)\n"
     ]
    }
   ],
   "source": [
    "## 计算列的最大值\n",
    "x = tf.random.normal(shape=(5, 8))\n",
    "max_x = tf.reduce_max(x, axis=0, keepdims=True)\n",
    "print(max_x)"
   ]
  },
  {
   "cell_type": "markdown",
   "metadata": {},
   "source": [
    "- tf.reduce_min()"
   ]
  },
  {
   "cell_type": "code",
   "execution_count": 70,
   "metadata": {},
   "outputs": [
    {
     "name": "stdout",
     "output_type": "stream",
     "text": [
      "tf.Tensor([-1.150631  -1.173811  -2.1953568 -1.7143418 -1.101163 ], shape=(5,), dtype=float32)\n"
     ]
    }
   ],
   "source": [
    "## 计算每一行的最小值\n",
    "x = tf.random.normal(shape=(5, 8))\n",
    "min_x = tf.reduce_min(x, axis=1)\n",
    "print(min_x)"
   ]
  },
  {
   "cell_type": "code",
   "execution_count": 71,
   "metadata": {},
   "outputs": [
    {
     "name": "stdout",
     "output_type": "stream",
     "text": [
      "tf.Tensor(\n",
      "[-1.5672271  -1.1065336  -1.0739305  -0.03639418 -0.9110738  -1.6136085\n",
      " -0.89393497 -1.5914811 ], shape=(8,), dtype=float32)\n"
     ]
    }
   ],
   "source": [
    "## 计算每一列的最小值\n",
    "x = tf.random.normal(shape=(5, 8))\n",
    "min_x = tf.reduce_min(x, axis=0)\n",
    "print(min_x)"
   ]
  },
  {
   "cell_type": "markdown",
   "metadata": {},
   "source": [
    "- tf.reduce_sum()"
   ]
  },
  {
   "cell_type": "code",
   "execution_count": 72,
   "metadata": {},
   "outputs": [
    {
     "name": "stdout",
     "output_type": "stream",
     "text": [
      "tf.Tensor([ 0.68000305  5.0005207  -1.3601891  -2.728256    3.3014998 ], shape=(5,), dtype=float32)\n"
     ]
    }
   ],
   "source": [
    "## 计算每一行的和\n",
    "x = tf.random.normal(shape=(5, 8))\n",
    "sum_x = tf.reduce_sum(x, axis=1)\n",
    "print(sum_x)"
   ]
  },
  {
   "cell_type": "code",
   "execution_count": 73,
   "metadata": {},
   "outputs": [
    {
     "name": "stdout",
     "output_type": "stream",
     "text": [
      "tf.Tensor(\n",
      "[-0.5998887   2.9315696  -1.6175611  -1.1681287   1.492939    3.5629745\n",
      " -1.0424508   0.13694954], shape=(8,), dtype=float32)\n"
     ]
    }
   ],
   "source": [
    "## 计算每一列的和\n",
    "x = tf.random.normal(shape=(5, 8))\n",
    "sum_x = tf.reduce_sum(x, axis=0)\n",
    "print(sum_x)"
   ]
  },
  {
   "cell_type": "markdown",
   "metadata": {},
   "source": [
    "- tf.reduce_mean()"
   ]
  },
  {
   "cell_type": "code",
   "execution_count": 74,
   "metadata": {},
   "outputs": [
    {
     "name": "stdout",
     "output_type": "stream",
     "text": [
      "tf.Tensor([ 0.37614542 -0.15003885 -0.12314424 -0.13249388  0.08156884], shape=(5,), dtype=float32)\n"
     ]
    }
   ],
   "source": [
    "## 计算每一行的和\n",
    "x = tf.random.normal(shape=(5, 8))\n",
    "mean_x = tf.reduce_mean(x, axis=1)\n",
    "print(mean_x)"
   ]
  },
  {
   "cell_type": "code",
   "execution_count": 75,
   "metadata": {},
   "outputs": [
    {
     "name": "stdout",
     "output_type": "stream",
     "text": [
      "tf.Tensor(\n",
      "[-0.19591394  0.2451292  -0.04721308 -0.04219742 -0.2574648  -0.4121201\n",
      "  0.14078711  1.4714377 ], shape=(8,), dtype=float32)\n"
     ]
    }
   ],
   "source": [
    "## 计算每一列的和\n",
    "x = tf.random.normal(shape=(5, 8))\n",
    "mean_x = tf.reduce_mean(x, axis=0)\n",
    "print(mean_x)"
   ]
  },
  {
   "cell_type": "markdown",
   "metadata": {},
   "source": [
    "## Tensor的简单计算例子-4\n",
    "计算准确率"
   ]
  },
  {
   "cell_type": "code",
   "execution_count": 83,
   "metadata": {},
   "outputs": [
    {
     "name": "stdout",
     "output_type": "stream",
     "text": [
      "predice label:  tf.Tensor(\n",
      "[[0.17423686 0.07854483 0.11213039 0.10216103 0.02080369 0.0276627\n",
      "  0.10654581 0.05096596 0.2604492  0.06649952]\n",
      " [0.06291128 0.03102389 0.1293974  0.05663304 0.12190648 0.3273551\n",
      "  0.05661255 0.00664825 0.13803378 0.06947822]\n",
      " [0.08104989 0.15314898 0.10750614 0.04984705 0.0628926  0.14591156\n",
      "  0.24445109 0.02870728 0.1083285  0.01815688]], shape=(3, 10), dtype=float32)\n",
      "准确率为：  0.1\n"
     ]
    }
   ],
   "source": [
    "x = tf.random.normal(shape=(200, 10))\n",
    "pred = tf.nn.softmax(x, axis=1)\n",
    "print(\"predice label: \",pred[:3, :])\n",
    "y = tf.random.uniform([200], dtype=tf.int64, maxval=10)\n",
    "## 对y进行one-hot\n",
    "y = tf.one_hot(y, 10)\n",
    "pred_ = tf.equal(tf.argmax(pred, 1), tf.argmax(y, 1))\n",
    "pred_ = tf.cast(pred_, dtype=tf.float32)\n",
    "accuracy = tf.reduce_mean(pred_)\n",
    "print(\"准确率为： \", accuracy.numpy())"
   ]
  },
  {
   "cell_type": "markdown",
   "metadata": {
    "collapsed": true
   },
   "source": [
    "## Tensor的简单计算例子-5\n",
    "关于张量的范数计算，常用的范数计算有L1范数，L2范数以及无穷范数。<br />\n",
    "- L1范数：向量x的所有元素的绝对值的和\n",
    "- L2范数：向量x的所有元素的平方根计算\n",
    "- 无穷范数：向量x的所有元素的绝对值的最大值<br />\n",
    "计算范数的API：<br />\n",
    "- tf.norm(\n",
    "    tensor,\n",
    "    ord='euclidean',\n",
    "    axis=None,\n",
    "    keepdims=None,\n",
    "    name=None\n",
    " )\n",
    "  - tensor： 输入的张量\n",
    "  - ord：指定计算范数的方式，ord的取值有'fro', 'euclidean', 1, 2, np.inf，默认是euclidean，对于向量来说，计算的是2-范数，对于矩阵来说计  算的是Frobenius范数。\n",
    "  - axis： 默认是None，\n",
    "  - keepdims: 如果为True，则将轴上指示的轴保留为大小1。否则，将从输出形状中删除轴上的尺寸。"
   ]
  },
  {
   "cell_type": "code",
   "execution_count": 1,
   "metadata": {
    "collapsed": true
   },
   "outputs": [],
   "source": [
    "import tensorflow as tf"
   ]
  },
  {
   "cell_type": "code",
   "execution_count": 5,
   "metadata": {},
   "outputs": [
    {
     "name": "stdout",
     "output_type": "stream",
     "text": [
      "(2, 3, 3)\n"
     ]
    }
   ],
   "source": [
    "x = tf.constant([[[1, 2, 3],[4, 5, 6], [7, 8, 9]], [[10, 11, 12], [13, 14, 15], [16, 17, 18]]], dtype=tf.float32)\n",
    "print(x.shape)"
   ]
  },
  {
   "cell_type": "code",
   "execution_count": 6,
   "metadata": {},
   "outputs": [
    {
     "name": "stdout",
     "output_type": "stream",
     "text": [
      "L1 norm:  tf.Tensor(171.0, shape=(), dtype=float32)\n"
     ]
    }
   ],
   "source": [
    "x_l1 = tf.norm(x, ord=1)\n",
    "print(\"L1 norm: \", x_l1)"
   ]
  },
  {
   "cell_type": "code",
   "execution_count": 7,
   "metadata": {},
   "outputs": [
    {
     "name": "stdout",
     "output_type": "stream",
     "text": [
      "L2 norm:  tf.Tensor(45.92385, shape=(), dtype=float32)\n"
     ]
    }
   ],
   "source": [
    "#with tf.device(\"/device:GPU:0\"):\n",
    "x_l2 = tf.norm(x)\n",
    "print(\"L2 norm: \", x_l2)"
   ]
  },
  {
   "cell_type": "code",
   "execution_count": 14,
   "metadata": {},
   "outputs": [
    {
     "name": "stdout",
     "output_type": "stream",
     "text": [
      "L2 norm:  tf.Tensor([[[45.92385]]], shape=(1, 1, 1), dtype=float32)\n"
     ]
    }
   ],
   "source": [
    "x_l2 = tf.norm(x, ord=2, keepdims=True)\n",
    "print(\"L2 norm: \", x_l2)"
   ]
  },
  {
   "cell_type": "code",
   "execution_count": 13,
   "metadata": {},
   "outputs": [
    {
     "name": "stdout",
     "output_type": "stream",
     "text": [
      "fro norm:  tf.Tensor([16.881943 42.708313], shape=(2,), dtype=float32)\n"
     ]
    }
   ],
   "source": [
    "### 计算矩阵范数，要指定axis\n",
    "x_fro = tf.norm(x, ord=\"fro\", axis=[1, 2])\n",
    "print(\"fro norm: \", x_fro)"
   ]
  },
  {
   "cell_type": "code",
   "execution_count": 15,
   "metadata": {},
   "outputs": [
    {
     "name": "stdout",
     "output_type": "stream",
     "text": [
      "无穷范数：  tf.Tensor(18.0, shape=(), dtype=float32)\n"
     ]
    }
   ],
   "source": [
    "import numpy as np\n",
    "x_inf = tf.norm(x, ord=np.inf)\n",
    "print(\"无穷范数： \", x_inf)"
   ]
  },
  {
   "cell_type": "code",
   "execution_count": null,
   "metadata": {
    "collapsed": true
   },
   "outputs": [],
   "source": []
  }
 ],
 "metadata": {
  "kernelspec": {
   "display_name": "tf20",
   "language": "python",
   "name": "tf20"
  },
  "language_info": {
   "codemirror_mode": {
    "name": "ipython",
    "version": 3
   },
   "file_extension": ".py",
   "mimetype": "text/x-python",
   "name": "python",
   "nbconvert_exporter": "python",
   "pygments_lexer": "ipython3",
   "version": "3.6.6"
  }
 },
 "nbformat": 4,
 "nbformat_minor": 2
}
