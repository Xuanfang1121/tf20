{
 "cells": [
  {
   "cell_type": "markdown",
   "metadata": {},
   "source": [
    "### tensorflow 简单的计算例子"
   ]
  },
  {
   "cell_type": "markdown",
   "metadata": {},
   "source": [
    " #### 这里用到了tensorflow的API包含：\n",
    "  1. 表示常量\n",
    "    tf.constant(value, dtype=None, shape=None, name='Const')\n",
    "  2. 矩阵乘法\n",
    "    tf.matmul(a, b, transpose_a=False, transpose_b=False, adjoint_a=False, adjoint_b=False, a_is_sparse=False,   b_is_sparse=False, name=None)\n",
    "     其中 a是tensor，b是tensor，大小，rank 与a相同\n",
    "     transpose_a：如果为True，a 在矩阵乘法前进行转置，transpose_b：如果为True，b 在矩阵乘法前进行转置，\n",
    "     adjoint_a: 如果为True，a 在矩阵乘法之前共轭和转置，adjoint_b: 如果为True，b 在矩阵乘法之前共轭和转置,\n",
    "     a_is_sparse: 如果 True,a 被视为稀疏矩阵，b_is_sparse: 如果 True,b 被视为稀疏矩阵，\n",
    " 常见的类型dtype有tf.float32, tf.float64, tf.int32, tf.int64, string"
   ]
  },
  {
   "cell_type": "code",
   "execution_count": 1,
   "metadata": {
    "collapsed": true
   },
   "outputs": [],
   "source": [
    "import tensorflow as tf"
   ]
  },
  {
   "cell_type": "markdown",
   "metadata": {},
   "source": [
    "#### API举例"
   ]
  },
  {
   "cell_type": "code",
   "execution_count": 13,
   "metadata": {},
   "outputs": [
    {
     "name": "stdout",
     "output_type": "stream",
     "text": [
      "tensor x1:  tf.Tensor(\n",
      "[[1. 1. 1.]\n",
      " [1. 1. 1.]\n",
      " [1. 1. 1.]], shape=(3, 3), dtype=float32)\n",
      "tensor x2:  tf.Tensor(\n",
      "[[1 1 1]\n",
      " [1 1 1]\n",
      " [1 1 1]], shape=(3, 3), dtype=int32)\n",
      "x1:  [[1. 1. 1.]\n",
      " [1. 1. 1.]\n",
      " [1. 1. 1.]]\n",
      "x2:  [[1 1 1]\n",
      " [1 1 1]\n",
      " [1 1 1]]\n"
     ]
    }
   ],
   "source": [
    "x1 = tf.constant(1, dtype=tf.float32, shape=(3, 3), name=\"constant_x1\")\n",
    "print(\"tensor x1: \", x1)\n",
    "print(\"x1: \", x1.numpy())"
   ]
  },
  {
   "cell_type": "code",
   "execution_count": 14,
   "metadata": {},
   "outputs": [
    {
     "name": "stdout",
     "output_type": "stream",
     "text": [
      "tensor x2:  tf.Tensor(\n",
      "[[1 1 1]\n",
      " [1 1 1]\n",
      " [1 1 1]], shape=(3, 3), dtype=int32)\n",
      "x2:  [[1 1 1]\n",
      " [1 1 1]\n",
      " [1 1 1]]\n"
     ]
    }
   ],
   "source": [
    "x2 = tf.constant([[1, 1, 1], [1, 1, 1], [1, 1, 1]])\n",
    "print(\"tensor x2: \", x2)\n",
    "print(\"x2: \", x2.numpy())"
   ]
  },
  {
   "cell_type": "code",
   "execution_count": 15,
   "metadata": {},
   "outputs": [
    {
     "name": "stdout",
     "output_type": "stream",
     "text": [
      "tensor x3 tf.Tensor(\n",
      "[[1 2 3]\n",
      " [5 7 9]], shape=(2, 3), dtype=int32)\n",
      "x3 [[1 2 3]\n",
      " [5 7 9]]\n"
     ]
    }
   ],
   "source": [
    "import numpy as np\n",
    "x3 = tf.constant(np.array([[1, 2, 3], [5, 7, 9]]))\n",
    "print(\"tensor x3\", x3)\n",
    "print(\"x3: \", x3.numpy())"
   ]
  },
  {
   "cell_type": "markdown",
   "metadata": {},
   "source": [
    "#### 数组除法计算"
   ]
  },
  {
   "cell_type": "code",
   "execution_count": 2,
   "metadata": {},
   "outputs": [
    {
     "name": "stdout",
     "output_type": "stream",
     "text": [
      "tensor z_1 tf.Tensor([33.33333333], shape=(1,), dtype=float64)\n",
      "z_1 [33.33333333]\n",
      "z_2 [33]\n"
     ]
    }
   ],
   "source": [
    "x = tf.constant([100])\n",
    "y = tf.constant([3])\n",
    "z_1 = x / y\n",
    "z_2 = x // y\n",
    "print(\"tensor z_1\", z_1)\n",
    "print(\"z_1: \", z_1.numpy())\n",
    "print(\"z_2: \", z_2.numpy())"
   ]
  },
  {
   "cell_type": "code",
   "execution_count": 3,
   "metadata": {},
   "outputs": [
    {
     "name": "stdout",
     "output_type": "stream",
     "text": [
      "tensor z:  tf.Tensor([33  3], shape=(2,), dtype=int32)\n",
      "z:  [33  3]\n"
     ]
    }
   ],
   "source": [
    "x = tf.constant([100, 300])\n",
    "y = tf.constant([3, 100])\n",
    "z = x // y\n",
    "print(\"tensor z: \", z)\n",
    "print(\"z: \", z.numpy())"
   ]
  },
  {
   "cell_type": "code",
   "execution_count": 4,
   "metadata": {},
   "outputs": [
    {
     "name": "stdout",
     "output_type": "stream",
     "text": [
      "tensor:  tf.Tensor(\n",
      "[[ 50 100]\n",
      " [  2   3]], shape=(2, 2), dtype=int32)\n",
      "final result z:  [[ 50 100]\n",
      " [  2   3]]\n"
     ]
    }
   ],
   "source": [
    "x = tf.constant([[100, 300], [200, 900]])\n",
    "y = tf.constant([[2, 3], [100, 300]])\n",
    "z = x // y\n",
    "print(\"tensor: \", z)\n",
    "print(\"final result z: \", z.numpy())"
   ]
  },
  {
   "cell_type": "markdown",
   "metadata": {},
   "source": [
    "#### 数组乘法的例子"
   ]
  },
  {
   "cell_type": "code",
   "execution_count": 10,
   "metadata": {},
   "outputs": [
    {
     "name": "stdout",
     "output_type": "stream",
     "text": [
      "z:  [[1100]]\n"
     ]
    }
   ],
   "source": [
    "x = tf.constant([[100, 300]])\n",
    "y = tf.constant([[2], [3]])\n",
    "z = tf.matmul(x, y)\n",
    "print(\"z: \", z.numpy())"
   ]
  },
  {
   "cell_type": "code",
   "execution_count": 11,
   "metadata": {},
   "outputs": [
    {
     "name": "stdout",
     "output_type": "stream",
     "text": [
      "result:  [[ 400  500]\n",
      " [1100 1400]]\n"
     ]
    }
   ],
   "source": [
    "x = tf.constant([[100, 200], [300, 500]])\n",
    "y = tf.constant([[2, 3], [1, 1]])\n",
    "z = tf.matmul(x, y)\n",
    "print(\"result: \", z.numpy())"
   ]
  },
  {
   "cell_type": "code",
   "execution_count": null,
   "metadata": {
    "collapsed": true
   },
   "outputs": [],
   "source": []
  }
 ],
 "metadata": {
  "kernelspec": {
   "display_name": "Python 3",
   "language": "python",
   "name": "python3"
  },
  "language_info": {
   "codemirror_mode": {
    "name": "ipython",
    "version": 3
   },
   "file_extension": ".py",
   "mimetype": "text/x-python",
   "name": "python",
   "nbconvert_exporter": "python",
   "pygments_lexer": "ipython3",
   "version": "3.5.4"
  }
 },
 "nbformat": 4,
 "nbformat_minor": 2
}
