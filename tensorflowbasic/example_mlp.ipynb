{
 "cells": [
  {
   "cell_type": "markdown",
   "metadata": {},
   "source": [
    "## 线性回归--Boston数据集\n",
    "- 波士顿房价数据集是统计的20世纪70年代中期波士顿郊区房价的中位数，统计了当时郊区部分的犯罪率、房产税等共计13个特征，统计出房价，试图根据这些特征确定房价。本例子是属于回归模型的案例。在数据集中包含506组数据，其中404是训练样本，剩下的102组数据作为验证样本。\n",
    "- 数据集特征介绍\n",
    "   - CRIM：城镇人均犯罪率；<br />\n",
    "   - ZN：住宅用地超过 25000 sq.ft. 的比例 <br />\n",
    "   - INDUS：城镇非零售商用土地的比例 <br />\n",
    "   - CHAS：查理斯河空变量（如果边界是河流，则为1；否则为0）<br />\n",
    "   - NOX：一氧化氮浓度 <br />\n",
    "   - RM：住宅平均房间数 <br />\n",
    "   - AGE：1940 年之前建成的自用房屋比例 <br />\n",
    "   - DIS：到波士顿五个中心区域的加权距离 <br />\n",
    "   - RAD：辐射性公路的接近指数 <br />\n",
    "   - TAX：每 10000 美元的全值财产税率 <br />\n",
    "   - PTRATIO：城镇师生比例 <br />\n",
    "   - B：1000（Bk-0.63）^ 2，其中 Bk 指代城镇中黑人的比例 <br />\n",
    "   - LSTAT：人口中地位低下者的比例\n",
    "- 模型介绍\n",
    "   - 加载数据集，这里利用tensorflow高阶API keras里的自带的数据集boston\n",
    "   - 搭建网络层，这里采用全连接层\n",
    "   - 训练过程"
   ]
  },
  {
   "cell_type": "code",
   "execution_count": 1,
   "metadata": {
    "collapsed": true
   },
   "outputs": [],
   "source": [
    "import tensorflow as tf"
   ]
  },
  {
   "cell_type": "code",
   "execution_count": 2,
   "metadata": {
    "collapsed": true
   },
   "outputs": [],
   "source": [
    "def read_data():\n",
    "    (x_train, y_train), (x_test, y_test) = tf.keras.datasets.boston_housing.load_data(path='C:/Users/xiaofang/company_tf/data/boston_housing.npz',\n",
    "                                                                                      test_split=0.2,\n",
    "                                                                                      seed=113)\n",
    "    print(\"train data shape\", x_train.shape)\n",
    "    print(\"y train data shape\", y_train.shape)\n",
    "    print(\"test data shape\", x_test.shape)\n",
    "    print(\"y test data shape\", y_test.shape)\n",
    "    return x_train, y_train, x_test, y_test"
   ]
  },
  {
   "cell_type": "code",
   "execution_count": 3,
   "metadata": {
    "collapsed": true
   },
   "outputs": [],
   "source": [
    "def LRmodel():\n",
    "    model = tf.keras.Sequential()\n",
    "    model.add(tf.keras.layers.Dense(128, activation=\"relu\"))\n",
    "    model.add(tf.keras.layers.Dropout(0.2))\n",
    "    model.add(tf.keras.layers.Dense(64, activation=\"relu\"))\n",
    "    model.add(tf.keras.layers.Dropout(0.2))\n",
    "    model.add(tf.keras.layers.Dense(10, activation=\"relu\"))\n",
    "    model.add(tf.keras.layers.Dropout(0.2))\n",
    "    model.add(tf.keras.layers.Dense(1, activation=\"relu\"))\n",
    "    model.compile(loss=\"mse\", optimizer=\"adam\", metrics=['mae'])\n",
    "    return model"
   ]
  },
  {
   "cell_type": "code",
   "execution_count": 4,
   "metadata": {
    "collapsed": true
   },
   "outputs": [],
   "source": [
    "import matplotlib.pyplot as plt\n",
    "plt.switch_backend('agg')\n",
    "%matplotlib inline\n",
    "\n",
    "def main():\n",
    "    ## 加载数据集\n",
    "    x_train, y_train, x_test, y_test = read_data()\n",
    "    ## model\n",
    "    model = LRmodel()\n",
    "    my_callbacks = [tf.keras.callbacks.EarlyStopping(monitor='val_loss', patience=3)]\n",
    "    history = model.fit(x_train, y_train, validation_data=(x_test, y_test), epochs=20, batch_size=64, \n",
    "                        callbacks=my_callbacks)\n",
    "    print(\"training finish\")\n",
    "    ## predict\n",
    "    pred = model.predict(x_test)\n",
    "    # int(\"model predict result: \", pred)\n",
    "    ## 显示model的loss情况\n",
    "    fig1 = plt.figure()\n",
    "    plt.plot(history.history[\"loss\"], \"r\", linewidth=3.0)\n",
    "    plt.plot(history.history[\"val_loss\"], \"b\", linewidth=3.0)\n",
    "    plt.legend(['Training loss', 'Validation Loss'],fontsize=18)\n",
    "    plt.xlabel('Epochs ',fontsize=16)\n",
    "    plt.ylabel('Loss',fontsize=16)\n",
    "    plt.title('Loss Curves :CNN',fontsize=16)\n",
    "    fig1.savefig('training_loss.png')\n",
    "    plt.show()"
   ]
  },
  {
   "cell_type": "code",
   "execution_count": 5,
   "metadata": {},
   "outputs": [
    {
     "name": "stdout",
     "output_type": "stream",
     "text": [
      "train data shape (404, 13)\n",
      "y train data shape (404,)\n",
      "test data shape (102, 13)\n",
      "y test data shape (102,)\n",
      "Train on 404 samples, validate on 102 samples\n",
      "Epoch 1/20\n",
      "404/404 [==============================] - 1s 2ms/sample - loss: 513.9397 - mae: 19.8529 - val_loss: 304.4604 - val_mae: 15.2607\n",
      "Epoch 2/20\n",
      "404/404 [==============================] - 0s 91us/sample - loss: 368.4501 - mae: 15.7625 - val_loss: 89.6836 - val_mae: 6.6485\n",
      "Epoch 3/20\n",
      "404/404 [==============================] - 0s 96us/sample - loss: 288.8119 - mae: 13.3370 - val_loss: 167.6676 - val_mae: 10.3972\n",
      "Epoch 4/20\n",
      "404/404 [==============================] - 0s 96us/sample - loss: 231.5159 - mae: 12.0700 - val_loss: 156.0311 - val_mae: 10.0070\n",
      "Epoch 5/20\n",
      "404/404 [==============================] - 0s 106us/sample - loss: 209.8608 - mae: 11.1490 - val_loss: 113.5387 - val_mae: 8.0456\n",
      "training finish\n"
     ]
    },
    {
     "data": {
      "image/png": "[encoded data removed]",
      "text/plain": [
       "<Figure size 432x288 with 1 Axes>"
      ]
     },
     "metadata": {
      "needs_background": "light"
     },
     "output_type": "display_data"
    }
   ],
   "source": [
    "if __name__ == \"__main__\":\n",
    "    main()"
   ]
  },
  {
   "cell_type": "code",
   "execution_count": null,
   "metadata": {
    "collapsed": true
   },
   "outputs": [],
   "source": []
  }
 ],
 "metadata": {
  "kernelspec": {
   "display_name": "tensorflowgpu20",
   "language": "python",
   "name": "tensorflowgpu20"
  },
  "language_info": {
   "codemirror_mode": {
    "name": "ipython",
    "version": 3
   },
   "file_extension": ".py",
   "mimetype": "text/x-python",
   "name": "python",
   "nbconvert_exporter": "python",
   "pygments_lexer": "ipython3",
   "version": "3.6.9"
  }
 },
 "nbformat": 4,
 "nbformat_minor": 2
}
